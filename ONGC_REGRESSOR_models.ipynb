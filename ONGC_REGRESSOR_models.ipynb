{
  "nbformat": 4,
  "nbformat_minor": 0,
  "metadata": {
    "colab": {
      "provenance": []
    },
    "kernelspec": {
      "name": "python3",
      "display_name": "Python 3"
    },
    "language_info": {
      "name": "python"
    }
  },
  "cells": [
    {
      "cell_type": "code",
      "execution_count": null,
      "metadata": {
        "id": "dPfMqBdE7TOM"
      },
      "outputs": [],
      "source": [
        "import numpy as np\n",
        "import matplotlib.pyplot as plt\n",
        "import pandas as pd"
      ]
    },
    {
      "cell_type": "code",
      "source": [
        "df=pd.read_csv('/content/ONGC.csv')\n",
        "df"
      ],
      "metadata": {
        "colab": {
          "base_uri": "https://localhost:8080/",
          "height": 634
        },
        "id": "g-0hkjlW7k7M",
        "outputId": "a4e28d69-bafc-47a5-8565-0655ade01329"
      },
      "execution_count": null,
      "outputs": [
        {
          "output_type": "execute_result",
          "data": {
            "text/plain": [
              "            Date Symbol Series  Prev Close    Open   High     Low    Last  \\\n",
              "0     2000-01-03   ONGC     EQ      207.70  205.00  214.4  205.00  214.00   \n",
              "1     2000-01-04   ONGC     EQ      213.45  201.50  209.7  201.00  209.00   \n",
              "2     2000-01-05   ONGC     EQ      206.55  201.00  223.1  200.50  223.10   \n",
              "3     2000-01-06   ONGC     EQ      223.10  234.00  234.9  217.60  217.60   \n",
              "4     2000-01-07   ONGC     EQ      219.30  223.00  223.0  213.00  215.70   \n",
              "...          ...    ...    ...         ...     ...    ...     ...     ...   \n",
              "5301  2021-04-26   ONGC     EQ      102.40  105.25  105.7  102.50  102.80   \n",
              "5302  2021-04-27   ONGC     EQ      102.80  102.80  104.0  102.80  103.30   \n",
              "5303  2021-04-28   ONGC     EQ      103.20  103.75  104.4  103.30  104.05   \n",
              "5304  2021-04-29   ONGC     EQ      103.90  104.90  105.9  103.55  104.30   \n",
              "5305  2021-04-30   ONGC     EQ      104.05  104.15  112.7  103.30  108.20   \n",
              "\n",
              "       Close    VWAP    Volume      Turnover    Trades  Deliverable Volume  \\\n",
              "0     213.45  209.91      9600  2.015090e+11       NaN                 NaN   \n",
              "1     206.55  206.26     17900  3.692030e+11       NaN                 NaN   \n",
              "2     223.10  215.46     27000  5.817490e+11       NaN                 NaN   \n",
              "3     219.30  223.42     35600  7.953680e+11       NaN                 NaN   \n",
              "4     215.75  215.19     11400  2.453145e+11       NaN                 NaN   \n",
              "...      ...     ...       ...           ...       ...                 ...   \n",
              "5301  102.80  103.86  11797791  1.225355e+14   63132.0           3024740.0   \n",
              "5302  103.20  103.42   8886250  9.189768e+13   46923.0           3802836.0   \n",
              "5303  103.90  103.90   6887787  7.156081e+13   33659.0           2533669.0   \n",
              "5304  104.05  104.39  14990087  1.564876e+14   54416.0           4613745.0   \n",
              "5305  108.15  109.79  81358264  8.932632e+14  248419.0          15306987.0   \n",
              "\n",
              "      %Deliverble  \n",
              "0             NaN  \n",
              "1             NaN  \n",
              "2             NaN  \n",
              "3             NaN  \n",
              "4             NaN  \n",
              "...           ...  \n",
              "5301       0.2564  \n",
              "5302       0.4279  \n",
              "5303       0.3678  \n",
              "5304       0.3078  \n",
              "5305       0.1881  \n",
              "\n",
              "[5306 rows x 15 columns]"
            ],
            "text/html": [
              "\n",
              "  <div id=\"df-adcbea75-5038-458a-afba-a2673f168765\" class=\"colab-df-container\">\n",
              "    <div>\n",
              "<style scoped>\n",
              "    .dataframe tbody tr th:only-of-type {\n",
              "        vertical-align: middle;\n",
              "    }\n",
              "\n",
              "    .dataframe tbody tr th {\n",
              "        vertical-align: top;\n",
              "    }\n",
              "\n",
              "    .dataframe thead th {\n",
              "        text-align: right;\n",
              "    }\n",
              "</style>\n",
              "<table border=\"1\" class=\"dataframe\">\n",
              "  <thead>\n",
              "    <tr style=\"text-align: right;\">\n",
              "      <th></th>\n",
              "      <th>Date</th>\n",
              "      <th>Symbol</th>\n",
              "      <th>Series</th>\n",
              "      <th>Prev Close</th>\n",
              "      <th>Open</th>\n",
              "      <th>High</th>\n",
              "      <th>Low</th>\n",
              "      <th>Last</th>\n",
              "      <th>Close</th>\n",
              "      <th>VWAP</th>\n",
              "      <th>Volume</th>\n",
              "      <th>Turnover</th>\n",
              "      <th>Trades</th>\n",
              "      <th>Deliverable Volume</th>\n",
              "      <th>%Deliverble</th>\n",
              "    </tr>\n",
              "  </thead>\n",
              "  <tbody>\n",
              "    <tr>\n",
              "      <th>0</th>\n",
              "      <td>2000-01-03</td>\n",
              "      <td>ONGC</td>\n",
              "      <td>EQ</td>\n",
              "      <td>207.70</td>\n",
              "      <td>205.00</td>\n",
              "      <td>214.4</td>\n",
              "      <td>205.00</td>\n",
              "      <td>214.00</td>\n",
              "      <td>213.45</td>\n",
              "      <td>209.91</td>\n",
              "      <td>9600</td>\n",
              "      <td>2.015090e+11</td>\n",
              "      <td>NaN</td>\n",
              "      <td>NaN</td>\n",
              "      <td>NaN</td>\n",
              "    </tr>\n",
              "    <tr>\n",
              "      <th>1</th>\n",
              "      <td>2000-01-04</td>\n",
              "      <td>ONGC</td>\n",
              "      <td>EQ</td>\n",
              "      <td>213.45</td>\n",
              "      <td>201.50</td>\n",
              "      <td>209.7</td>\n",
              "      <td>201.00</td>\n",
              "      <td>209.00</td>\n",
              "      <td>206.55</td>\n",
              "      <td>206.26</td>\n",
              "      <td>17900</td>\n",
              "      <td>3.692030e+11</td>\n",
              "      <td>NaN</td>\n",
              "      <td>NaN</td>\n",
              "      <td>NaN</td>\n",
              "    </tr>\n",
              "    <tr>\n",
              "      <th>2</th>\n",
              "      <td>2000-01-05</td>\n",
              "      <td>ONGC</td>\n",
              "      <td>EQ</td>\n",
              "      <td>206.55</td>\n",
              "      <td>201.00</td>\n",
              "      <td>223.1</td>\n",
              "      <td>200.50</td>\n",
              "      <td>223.10</td>\n",
              "      <td>223.10</td>\n",
              "      <td>215.46</td>\n",
              "      <td>27000</td>\n",
              "      <td>5.817490e+11</td>\n",
              "      <td>NaN</td>\n",
              "      <td>NaN</td>\n",
              "      <td>NaN</td>\n",
              "    </tr>\n",
              "    <tr>\n",
              "      <th>3</th>\n",
              "      <td>2000-01-06</td>\n",
              "      <td>ONGC</td>\n",
              "      <td>EQ</td>\n",
              "      <td>223.10</td>\n",
              "      <td>234.00</td>\n",
              "      <td>234.9</td>\n",
              "      <td>217.60</td>\n",
              "      <td>217.60</td>\n",
              "      <td>219.30</td>\n",
              "      <td>223.42</td>\n",
              "      <td>35600</td>\n",
              "      <td>7.953680e+11</td>\n",
              "      <td>NaN</td>\n",
              "      <td>NaN</td>\n",
              "      <td>NaN</td>\n",
              "    </tr>\n",
              "    <tr>\n",
              "      <th>4</th>\n",
              "      <td>2000-01-07</td>\n",
              "      <td>ONGC</td>\n",
              "      <td>EQ</td>\n",
              "      <td>219.30</td>\n",
              "      <td>223.00</td>\n",
              "      <td>223.0</td>\n",
              "      <td>213.00</td>\n",
              "      <td>215.70</td>\n",
              "      <td>215.75</td>\n",
              "      <td>215.19</td>\n",
              "      <td>11400</td>\n",
              "      <td>2.453145e+11</td>\n",
              "      <td>NaN</td>\n",
              "      <td>NaN</td>\n",
              "      <td>NaN</td>\n",
              "    </tr>\n",
              "    <tr>\n",
              "      <th>...</th>\n",
              "      <td>...</td>\n",
              "      <td>...</td>\n",
              "      <td>...</td>\n",
              "      <td>...</td>\n",
              "      <td>...</td>\n",
              "      <td>...</td>\n",
              "      <td>...</td>\n",
              "      <td>...</td>\n",
              "      <td>...</td>\n",
              "      <td>...</td>\n",
              "      <td>...</td>\n",
              "      <td>...</td>\n",
              "      <td>...</td>\n",
              "      <td>...</td>\n",
              "      <td>...</td>\n",
              "    </tr>\n",
              "    <tr>\n",
              "      <th>5301</th>\n",
              "      <td>2021-04-26</td>\n",
              "      <td>ONGC</td>\n",
              "      <td>EQ</td>\n",
              "      <td>102.40</td>\n",
              "      <td>105.25</td>\n",
              "      <td>105.7</td>\n",
              "      <td>102.50</td>\n",
              "      <td>102.80</td>\n",
              "      <td>102.80</td>\n",
              "      <td>103.86</td>\n",
              "      <td>11797791</td>\n",
              "      <td>1.225355e+14</td>\n",
              "      <td>63132.0</td>\n",
              "      <td>3024740.0</td>\n",
              "      <td>0.2564</td>\n",
              "    </tr>\n",
              "    <tr>\n",
              "      <th>5302</th>\n",
              "      <td>2021-04-27</td>\n",
              "      <td>ONGC</td>\n",
              "      <td>EQ</td>\n",
              "      <td>102.80</td>\n",
              "      <td>102.80</td>\n",
              "      <td>104.0</td>\n",
              "      <td>102.80</td>\n",
              "      <td>103.30</td>\n",
              "      <td>103.20</td>\n",
              "      <td>103.42</td>\n",
              "      <td>8886250</td>\n",
              "      <td>9.189768e+13</td>\n",
              "      <td>46923.0</td>\n",
              "      <td>3802836.0</td>\n",
              "      <td>0.4279</td>\n",
              "    </tr>\n",
              "    <tr>\n",
              "      <th>5303</th>\n",
              "      <td>2021-04-28</td>\n",
              "      <td>ONGC</td>\n",
              "      <td>EQ</td>\n",
              "      <td>103.20</td>\n",
              "      <td>103.75</td>\n",
              "      <td>104.4</td>\n",
              "      <td>103.30</td>\n",
              "      <td>104.05</td>\n",
              "      <td>103.90</td>\n",
              "      <td>103.90</td>\n",
              "      <td>6887787</td>\n",
              "      <td>7.156081e+13</td>\n",
              "      <td>33659.0</td>\n",
              "      <td>2533669.0</td>\n",
              "      <td>0.3678</td>\n",
              "    </tr>\n",
              "    <tr>\n",
              "      <th>5304</th>\n",
              "      <td>2021-04-29</td>\n",
              "      <td>ONGC</td>\n",
              "      <td>EQ</td>\n",
              "      <td>103.90</td>\n",
              "      <td>104.90</td>\n",
              "      <td>105.9</td>\n",
              "      <td>103.55</td>\n",
              "      <td>104.30</td>\n",
              "      <td>104.05</td>\n",
              "      <td>104.39</td>\n",
              "      <td>14990087</td>\n",
              "      <td>1.564876e+14</td>\n",
              "      <td>54416.0</td>\n",
              "      <td>4613745.0</td>\n",
              "      <td>0.3078</td>\n",
              "    </tr>\n",
              "    <tr>\n",
              "      <th>5305</th>\n",
              "      <td>2021-04-30</td>\n",
              "      <td>ONGC</td>\n",
              "      <td>EQ</td>\n",
              "      <td>104.05</td>\n",
              "      <td>104.15</td>\n",
              "      <td>112.7</td>\n",
              "      <td>103.30</td>\n",
              "      <td>108.20</td>\n",
              "      <td>108.15</td>\n",
              "      <td>109.79</td>\n",
              "      <td>81358264</td>\n",
              "      <td>8.932632e+14</td>\n",
              "      <td>248419.0</td>\n",
              "      <td>15306987.0</td>\n",
              "      <td>0.1881</td>\n",
              "    </tr>\n",
              "  </tbody>\n",
              "</table>\n",
              "<p>5306 rows × 15 columns</p>\n",
              "</div>\n",
              "    <div class=\"colab-df-buttons\">\n",
              "\n",
              "  <div class=\"colab-df-container\">\n",
              "    <button class=\"colab-df-convert\" onclick=\"convertToInteractive('df-adcbea75-5038-458a-afba-a2673f168765')\"\n",
              "            title=\"Convert this dataframe to an interactive table.\"\n",
              "            style=\"display:none;\">\n",
              "\n",
              "  <svg xmlns=\"http://www.w3.org/2000/svg\" height=\"24px\" viewBox=\"0 -960 960 960\">\n",
              "    <path d=\"M120-120v-720h720v720H120Zm60-500h600v-160H180v160Zm220 220h160v-160H400v160Zm0 220h160v-160H400v160ZM180-400h160v-160H180v160Zm440 0h160v-160H620v160ZM180-180h160v-160H180v160Zm440 0h160v-160H620v160Z\"/>\n",
              "  </svg>\n",
              "    </button>\n",
              "\n",
              "  <style>\n",
              "    .colab-df-container {\n",
              "      display:flex;\n",
              "      gap: 12px;\n",
              "    }\n",
              "\n",
              "    .colab-df-convert {\n",
              "      background-color: #E8F0FE;\n",
              "      border: none;\n",
              "      border-radius: 50%;\n",
              "      cursor: pointer;\n",
              "      display: none;\n",
              "      fill: #1967D2;\n",
              "      height: 32px;\n",
              "      padding: 0 0 0 0;\n",
              "      width: 32px;\n",
              "    }\n",
              "\n",
              "    .colab-df-convert:hover {\n",
              "      background-color: #E2EBFA;\n",
              "      box-shadow: 0px 1px 2px rgba(60, 64, 67, 0.3), 0px 1px 3px 1px rgba(60, 64, 67, 0.15);\n",
              "      fill: #174EA6;\n",
              "    }\n",
              "\n",
              "    .colab-df-buttons div {\n",
              "      margin-bottom: 4px;\n",
              "    }\n",
              "\n",
              "    [theme=dark] .colab-df-convert {\n",
              "      background-color: #3B4455;\n",
              "      fill: #D2E3FC;\n",
              "    }\n",
              "\n",
              "    [theme=dark] .colab-df-convert:hover {\n",
              "      background-color: #434B5C;\n",
              "      box-shadow: 0px 1px 3px 1px rgba(0, 0, 0, 0.15);\n",
              "      filter: drop-shadow(0px 1px 2px rgba(0, 0, 0, 0.3));\n",
              "      fill: #FFFFFF;\n",
              "    }\n",
              "  </style>\n",
              "\n",
              "    <script>\n",
              "      const buttonEl =\n",
              "        document.querySelector('#df-adcbea75-5038-458a-afba-a2673f168765 button.colab-df-convert');\n",
              "      buttonEl.style.display =\n",
              "        google.colab.kernel.accessAllowed ? 'block' : 'none';\n",
              "\n",
              "      async function convertToInteractive(key) {\n",
              "        const element = document.querySelector('#df-adcbea75-5038-458a-afba-a2673f168765');\n",
              "        const dataTable =\n",
              "          await google.colab.kernel.invokeFunction('convertToInteractive',\n",
              "                                                    [key], {});\n",
              "        if (!dataTable) return;\n",
              "\n",
              "        const docLinkHtml = 'Like what you see? Visit the ' +\n",
              "          '<a target=\"_blank\" href=https://colab.research.google.com/notebooks/data_table.ipynb>data table notebook</a>'\n",
              "          + ' to learn more about interactive tables.';\n",
              "        element.innerHTML = '';\n",
              "        dataTable['output_type'] = 'display_data';\n",
              "        await google.colab.output.renderOutput(dataTable, element);\n",
              "        const docLink = document.createElement('div');\n",
              "        docLink.innerHTML = docLinkHtml;\n",
              "        element.appendChild(docLink);\n",
              "      }\n",
              "    </script>\n",
              "  </div>\n",
              "\n",
              "\n",
              "<div id=\"df-48d2a336-937c-41fb-a61e-17eebf5d3bbc\">\n",
              "  <button class=\"colab-df-quickchart\" onclick=\"quickchart('df-48d2a336-937c-41fb-a61e-17eebf5d3bbc')\"\n",
              "            title=\"Suggest charts\"\n",
              "            style=\"display:none;\">\n",
              "\n",
              "<svg xmlns=\"http://www.w3.org/2000/svg\" height=\"24px\"viewBox=\"0 0 24 24\"\n",
              "     width=\"24px\">\n",
              "    <g>\n",
              "        <path d=\"M19 3H5c-1.1 0-2 .9-2 2v14c0 1.1.9 2 2 2h14c1.1 0 2-.9 2-2V5c0-1.1-.9-2-2-2zM9 17H7v-7h2v7zm4 0h-2V7h2v10zm4 0h-2v-4h2v4z\"/>\n",
              "    </g>\n",
              "</svg>\n",
              "  </button>\n",
              "\n",
              "<style>\n",
              "  .colab-df-quickchart {\n",
              "      --bg-color: #E8F0FE;\n",
              "      --fill-color: #1967D2;\n",
              "      --hover-bg-color: #E2EBFA;\n",
              "      --hover-fill-color: #174EA6;\n",
              "      --disabled-fill-color: #AAA;\n",
              "      --disabled-bg-color: #DDD;\n",
              "  }\n",
              "\n",
              "  [theme=dark] .colab-df-quickchart {\n",
              "      --bg-color: #3B4455;\n",
              "      --fill-color: #D2E3FC;\n",
              "      --hover-bg-color: #434B5C;\n",
              "      --hover-fill-color: #FFFFFF;\n",
              "      --disabled-bg-color: #3B4455;\n",
              "      --disabled-fill-color: #666;\n",
              "  }\n",
              "\n",
              "  .colab-df-quickchart {\n",
              "    background-color: var(--bg-color);\n",
              "    border: none;\n",
              "    border-radius: 50%;\n",
              "    cursor: pointer;\n",
              "    display: none;\n",
              "    fill: var(--fill-color);\n",
              "    height: 32px;\n",
              "    padding: 0;\n",
              "    width: 32px;\n",
              "  }\n",
              "\n",
              "  .colab-df-quickchart:hover {\n",
              "    background-color: var(--hover-bg-color);\n",
              "    box-shadow: 0 1px 2px rgba(60, 64, 67, 0.3), 0 1px 3px 1px rgba(60, 64, 67, 0.15);\n",
              "    fill: var(--button-hover-fill-color);\n",
              "  }\n",
              "\n",
              "  .colab-df-quickchart-complete:disabled,\n",
              "  .colab-df-quickchart-complete:disabled:hover {\n",
              "    background-color: var(--disabled-bg-color);\n",
              "    fill: var(--disabled-fill-color);\n",
              "    box-shadow: none;\n",
              "  }\n",
              "\n",
              "  .colab-df-spinner {\n",
              "    border: 2px solid var(--fill-color);\n",
              "    border-color: transparent;\n",
              "    border-bottom-color: var(--fill-color);\n",
              "    animation:\n",
              "      spin 1s steps(1) infinite;\n",
              "  }\n",
              "\n",
              "  @keyframes spin {\n",
              "    0% {\n",
              "      border-color: transparent;\n",
              "      border-bottom-color: var(--fill-color);\n",
              "      border-left-color: var(--fill-color);\n",
              "    }\n",
              "    20% {\n",
              "      border-color: transparent;\n",
              "      border-left-color: var(--fill-color);\n",
              "      border-top-color: var(--fill-color);\n",
              "    }\n",
              "    30% {\n",
              "      border-color: transparent;\n",
              "      border-left-color: var(--fill-color);\n",
              "      border-top-color: var(--fill-color);\n",
              "      border-right-color: var(--fill-color);\n",
              "    }\n",
              "    40% {\n",
              "      border-color: transparent;\n",
              "      border-right-color: var(--fill-color);\n",
              "      border-top-color: var(--fill-color);\n",
              "    }\n",
              "    60% {\n",
              "      border-color: transparent;\n",
              "      border-right-color: var(--fill-color);\n",
              "    }\n",
              "    80% {\n",
              "      border-color: transparent;\n",
              "      border-right-color: var(--fill-color);\n",
              "      border-bottom-color: var(--fill-color);\n",
              "    }\n",
              "    90% {\n",
              "      border-color: transparent;\n",
              "      border-bottom-color: var(--fill-color);\n",
              "    }\n",
              "  }\n",
              "</style>\n",
              "\n",
              "  <script>\n",
              "    async function quickchart(key) {\n",
              "      const quickchartButtonEl =\n",
              "        document.querySelector('#' + key + ' button');\n",
              "      quickchartButtonEl.disabled = true;  // To prevent multiple clicks.\n",
              "      quickchartButtonEl.classList.add('colab-df-spinner');\n",
              "      try {\n",
              "        const charts = await google.colab.kernel.invokeFunction(\n",
              "            'suggestCharts', [key], {});\n",
              "      } catch (error) {\n",
              "        console.error('Error during call to suggestCharts:', error);\n",
              "      }\n",
              "      quickchartButtonEl.classList.remove('colab-df-spinner');\n",
              "      quickchartButtonEl.classList.add('colab-df-quickchart-complete');\n",
              "    }\n",
              "    (() => {\n",
              "      let quickchartButtonEl =\n",
              "        document.querySelector('#df-48d2a336-937c-41fb-a61e-17eebf5d3bbc button');\n",
              "      quickchartButtonEl.style.display =\n",
              "        google.colab.kernel.accessAllowed ? 'block' : 'none';\n",
              "    })();\n",
              "  </script>\n",
              "</div>\n",
              "\n",
              "  <div id=\"id_6f1d3fa4-840a-4001-8a4c-d8128d301c7f\">\n",
              "    <style>\n",
              "      .colab-df-generate {\n",
              "        background-color: #E8F0FE;\n",
              "        border: none;\n",
              "        border-radius: 50%;\n",
              "        cursor: pointer;\n",
              "        display: none;\n",
              "        fill: #1967D2;\n",
              "        height: 32px;\n",
              "        padding: 0 0 0 0;\n",
              "        width: 32px;\n",
              "      }\n",
              "\n",
              "      .colab-df-generate:hover {\n",
              "        background-color: #E2EBFA;\n",
              "        box-shadow: 0px 1px 2px rgba(60, 64, 67, 0.3), 0px 1px 3px 1px rgba(60, 64, 67, 0.15);\n",
              "        fill: #174EA6;\n",
              "      }\n",
              "\n",
              "      [theme=dark] .colab-df-generate {\n",
              "        background-color: #3B4455;\n",
              "        fill: #D2E3FC;\n",
              "      }\n",
              "\n",
              "      [theme=dark] .colab-df-generate:hover {\n",
              "        background-color: #434B5C;\n",
              "        box-shadow: 0px 1px 3px 1px rgba(0, 0, 0, 0.15);\n",
              "        filter: drop-shadow(0px 1px 2px rgba(0, 0, 0, 0.3));\n",
              "        fill: #FFFFFF;\n",
              "      }\n",
              "    </style>\n",
              "    <button class=\"colab-df-generate\" onclick=\"generateWithVariable('df')\"\n",
              "            title=\"Generate code using this dataframe.\"\n",
              "            style=\"display:none;\">\n",
              "\n",
              "  <svg xmlns=\"http://www.w3.org/2000/svg\" height=\"24px\"viewBox=\"0 0 24 24\"\n",
              "       width=\"24px\">\n",
              "    <path d=\"M7,19H8.4L18.45,9,17,7.55,7,17.6ZM5,21V16.75L18.45,3.32a2,2,0,0,1,2.83,0l1.4,1.43a1.91,1.91,0,0,1,.58,1.4,1.91,1.91,0,0,1-.58,1.4L9.25,21ZM18.45,9,17,7.55Zm-12,3A5.31,5.31,0,0,0,4.9,8.1,5.31,5.31,0,0,0,1,6.5,5.31,5.31,0,0,0,4.9,4.9,5.31,5.31,0,0,0,6.5,1,5.31,5.31,0,0,0,8.1,4.9,5.31,5.31,0,0,0,12,6.5,5.46,5.46,0,0,0,6.5,12Z\"/>\n",
              "  </svg>\n",
              "    </button>\n",
              "    <script>\n",
              "      (() => {\n",
              "      const buttonEl =\n",
              "        document.querySelector('#id_6f1d3fa4-840a-4001-8a4c-d8128d301c7f button.colab-df-generate');\n",
              "      buttonEl.style.display =\n",
              "        google.colab.kernel.accessAllowed ? 'block' : 'none';\n",
              "\n",
              "      buttonEl.onclick = () => {\n",
              "        google.colab.notebook.generateWithVariable('df');\n",
              "      }\n",
              "      })();\n",
              "    </script>\n",
              "  </div>\n",
              "\n",
              "    </div>\n",
              "  </div>\n"
            ],
            "application/vnd.google.colaboratory.intrinsic+json": {
              "type": "dataframe",
              "variable_name": "df",
              "summary": "{\n  \"name\": \"df\",\n  \"rows\": 5306,\n  \"fields\": [\n    {\n      \"column\": \"Date\",\n      \"properties\": {\n        \"dtype\": \"object\",\n        \"num_unique_values\": 5306,\n        \"samples\": [\n          \"2003-04-01\",\n          \"2016-03-16\",\n          \"2021-01-20\"\n        ],\n        \"semantic_type\": \"\",\n        \"description\": \"\"\n      }\n    },\n    {\n      \"column\": \"Symbol\",\n      \"properties\": {\n        \"dtype\": \"category\",\n        \"num_unique_values\": 1,\n        \"samples\": [\n          \"ONGC\"\n        ],\n        \"semantic_type\": \"\",\n        \"description\": \"\"\n      }\n    },\n    {\n      \"column\": \"Series\",\n      \"properties\": {\n        \"dtype\": \"category\",\n        \"num_unique_values\": 1,\n        \"samples\": [\n          \"EQ\"\n        ],\n        \"semantic_type\": \"\",\n        \"description\": \"\"\n      }\n    },\n    {\n      \"column\": \"Prev Close\",\n      \"properties\": {\n        \"dtype\": \"number\",\n        \"std\": 385.181627812167,\n        \"min\": 60.0,\n        \"max\": 1484.2,\n        \"num_unique_values\": 4345,\n        \"samples\": [\n          251.2\n        ],\n        \"semantic_type\": \"\",\n        \"description\": \"\"\n      }\n    },\n    {\n      \"column\": \"Open\",\n      \"properties\": {\n        \"dtype\": \"number\",\n        \"std\": 385.68943339988505,\n        \"min\": 59.4,\n        \"max\": 1480.55,\n        \"num_unique_values\": 3335,\n        \"samples\": [\n          272.3\n        ],\n        \"semantic_type\": \"\",\n        \"description\": \"\"\n      }\n    },\n    {\n      \"column\": \"High\",\n      \"properties\": {\n        \"dtype\": \"number\",\n        \"std\": 392.44458085970444,\n        \"min\": 63.0,\n        \"max\": 1513.9,\n        \"num_unique_values\": 3793,\n        \"samples\": [\n          927.25\n        ],\n        \"semantic_type\": \"\",\n        \"description\": \"\"\n      }\n    },\n    {\n      \"column\": \"Low\",\n      \"properties\": {\n        \"dtype\": \"number\",\n        \"std\": 378.2430500262731,\n        \"min\": 50.0,\n        \"max\": 1443.15,\n        \"num_unique_values\": 3782,\n        \"samples\": [\n          776.0\n        ],\n        \"semantic_type\": \"\",\n        \"description\": \"\"\n      }\n    },\n    {\n      \"column\": \"Last\",\n      \"properties\": {\n        \"dtype\": \"number\",\n        \"std\": 385.0880299258639,\n        \"min\": 60.2,\n        \"max\": 1490.1,\n        \"num_unique_values\": 3782,\n        \"samples\": [\n          804.7\n        ],\n        \"semantic_type\": \"\",\n        \"description\": \"\"\n      }\n    },\n    {\n      \"column\": \"Close\",\n      \"properties\": {\n        \"dtype\": \"number\",\n        \"std\": 385.19786143959516,\n        \"min\": 60.0,\n        \"max\": 1484.2,\n        \"num_unique_values\": 4344,\n        \"samples\": [\n          246.55\n        ],\n        \"semantic_type\": \"\",\n        \"description\": \"\"\n      }\n    },\n    {\n      \"column\": \"VWAP\",\n      \"properties\": {\n        \"dtype\": \"number\",\n        \"std\": 385.4768833444887,\n        \"min\": 61.0,\n        \"max\": 1482.26,\n        \"num_unique_values\": 5083,\n        \"samples\": [\n          1171.69\n        ],\n        \"semantic_type\": \"\",\n        \"description\": \"\"\n      }\n    },\n    {\n      \"column\": \"Volume\",\n      \"properties\": {\n        \"dtype\": \"number\",\n        \"std\": 8938633,\n        \"min\": 50,\n        \"max\": 178593486,\n        \"num_unique_values\": 5298,\n        \"samples\": [\n          5057415\n        ],\n        \"semantic_type\": \"\",\n        \"description\": \"\"\n      }\n    },\n    {\n      \"column\": \"Turnover\",\n      \"properties\": {\n        \"dtype\": \"number\",\n        \"std\": 126420720950324.8,\n        \"min\": 801250000.0,\n        \"max\": 4348315656105001.0,\n        \"num_unique_values\": 5306,\n        \"samples\": [\n          564706145000.0\n        ],\n        \"semantic_type\": \"\",\n        \"description\": \"\"\n      }\n    },\n    {\n      \"column\": \"Trades\",\n      \"properties\": {\n        \"dtype\": \"number\",\n        \"std\": 37654.19243719542,\n        \"min\": 864.0,\n        \"max\": 364976.0,\n        \"num_unique_values\": 2426,\n        \"samples\": [\n          52473.0\n        ],\n        \"semantic_type\": \"\",\n        \"description\": \"\"\n      }\n    },\n    {\n      \"column\": \"Deliverable Volume\",\n      \"properties\": {\n        \"dtype\": \"number\",\n        \"std\": 3773230.5483487756,\n        \"min\": 997.0,\n        \"max\": 95873845.0,\n        \"num_unique_values\": 4794,\n        \"samples\": [\n          2838137.0\n        ],\n        \"semantic_type\": \"\",\n        \"description\": \"\"\n      }\n    },\n    {\n      \"column\": \"%Deliverble\",\n      \"properties\": {\n        \"dtype\": \"number\",\n        \"std\": 0.1484035089745253,\n        \"min\": 0.0828999999999999,\n        \"max\": 1.0,\n        \"num_unique_values\": 3149,\n        \"samples\": [\n          0.4699\n        ],\n        \"semantic_type\": \"\",\n        \"description\": \"\"\n      }\n    }\n  ]\n}"
            }
          },
          "metadata": {},
          "execution_count": 2
        }
      ]
    },
    {
      "cell_type": "code",
      "source": [
        "df.info()"
      ],
      "metadata": {
        "colab": {
          "base_uri": "https://localhost:8080/"
        },
        "id": "bAXCbm1h7o4p",
        "outputId": "0fc05fc7-65ce-483e-b47d-5f6d89370bc9"
      },
      "execution_count": null,
      "outputs": [
        {
          "output_type": "stream",
          "name": "stdout",
          "text": [
            "<class 'pandas.core.frame.DataFrame'>\n",
            "RangeIndex: 5306 entries, 0 to 5305\n",
            "Data columns (total 15 columns):\n",
            " #   Column              Non-Null Count  Dtype  \n",
            "---  ------              --------------  -----  \n",
            " 0   Date                5306 non-null   object \n",
            " 1   Symbol              5306 non-null   object \n",
            " 2   Series              5306 non-null   object \n",
            " 3   Prev Close          5306 non-null   float64\n",
            " 4   Open                5306 non-null   float64\n",
            " 5   High                5306 non-null   float64\n",
            " 6   Low                 5306 non-null   float64\n",
            " 7   Last                5306 non-null   float64\n",
            " 8   Close               5306 non-null   float64\n",
            " 9   VWAP                5306 non-null   float64\n",
            " 10  Volume              5306 non-null   int64  \n",
            " 11  Turnover            5306 non-null   float64\n",
            " 12  Trades              2456 non-null   float64\n",
            " 13  Deliverable Volume  4797 non-null   float64\n",
            " 14  %Deliverble         4797 non-null   float64\n",
            "dtypes: float64(11), int64(1), object(3)\n",
            "memory usage: 621.9+ KB\n"
          ]
        }
      ]
    },
    {
      "cell_type": "code",
      "source": [
        "d=df.drop(['Date','Symbol','Series'], axis=1)\n",
        "d"
      ],
      "metadata": {
        "colab": {
          "base_uri": "https://localhost:8080/",
          "height": 423
        },
        "id": "ygJ9863H7u1Q",
        "outputId": "8f56129e-036d-4046-fd60-b4046e18363e"
      },
      "execution_count": null,
      "outputs": [
        {
          "output_type": "execute_result",
          "data": {
            "text/plain": [
              "      Prev Close    Open   High     Low    Last   Close    VWAP    Volume  \\\n",
              "0         207.70  205.00  214.4  205.00  214.00  213.45  209.91      9600   \n",
              "1         213.45  201.50  209.7  201.00  209.00  206.55  206.26     17900   \n",
              "2         206.55  201.00  223.1  200.50  223.10  223.10  215.46     27000   \n",
              "3         223.10  234.00  234.9  217.60  217.60  219.30  223.42     35600   \n",
              "4         219.30  223.00  223.0  213.00  215.70  215.75  215.19     11400   \n",
              "...          ...     ...    ...     ...     ...     ...     ...       ...   \n",
              "5301      102.40  105.25  105.7  102.50  102.80  102.80  103.86  11797791   \n",
              "5302      102.80  102.80  104.0  102.80  103.30  103.20  103.42   8886250   \n",
              "5303      103.20  103.75  104.4  103.30  104.05  103.90  103.90   6887787   \n",
              "5304      103.90  104.90  105.9  103.55  104.30  104.05  104.39  14990087   \n",
              "5305      104.05  104.15  112.7  103.30  108.20  108.15  109.79  81358264   \n",
              "\n",
              "          Turnover    Trades  Deliverable Volume  %Deliverble  \n",
              "0     2.015090e+11       NaN                 NaN          NaN  \n",
              "1     3.692030e+11       NaN                 NaN          NaN  \n",
              "2     5.817490e+11       NaN                 NaN          NaN  \n",
              "3     7.953680e+11       NaN                 NaN          NaN  \n",
              "4     2.453145e+11       NaN                 NaN          NaN  \n",
              "...            ...       ...                 ...          ...  \n",
              "5301  1.225355e+14   63132.0           3024740.0       0.2564  \n",
              "5302  9.189768e+13   46923.0           3802836.0       0.4279  \n",
              "5303  7.156081e+13   33659.0           2533669.0       0.3678  \n",
              "5304  1.564876e+14   54416.0           4613745.0       0.3078  \n",
              "5305  8.932632e+14  248419.0          15306987.0       0.1881  \n",
              "\n",
              "[5306 rows x 12 columns]"
            ],
            "text/html": [
              "\n",
              "  <div id=\"df-33383709-e41a-4a21-85fb-e2eeb644f27d\" class=\"colab-df-container\">\n",
              "    <div>\n",
              "<style scoped>\n",
              "    .dataframe tbody tr th:only-of-type {\n",
              "        vertical-align: middle;\n",
              "    }\n",
              "\n",
              "    .dataframe tbody tr th {\n",
              "        vertical-align: top;\n",
              "    }\n",
              "\n",
              "    .dataframe thead th {\n",
              "        text-align: right;\n",
              "    }\n",
              "</style>\n",
              "<table border=\"1\" class=\"dataframe\">\n",
              "  <thead>\n",
              "    <tr style=\"text-align: right;\">\n",
              "      <th></th>\n",
              "      <th>Prev Close</th>\n",
              "      <th>Open</th>\n",
              "      <th>High</th>\n",
              "      <th>Low</th>\n",
              "      <th>Last</th>\n",
              "      <th>Close</th>\n",
              "      <th>VWAP</th>\n",
              "      <th>Volume</th>\n",
              "      <th>Turnover</th>\n",
              "      <th>Trades</th>\n",
              "      <th>Deliverable Volume</th>\n",
              "      <th>%Deliverble</th>\n",
              "    </tr>\n",
              "  </thead>\n",
              "  <tbody>\n",
              "    <tr>\n",
              "      <th>0</th>\n",
              "      <td>207.70</td>\n",
              "      <td>205.00</td>\n",
              "      <td>214.4</td>\n",
              "      <td>205.00</td>\n",
              "      <td>214.00</td>\n",
              "      <td>213.45</td>\n",
              "      <td>209.91</td>\n",
              "      <td>9600</td>\n",
              "      <td>2.015090e+11</td>\n",
              "      <td>NaN</td>\n",
              "      <td>NaN</td>\n",
              "      <td>NaN</td>\n",
              "    </tr>\n",
              "    <tr>\n",
              "      <th>1</th>\n",
              "      <td>213.45</td>\n",
              "      <td>201.50</td>\n",
              "      <td>209.7</td>\n",
              "      <td>201.00</td>\n",
              "      <td>209.00</td>\n",
              "      <td>206.55</td>\n",
              "      <td>206.26</td>\n",
              "      <td>17900</td>\n",
              "      <td>3.692030e+11</td>\n",
              "      <td>NaN</td>\n",
              "      <td>NaN</td>\n",
              "      <td>NaN</td>\n",
              "    </tr>\n",
              "    <tr>\n",
              "      <th>2</th>\n",
              "      <td>206.55</td>\n",
              "      <td>201.00</td>\n",
              "      <td>223.1</td>\n",
              "      <td>200.50</td>\n",
              "      <td>223.10</td>\n",
              "      <td>223.10</td>\n",
              "      <td>215.46</td>\n",
              "      <td>27000</td>\n",
              "      <td>5.817490e+11</td>\n",
              "      <td>NaN</td>\n",
              "      <td>NaN</td>\n",
              "      <td>NaN</td>\n",
              "    </tr>\n",
              "    <tr>\n",
              "      <th>3</th>\n",
              "      <td>223.10</td>\n",
              "      <td>234.00</td>\n",
              "      <td>234.9</td>\n",
              "      <td>217.60</td>\n",
              "      <td>217.60</td>\n",
              "      <td>219.30</td>\n",
              "      <td>223.42</td>\n",
              "      <td>35600</td>\n",
              "      <td>7.953680e+11</td>\n",
              "      <td>NaN</td>\n",
              "      <td>NaN</td>\n",
              "      <td>NaN</td>\n",
              "    </tr>\n",
              "    <tr>\n",
              "      <th>4</th>\n",
              "      <td>219.30</td>\n",
              "      <td>223.00</td>\n",
              "      <td>223.0</td>\n",
              "      <td>213.00</td>\n",
              "      <td>215.70</td>\n",
              "      <td>215.75</td>\n",
              "      <td>215.19</td>\n",
              "      <td>11400</td>\n",
              "      <td>2.453145e+11</td>\n",
              "      <td>NaN</td>\n",
              "      <td>NaN</td>\n",
              "      <td>NaN</td>\n",
              "    </tr>\n",
              "    <tr>\n",
              "      <th>...</th>\n",
              "      <td>...</td>\n",
              "      <td>...</td>\n",
              "      <td>...</td>\n",
              "      <td>...</td>\n",
              "      <td>...</td>\n",
              "      <td>...</td>\n",
              "      <td>...</td>\n",
              "      <td>...</td>\n",
              "      <td>...</td>\n",
              "      <td>...</td>\n",
              "      <td>...</td>\n",
              "      <td>...</td>\n",
              "    </tr>\n",
              "    <tr>\n",
              "      <th>5301</th>\n",
              "      <td>102.40</td>\n",
              "      <td>105.25</td>\n",
              "      <td>105.7</td>\n",
              "      <td>102.50</td>\n",
              "      <td>102.80</td>\n",
              "      <td>102.80</td>\n",
              "      <td>103.86</td>\n",
              "      <td>11797791</td>\n",
              "      <td>1.225355e+14</td>\n",
              "      <td>63132.0</td>\n",
              "      <td>3024740.0</td>\n",
              "      <td>0.2564</td>\n",
              "    </tr>\n",
              "    <tr>\n",
              "      <th>5302</th>\n",
              "      <td>102.80</td>\n",
              "      <td>102.80</td>\n",
              "      <td>104.0</td>\n",
              "      <td>102.80</td>\n",
              "      <td>103.30</td>\n",
              "      <td>103.20</td>\n",
              "      <td>103.42</td>\n",
              "      <td>8886250</td>\n",
              "      <td>9.189768e+13</td>\n",
              "      <td>46923.0</td>\n",
              "      <td>3802836.0</td>\n",
              "      <td>0.4279</td>\n",
              "    </tr>\n",
              "    <tr>\n",
              "      <th>5303</th>\n",
              "      <td>103.20</td>\n",
              "      <td>103.75</td>\n",
              "      <td>104.4</td>\n",
              "      <td>103.30</td>\n",
              "      <td>104.05</td>\n",
              "      <td>103.90</td>\n",
              "      <td>103.90</td>\n",
              "      <td>6887787</td>\n",
              "      <td>7.156081e+13</td>\n",
              "      <td>33659.0</td>\n",
              "      <td>2533669.0</td>\n",
              "      <td>0.3678</td>\n",
              "    </tr>\n",
              "    <tr>\n",
              "      <th>5304</th>\n",
              "      <td>103.90</td>\n",
              "      <td>104.90</td>\n",
              "      <td>105.9</td>\n",
              "      <td>103.55</td>\n",
              "      <td>104.30</td>\n",
              "      <td>104.05</td>\n",
              "      <td>104.39</td>\n",
              "      <td>14990087</td>\n",
              "      <td>1.564876e+14</td>\n",
              "      <td>54416.0</td>\n",
              "      <td>4613745.0</td>\n",
              "      <td>0.3078</td>\n",
              "    </tr>\n",
              "    <tr>\n",
              "      <th>5305</th>\n",
              "      <td>104.05</td>\n",
              "      <td>104.15</td>\n",
              "      <td>112.7</td>\n",
              "      <td>103.30</td>\n",
              "      <td>108.20</td>\n",
              "      <td>108.15</td>\n",
              "      <td>109.79</td>\n",
              "      <td>81358264</td>\n",
              "      <td>8.932632e+14</td>\n",
              "      <td>248419.0</td>\n",
              "      <td>15306987.0</td>\n",
              "      <td>0.1881</td>\n",
              "    </tr>\n",
              "  </tbody>\n",
              "</table>\n",
              "<p>5306 rows × 12 columns</p>\n",
              "</div>\n",
              "    <div class=\"colab-df-buttons\">\n",
              "\n",
              "  <div class=\"colab-df-container\">\n",
              "    <button class=\"colab-df-convert\" onclick=\"convertToInteractive('df-33383709-e41a-4a21-85fb-e2eeb644f27d')\"\n",
              "            title=\"Convert this dataframe to an interactive table.\"\n",
              "            style=\"display:none;\">\n",
              "\n",
              "  <svg xmlns=\"http://www.w3.org/2000/svg\" height=\"24px\" viewBox=\"0 -960 960 960\">\n",
              "    <path d=\"M120-120v-720h720v720H120Zm60-500h600v-160H180v160Zm220 220h160v-160H400v160Zm0 220h160v-160H400v160ZM180-400h160v-160H180v160Zm440 0h160v-160H620v160ZM180-180h160v-160H180v160Zm440 0h160v-160H620v160Z\"/>\n",
              "  </svg>\n",
              "    </button>\n",
              "\n",
              "  <style>\n",
              "    .colab-df-container {\n",
              "      display:flex;\n",
              "      gap: 12px;\n",
              "    }\n",
              "\n",
              "    .colab-df-convert {\n",
              "      background-color: #E8F0FE;\n",
              "      border: none;\n",
              "      border-radius: 50%;\n",
              "      cursor: pointer;\n",
              "      display: none;\n",
              "      fill: #1967D2;\n",
              "      height: 32px;\n",
              "      padding: 0 0 0 0;\n",
              "      width: 32px;\n",
              "    }\n",
              "\n",
              "    .colab-df-convert:hover {\n",
              "      background-color: #E2EBFA;\n",
              "      box-shadow: 0px 1px 2px rgba(60, 64, 67, 0.3), 0px 1px 3px 1px rgba(60, 64, 67, 0.15);\n",
              "      fill: #174EA6;\n",
              "    }\n",
              "\n",
              "    .colab-df-buttons div {\n",
              "      margin-bottom: 4px;\n",
              "    }\n",
              "\n",
              "    [theme=dark] .colab-df-convert {\n",
              "      background-color: #3B4455;\n",
              "      fill: #D2E3FC;\n",
              "    }\n",
              "\n",
              "    [theme=dark] .colab-df-convert:hover {\n",
              "      background-color: #434B5C;\n",
              "      box-shadow: 0px 1px 3px 1px rgba(0, 0, 0, 0.15);\n",
              "      filter: drop-shadow(0px 1px 2px rgba(0, 0, 0, 0.3));\n",
              "      fill: #FFFFFF;\n",
              "    }\n",
              "  </style>\n",
              "\n",
              "    <script>\n",
              "      const buttonEl =\n",
              "        document.querySelector('#df-33383709-e41a-4a21-85fb-e2eeb644f27d button.colab-df-convert');\n",
              "      buttonEl.style.display =\n",
              "        google.colab.kernel.accessAllowed ? 'block' : 'none';\n",
              "\n",
              "      async function convertToInteractive(key) {\n",
              "        const element = document.querySelector('#df-33383709-e41a-4a21-85fb-e2eeb644f27d');\n",
              "        const dataTable =\n",
              "          await google.colab.kernel.invokeFunction('convertToInteractive',\n",
              "                                                    [key], {});\n",
              "        if (!dataTable) return;\n",
              "\n",
              "        const docLinkHtml = 'Like what you see? Visit the ' +\n",
              "          '<a target=\"_blank\" href=https://colab.research.google.com/notebooks/data_table.ipynb>data table notebook</a>'\n",
              "          + ' to learn more about interactive tables.';\n",
              "        element.innerHTML = '';\n",
              "        dataTable['output_type'] = 'display_data';\n",
              "        await google.colab.output.renderOutput(dataTable, element);\n",
              "        const docLink = document.createElement('div');\n",
              "        docLink.innerHTML = docLinkHtml;\n",
              "        element.appendChild(docLink);\n",
              "      }\n",
              "    </script>\n",
              "  </div>\n",
              "\n",
              "\n",
              "<div id=\"df-528efae7-ed75-4906-831d-84349ca86253\">\n",
              "  <button class=\"colab-df-quickchart\" onclick=\"quickchart('df-528efae7-ed75-4906-831d-84349ca86253')\"\n",
              "            title=\"Suggest charts\"\n",
              "            style=\"display:none;\">\n",
              "\n",
              "<svg xmlns=\"http://www.w3.org/2000/svg\" height=\"24px\"viewBox=\"0 0 24 24\"\n",
              "     width=\"24px\">\n",
              "    <g>\n",
              "        <path d=\"M19 3H5c-1.1 0-2 .9-2 2v14c0 1.1.9 2 2 2h14c1.1 0 2-.9 2-2V5c0-1.1-.9-2-2-2zM9 17H7v-7h2v7zm4 0h-2V7h2v10zm4 0h-2v-4h2v4z\"/>\n",
              "    </g>\n",
              "</svg>\n",
              "  </button>\n",
              "\n",
              "<style>\n",
              "  .colab-df-quickchart {\n",
              "      --bg-color: #E8F0FE;\n",
              "      --fill-color: #1967D2;\n",
              "      --hover-bg-color: #E2EBFA;\n",
              "      --hover-fill-color: #174EA6;\n",
              "      --disabled-fill-color: #AAA;\n",
              "      --disabled-bg-color: #DDD;\n",
              "  }\n",
              "\n",
              "  [theme=dark] .colab-df-quickchart {\n",
              "      --bg-color: #3B4455;\n",
              "      --fill-color: #D2E3FC;\n",
              "      --hover-bg-color: #434B5C;\n",
              "      --hover-fill-color: #FFFFFF;\n",
              "      --disabled-bg-color: #3B4455;\n",
              "      --disabled-fill-color: #666;\n",
              "  }\n",
              "\n",
              "  .colab-df-quickchart {\n",
              "    background-color: var(--bg-color);\n",
              "    border: none;\n",
              "    border-radius: 50%;\n",
              "    cursor: pointer;\n",
              "    display: none;\n",
              "    fill: var(--fill-color);\n",
              "    height: 32px;\n",
              "    padding: 0;\n",
              "    width: 32px;\n",
              "  }\n",
              "\n",
              "  .colab-df-quickchart:hover {\n",
              "    background-color: var(--hover-bg-color);\n",
              "    box-shadow: 0 1px 2px rgba(60, 64, 67, 0.3), 0 1px 3px 1px rgba(60, 64, 67, 0.15);\n",
              "    fill: var(--button-hover-fill-color);\n",
              "  }\n",
              "\n",
              "  .colab-df-quickchart-complete:disabled,\n",
              "  .colab-df-quickchart-complete:disabled:hover {\n",
              "    background-color: var(--disabled-bg-color);\n",
              "    fill: var(--disabled-fill-color);\n",
              "    box-shadow: none;\n",
              "  }\n",
              "\n",
              "  .colab-df-spinner {\n",
              "    border: 2px solid var(--fill-color);\n",
              "    border-color: transparent;\n",
              "    border-bottom-color: var(--fill-color);\n",
              "    animation:\n",
              "      spin 1s steps(1) infinite;\n",
              "  }\n",
              "\n",
              "  @keyframes spin {\n",
              "    0% {\n",
              "      border-color: transparent;\n",
              "      border-bottom-color: var(--fill-color);\n",
              "      border-left-color: var(--fill-color);\n",
              "    }\n",
              "    20% {\n",
              "      border-color: transparent;\n",
              "      border-left-color: var(--fill-color);\n",
              "      border-top-color: var(--fill-color);\n",
              "    }\n",
              "    30% {\n",
              "      border-color: transparent;\n",
              "      border-left-color: var(--fill-color);\n",
              "      border-top-color: var(--fill-color);\n",
              "      border-right-color: var(--fill-color);\n",
              "    }\n",
              "    40% {\n",
              "      border-color: transparent;\n",
              "      border-right-color: var(--fill-color);\n",
              "      border-top-color: var(--fill-color);\n",
              "    }\n",
              "    60% {\n",
              "      border-color: transparent;\n",
              "      border-right-color: var(--fill-color);\n",
              "    }\n",
              "    80% {\n",
              "      border-color: transparent;\n",
              "      border-right-color: var(--fill-color);\n",
              "      border-bottom-color: var(--fill-color);\n",
              "    }\n",
              "    90% {\n",
              "      border-color: transparent;\n",
              "      border-bottom-color: var(--fill-color);\n",
              "    }\n",
              "  }\n",
              "</style>\n",
              "\n",
              "  <script>\n",
              "    async function quickchart(key) {\n",
              "      const quickchartButtonEl =\n",
              "        document.querySelector('#' + key + ' button');\n",
              "      quickchartButtonEl.disabled = true;  // To prevent multiple clicks.\n",
              "      quickchartButtonEl.classList.add('colab-df-spinner');\n",
              "      try {\n",
              "        const charts = await google.colab.kernel.invokeFunction(\n",
              "            'suggestCharts', [key], {});\n",
              "      } catch (error) {\n",
              "        console.error('Error during call to suggestCharts:', error);\n",
              "      }\n",
              "      quickchartButtonEl.classList.remove('colab-df-spinner');\n",
              "      quickchartButtonEl.classList.add('colab-df-quickchart-complete');\n",
              "    }\n",
              "    (() => {\n",
              "      let quickchartButtonEl =\n",
              "        document.querySelector('#df-528efae7-ed75-4906-831d-84349ca86253 button');\n",
              "      quickchartButtonEl.style.display =\n",
              "        google.colab.kernel.accessAllowed ? 'block' : 'none';\n",
              "    })();\n",
              "  </script>\n",
              "</div>\n",
              "\n",
              "  <div id=\"id_f6623db8-c344-4ec0-925c-e2eb15ca7b7e\">\n",
              "    <style>\n",
              "      .colab-df-generate {\n",
              "        background-color: #E8F0FE;\n",
              "        border: none;\n",
              "        border-radius: 50%;\n",
              "        cursor: pointer;\n",
              "        display: none;\n",
              "        fill: #1967D2;\n",
              "        height: 32px;\n",
              "        padding: 0 0 0 0;\n",
              "        width: 32px;\n",
              "      }\n",
              "\n",
              "      .colab-df-generate:hover {\n",
              "        background-color: #E2EBFA;\n",
              "        box-shadow: 0px 1px 2px rgba(60, 64, 67, 0.3), 0px 1px 3px 1px rgba(60, 64, 67, 0.15);\n",
              "        fill: #174EA6;\n",
              "      }\n",
              "\n",
              "      [theme=dark] .colab-df-generate {\n",
              "        background-color: #3B4455;\n",
              "        fill: #D2E3FC;\n",
              "      }\n",
              "\n",
              "      [theme=dark] .colab-df-generate:hover {\n",
              "        background-color: #434B5C;\n",
              "        box-shadow: 0px 1px 3px 1px rgba(0, 0, 0, 0.15);\n",
              "        filter: drop-shadow(0px 1px 2px rgba(0, 0, 0, 0.3));\n",
              "        fill: #FFFFFF;\n",
              "      }\n",
              "    </style>\n",
              "    <button class=\"colab-df-generate\" onclick=\"generateWithVariable('d')\"\n",
              "            title=\"Generate code using this dataframe.\"\n",
              "            style=\"display:none;\">\n",
              "\n",
              "  <svg xmlns=\"http://www.w3.org/2000/svg\" height=\"24px\"viewBox=\"0 0 24 24\"\n",
              "       width=\"24px\">\n",
              "    <path d=\"M7,19H8.4L18.45,9,17,7.55,7,17.6ZM5,21V16.75L18.45,3.32a2,2,0,0,1,2.83,0l1.4,1.43a1.91,1.91,0,0,1,.58,1.4,1.91,1.91,0,0,1-.58,1.4L9.25,21ZM18.45,9,17,7.55Zm-12,3A5.31,5.31,0,0,0,4.9,8.1,5.31,5.31,0,0,0,1,6.5,5.31,5.31,0,0,0,4.9,4.9,5.31,5.31,0,0,0,6.5,1,5.31,5.31,0,0,0,8.1,4.9,5.31,5.31,0,0,0,12,6.5,5.46,5.46,0,0,0,6.5,12Z\"/>\n",
              "  </svg>\n",
              "    </button>\n",
              "    <script>\n",
              "      (() => {\n",
              "      const buttonEl =\n",
              "        document.querySelector('#id_f6623db8-c344-4ec0-925c-e2eb15ca7b7e button.colab-df-generate');\n",
              "      buttonEl.style.display =\n",
              "        google.colab.kernel.accessAllowed ? 'block' : 'none';\n",
              "\n",
              "      buttonEl.onclick = () => {\n",
              "        google.colab.notebook.generateWithVariable('d');\n",
              "      }\n",
              "      })();\n",
              "    </script>\n",
              "  </div>\n",
              "\n",
              "    </div>\n",
              "  </div>\n"
            ],
            "application/vnd.google.colaboratory.intrinsic+json": {
              "type": "dataframe",
              "variable_name": "d",
              "summary": "{\n  \"name\": \"d\",\n  \"rows\": 5306,\n  \"fields\": [\n    {\n      \"column\": \"Prev Close\",\n      \"properties\": {\n        \"dtype\": \"number\",\n        \"std\": 385.181627812167,\n        \"min\": 60.0,\n        \"max\": 1484.2,\n        \"num_unique_values\": 4345,\n        \"samples\": [\n          251.2,\n          900.8,\n          745.25\n        ],\n        \"semantic_type\": \"\",\n        \"description\": \"\"\n      }\n    },\n    {\n      \"column\": \"Open\",\n      \"properties\": {\n        \"dtype\": \"number\",\n        \"std\": 385.68943339988505,\n        \"min\": 59.4,\n        \"max\": 1480.55,\n        \"num_unique_values\": 3335,\n        \"samples\": [\n          272.3,\n          304.15,\n          275.5\n        ],\n        \"semantic_type\": \"\",\n        \"description\": \"\"\n      }\n    },\n    {\n      \"column\": \"High\",\n      \"properties\": {\n        \"dtype\": \"number\",\n        \"std\": 392.44458085970444,\n        \"min\": 63.0,\n        \"max\": 1513.9,\n        \"num_unique_values\": 3793,\n        \"samples\": [\n          927.25,\n          129.25,\n          150.5\n        ],\n        \"semantic_type\": \"\",\n        \"description\": \"\"\n      }\n    },\n    {\n      \"column\": \"Low\",\n      \"properties\": {\n        \"dtype\": \"number\",\n        \"std\": 378.2430500262731,\n        \"min\": 50.0,\n        \"max\": 1443.15,\n        \"num_unique_values\": 3782,\n        \"samples\": [\n          776.0,\n          181.85,\n          215.9\n        ],\n        \"semantic_type\": \"\",\n        \"description\": \"\"\n      }\n    },\n    {\n      \"column\": \"Last\",\n      \"properties\": {\n        \"dtype\": \"number\",\n        \"std\": 385.0880299258639,\n        \"min\": 60.2,\n        \"max\": 1490.1,\n        \"num_unique_values\": 3782,\n        \"samples\": [\n          804.7,\n          179.05,\n          225.4\n        ],\n        \"semantic_type\": \"\",\n        \"description\": \"\"\n      }\n    },\n    {\n      \"column\": \"Close\",\n      \"properties\": {\n        \"dtype\": \"number\",\n        \"std\": 385.19786143959516,\n        \"min\": 60.0,\n        \"max\": 1484.2,\n        \"num_unique_values\": 4344,\n        \"samples\": [\n          246.55,\n          1050.95,\n          704.1\n        ],\n        \"semantic_type\": \"\",\n        \"description\": \"\"\n      }\n    },\n    {\n      \"column\": \"VWAP\",\n      \"properties\": {\n        \"dtype\": \"number\",\n        \"std\": 385.4768833444887,\n        \"min\": 61.0,\n        \"max\": 1482.26,\n        \"num_unique_values\": 5083,\n        \"samples\": [\n          1171.69,\n          1234.95,\n          262.62\n        ],\n        \"semantic_type\": \"\",\n        \"description\": \"\"\n      }\n    },\n    {\n      \"column\": \"Volume\",\n      \"properties\": {\n        \"dtype\": \"number\",\n        \"std\": 8938633,\n        \"min\": 50,\n        \"max\": 178593486,\n        \"num_unique_values\": 5298,\n        \"samples\": [\n          5057415,\n          13015452,\n          5811592\n        ],\n        \"semantic_type\": \"\",\n        \"description\": \"\"\n      }\n    },\n    {\n      \"column\": \"Turnover\",\n      \"properties\": {\n        \"dtype\": \"number\",\n        \"std\": 126420720950324.8,\n        \"min\": 801250000.0,\n        \"max\": 4348315656105001.0,\n        \"num_unique_values\": 5306,\n        \"samples\": [\n          564706145000.0,\n          71420156110000.0,\n          182491334375000.0\n        ],\n        \"semantic_type\": \"\",\n        \"description\": \"\"\n      }\n    },\n    {\n      \"column\": \"Trades\",\n      \"properties\": {\n        \"dtype\": \"number\",\n        \"std\": 37654.19243719542,\n        \"min\": 864.0,\n        \"max\": 364976.0,\n        \"num_unique_values\": 2426,\n        \"samples\": [\n          52473.0,\n          61437.0,\n          29323.0\n        ],\n        \"semantic_type\": \"\",\n        \"description\": \"\"\n      }\n    },\n    {\n      \"column\": \"Deliverable Volume\",\n      \"properties\": {\n        \"dtype\": \"number\",\n        \"std\": 3773230.5483487756,\n        \"min\": 997.0,\n        \"max\": 95873845.0,\n        \"num_unique_values\": 4794,\n        \"samples\": [\n          2838137.0,\n          2683972.0,\n          372096.0\n        ],\n        \"semantic_type\": \"\",\n        \"description\": \"\"\n      }\n    },\n    {\n      \"column\": \"%Deliverble\",\n      \"properties\": {\n        \"dtype\": \"number\",\n        \"std\": 0.1484035089745253,\n        \"min\": 0.0828999999999999,\n        \"max\": 1.0,\n        \"num_unique_values\": 3149,\n        \"samples\": [\n          0.4699,\n          0.5055,\n          0.4592\n        ],\n        \"semantic_type\": \"\",\n        \"description\": \"\"\n      }\n    }\n  ]\n}"
            }
          },
          "metadata": {},
          "execution_count": 7
        }
      ]
    },
    {
      "cell_type": "code",
      "source": [
        "d.info()"
      ],
      "metadata": {
        "id": "p-58O5pr8Ksg",
        "colab": {
          "base_uri": "https://localhost:8080/"
        },
        "outputId": "2ff0b6f9-c96b-41f5-a0cd-76136036f79c"
      },
      "execution_count": null,
      "outputs": [
        {
          "output_type": "stream",
          "name": "stdout",
          "text": [
            "<class 'pandas.core.frame.DataFrame'>\n",
            "RangeIndex: 5306 entries, 0 to 5305\n",
            "Data columns (total 12 columns):\n",
            " #   Column              Non-Null Count  Dtype  \n",
            "---  ------              --------------  -----  \n",
            " 0   Prev Close          5306 non-null   float64\n",
            " 1   Open                5306 non-null   float64\n",
            " 2   High                5306 non-null   float64\n",
            " 3   Low                 5306 non-null   float64\n",
            " 4   Last                5306 non-null   float64\n",
            " 5   Close               5306 non-null   float64\n",
            " 6   VWAP                5306 non-null   float64\n",
            " 7   Volume              5306 non-null   int64  \n",
            " 8   Turnover            5306 non-null   float64\n",
            " 9   Trades              2456 non-null   float64\n",
            " 10  Deliverable Volume  4797 non-null   float64\n",
            " 11  %Deliverble         4797 non-null   float64\n",
            "dtypes: float64(11), int64(1)\n",
            "memory usage: 497.6 KB\n"
          ]
        }
      ]
    },
    {
      "cell_type": "code",
      "source": [
        "d.dropna(inplace=True)\n",
        "d"
      ],
      "metadata": {
        "colab": {
          "base_uri": "https://localhost:8080/",
          "height": 423
        },
        "id": "jAp-fshsriIx",
        "outputId": "c0abe522-d0a4-459d-d6f5-52c2934e7ee6"
      },
      "execution_count": null,
      "outputs": [
        {
          "output_type": "execute_result",
          "data": {
            "text/plain": [
              "      Prev Close    Open    High     Low    Last   Close    VWAP    Volume  \\\n",
              "2850      281.05  283.00  284.30  278.20  282.00  281.60  281.78   1969133   \n",
              "2851      281.60  279.50  285.60  278.35  280.65  281.10  282.57   2716496   \n",
              "2852      281.10  281.25  283.90  278.60  280.10  280.00  280.92   1623442   \n",
              "2853      280.00  278.10  279.75  275.30  275.70  275.85  276.50   1436297   \n",
              "2854      275.85  275.00  277.50  273.00  277.45  276.35  275.49   3045575   \n",
              "...          ...     ...     ...     ...     ...     ...     ...       ...   \n",
              "5301      102.40  105.25  105.70  102.50  102.80  102.80  103.86  11797791   \n",
              "5302      102.80  102.80  104.00  102.80  103.30  103.20  103.42   8886250   \n",
              "5303      103.20  103.75  104.40  103.30  104.05  103.90  103.90   6887787   \n",
              "5304      103.90  104.90  105.90  103.55  104.30  104.05  104.39  14990087   \n",
              "5305      104.05  104.15  112.70  103.30  108.20  108.15  109.79  81358264   \n",
              "\n",
              "          Turnover    Trades  Deliverable Volume  %Deliverble  \n",
              "2850  5.548532e+13   35221.0            858592.0       0.4360  \n",
              "2851  7.676109e+13   44234.0           1141200.0       0.4201  \n",
              "2852  4.560549e+13   22410.0            771670.0       0.4753  \n",
              "2853  3.971384e+13   27811.0            761602.0       0.5303  \n",
              "2854  8.390230e+13   40454.0           1636427.0       0.5373  \n",
              "...            ...       ...                 ...          ...  \n",
              "5301  1.225355e+14   63132.0           3024740.0       0.2564  \n",
              "5302  9.189768e+13   46923.0           3802836.0       0.4279  \n",
              "5303  7.156081e+13   33659.0           2533669.0       0.3678  \n",
              "5304  1.564876e+14   54416.0           4613745.0       0.3078  \n",
              "5305  8.932632e+14  248419.0          15306987.0       0.1881  \n",
              "\n",
              "[2456 rows x 12 columns]"
            ],
            "text/html": [
              "\n",
              "  <div id=\"df-70da32a7-d787-40f6-a491-5927447e59a1\" class=\"colab-df-container\">\n",
              "    <div>\n",
              "<style scoped>\n",
              "    .dataframe tbody tr th:only-of-type {\n",
              "        vertical-align: middle;\n",
              "    }\n",
              "\n",
              "    .dataframe tbody tr th {\n",
              "        vertical-align: top;\n",
              "    }\n",
              "\n",
              "    .dataframe thead th {\n",
              "        text-align: right;\n",
              "    }\n",
              "</style>\n",
              "<table border=\"1\" class=\"dataframe\">\n",
              "  <thead>\n",
              "    <tr style=\"text-align: right;\">\n",
              "      <th></th>\n",
              "      <th>Prev Close</th>\n",
              "      <th>Open</th>\n",
              "      <th>High</th>\n",
              "      <th>Low</th>\n",
              "      <th>Last</th>\n",
              "      <th>Close</th>\n",
              "      <th>VWAP</th>\n",
              "      <th>Volume</th>\n",
              "      <th>Turnover</th>\n",
              "      <th>Trades</th>\n",
              "      <th>Deliverable Volume</th>\n",
              "      <th>%Deliverble</th>\n",
              "    </tr>\n",
              "  </thead>\n",
              "  <tbody>\n",
              "    <tr>\n",
              "      <th>2850</th>\n",
              "      <td>281.05</td>\n",
              "      <td>283.00</td>\n",
              "      <td>284.30</td>\n",
              "      <td>278.20</td>\n",
              "      <td>282.00</td>\n",
              "      <td>281.60</td>\n",
              "      <td>281.78</td>\n",
              "      <td>1969133</td>\n",
              "      <td>5.548532e+13</td>\n",
              "      <td>35221.0</td>\n",
              "      <td>858592.0</td>\n",
              "      <td>0.4360</td>\n",
              "    </tr>\n",
              "    <tr>\n",
              "      <th>2851</th>\n",
              "      <td>281.60</td>\n",
              "      <td>279.50</td>\n",
              "      <td>285.60</td>\n",
              "      <td>278.35</td>\n",
              "      <td>280.65</td>\n",
              "      <td>281.10</td>\n",
              "      <td>282.57</td>\n",
              "      <td>2716496</td>\n",
              "      <td>7.676109e+13</td>\n",
              "      <td>44234.0</td>\n",
              "      <td>1141200.0</td>\n",
              "      <td>0.4201</td>\n",
              "    </tr>\n",
              "    <tr>\n",
              "      <th>2852</th>\n",
              "      <td>281.10</td>\n",
              "      <td>281.25</td>\n",
              "      <td>283.90</td>\n",
              "      <td>278.60</td>\n",
              "      <td>280.10</td>\n",
              "      <td>280.00</td>\n",
              "      <td>280.92</td>\n",
              "      <td>1623442</td>\n",
              "      <td>4.560549e+13</td>\n",
              "      <td>22410.0</td>\n",
              "      <td>771670.0</td>\n",
              "      <td>0.4753</td>\n",
              "    </tr>\n",
              "    <tr>\n",
              "      <th>2853</th>\n",
              "      <td>280.00</td>\n",
              "      <td>278.10</td>\n",
              "      <td>279.75</td>\n",
              "      <td>275.30</td>\n",
              "      <td>275.70</td>\n",
              "      <td>275.85</td>\n",
              "      <td>276.50</td>\n",
              "      <td>1436297</td>\n",
              "      <td>3.971384e+13</td>\n",
              "      <td>27811.0</td>\n",
              "      <td>761602.0</td>\n",
              "      <td>0.5303</td>\n",
              "    </tr>\n",
              "    <tr>\n",
              "      <th>2854</th>\n",
              "      <td>275.85</td>\n",
              "      <td>275.00</td>\n",
              "      <td>277.50</td>\n",
              "      <td>273.00</td>\n",
              "      <td>277.45</td>\n",
              "      <td>276.35</td>\n",
              "      <td>275.49</td>\n",
              "      <td>3045575</td>\n",
              "      <td>8.390230e+13</td>\n",
              "      <td>40454.0</td>\n",
              "      <td>1636427.0</td>\n",
              "      <td>0.5373</td>\n",
              "    </tr>\n",
              "    <tr>\n",
              "      <th>...</th>\n",
              "      <td>...</td>\n",
              "      <td>...</td>\n",
              "      <td>...</td>\n",
              "      <td>...</td>\n",
              "      <td>...</td>\n",
              "      <td>...</td>\n",
              "      <td>...</td>\n",
              "      <td>...</td>\n",
              "      <td>...</td>\n",
              "      <td>...</td>\n",
              "      <td>...</td>\n",
              "      <td>...</td>\n",
              "    </tr>\n",
              "    <tr>\n",
              "      <th>5301</th>\n",
              "      <td>102.40</td>\n",
              "      <td>105.25</td>\n",
              "      <td>105.70</td>\n",
              "      <td>102.50</td>\n",
              "      <td>102.80</td>\n",
              "      <td>102.80</td>\n",
              "      <td>103.86</td>\n",
              "      <td>11797791</td>\n",
              "      <td>1.225355e+14</td>\n",
              "      <td>63132.0</td>\n",
              "      <td>3024740.0</td>\n",
              "      <td>0.2564</td>\n",
              "    </tr>\n",
              "    <tr>\n",
              "      <th>5302</th>\n",
              "      <td>102.80</td>\n",
              "      <td>102.80</td>\n",
              "      <td>104.00</td>\n",
              "      <td>102.80</td>\n",
              "      <td>103.30</td>\n",
              "      <td>103.20</td>\n",
              "      <td>103.42</td>\n",
              "      <td>8886250</td>\n",
              "      <td>9.189768e+13</td>\n",
              "      <td>46923.0</td>\n",
              "      <td>3802836.0</td>\n",
              "      <td>0.4279</td>\n",
              "    </tr>\n",
              "    <tr>\n",
              "      <th>5303</th>\n",
              "      <td>103.20</td>\n",
              "      <td>103.75</td>\n",
              "      <td>104.40</td>\n",
              "      <td>103.30</td>\n",
              "      <td>104.05</td>\n",
              "      <td>103.90</td>\n",
              "      <td>103.90</td>\n",
              "      <td>6887787</td>\n",
              "      <td>7.156081e+13</td>\n",
              "      <td>33659.0</td>\n",
              "      <td>2533669.0</td>\n",
              "      <td>0.3678</td>\n",
              "    </tr>\n",
              "    <tr>\n",
              "      <th>5304</th>\n",
              "      <td>103.90</td>\n",
              "      <td>104.90</td>\n",
              "      <td>105.90</td>\n",
              "      <td>103.55</td>\n",
              "      <td>104.30</td>\n",
              "      <td>104.05</td>\n",
              "      <td>104.39</td>\n",
              "      <td>14990087</td>\n",
              "      <td>1.564876e+14</td>\n",
              "      <td>54416.0</td>\n",
              "      <td>4613745.0</td>\n",
              "      <td>0.3078</td>\n",
              "    </tr>\n",
              "    <tr>\n",
              "      <th>5305</th>\n",
              "      <td>104.05</td>\n",
              "      <td>104.15</td>\n",
              "      <td>112.70</td>\n",
              "      <td>103.30</td>\n",
              "      <td>108.20</td>\n",
              "      <td>108.15</td>\n",
              "      <td>109.79</td>\n",
              "      <td>81358264</td>\n",
              "      <td>8.932632e+14</td>\n",
              "      <td>248419.0</td>\n",
              "      <td>15306987.0</td>\n",
              "      <td>0.1881</td>\n",
              "    </tr>\n",
              "  </tbody>\n",
              "</table>\n",
              "<p>2456 rows × 12 columns</p>\n",
              "</div>\n",
              "    <div class=\"colab-df-buttons\">\n",
              "\n",
              "  <div class=\"colab-df-container\">\n",
              "    <button class=\"colab-df-convert\" onclick=\"convertToInteractive('df-70da32a7-d787-40f6-a491-5927447e59a1')\"\n",
              "            title=\"Convert this dataframe to an interactive table.\"\n",
              "            style=\"display:none;\">\n",
              "\n",
              "  <svg xmlns=\"http://www.w3.org/2000/svg\" height=\"24px\" viewBox=\"0 -960 960 960\">\n",
              "    <path d=\"M120-120v-720h720v720H120Zm60-500h600v-160H180v160Zm220 220h160v-160H400v160Zm0 220h160v-160H400v160ZM180-400h160v-160H180v160Zm440 0h160v-160H620v160ZM180-180h160v-160H180v160Zm440 0h160v-160H620v160Z\"/>\n",
              "  </svg>\n",
              "    </button>\n",
              "\n",
              "  <style>\n",
              "    .colab-df-container {\n",
              "      display:flex;\n",
              "      gap: 12px;\n",
              "    }\n",
              "\n",
              "    .colab-df-convert {\n",
              "      background-color: #E8F0FE;\n",
              "      border: none;\n",
              "      border-radius: 50%;\n",
              "      cursor: pointer;\n",
              "      display: none;\n",
              "      fill: #1967D2;\n",
              "      height: 32px;\n",
              "      padding: 0 0 0 0;\n",
              "      width: 32px;\n",
              "    }\n",
              "\n",
              "    .colab-df-convert:hover {\n",
              "      background-color: #E2EBFA;\n",
              "      box-shadow: 0px 1px 2px rgba(60, 64, 67, 0.3), 0px 1px 3px 1px rgba(60, 64, 67, 0.15);\n",
              "      fill: #174EA6;\n",
              "    }\n",
              "\n",
              "    .colab-df-buttons div {\n",
              "      margin-bottom: 4px;\n",
              "    }\n",
              "\n",
              "    [theme=dark] .colab-df-convert {\n",
              "      background-color: #3B4455;\n",
              "      fill: #D2E3FC;\n",
              "    }\n",
              "\n",
              "    [theme=dark] .colab-df-convert:hover {\n",
              "      background-color: #434B5C;\n",
              "      box-shadow: 0px 1px 3px 1px rgba(0, 0, 0, 0.15);\n",
              "      filter: drop-shadow(0px 1px 2px rgba(0, 0, 0, 0.3));\n",
              "      fill: #FFFFFF;\n",
              "    }\n",
              "  </style>\n",
              "\n",
              "    <script>\n",
              "      const buttonEl =\n",
              "        document.querySelector('#df-70da32a7-d787-40f6-a491-5927447e59a1 button.colab-df-convert');\n",
              "      buttonEl.style.display =\n",
              "        google.colab.kernel.accessAllowed ? 'block' : 'none';\n",
              "\n",
              "      async function convertToInteractive(key) {\n",
              "        const element = document.querySelector('#df-70da32a7-d787-40f6-a491-5927447e59a1');\n",
              "        const dataTable =\n",
              "          await google.colab.kernel.invokeFunction('convertToInteractive',\n",
              "                                                    [key], {});\n",
              "        if (!dataTable) return;\n",
              "\n",
              "        const docLinkHtml = 'Like what you see? Visit the ' +\n",
              "          '<a target=\"_blank\" href=https://colab.research.google.com/notebooks/data_table.ipynb>data table notebook</a>'\n",
              "          + ' to learn more about interactive tables.';\n",
              "        element.innerHTML = '';\n",
              "        dataTable['output_type'] = 'display_data';\n",
              "        await google.colab.output.renderOutput(dataTable, element);\n",
              "        const docLink = document.createElement('div');\n",
              "        docLink.innerHTML = docLinkHtml;\n",
              "        element.appendChild(docLink);\n",
              "      }\n",
              "    </script>\n",
              "  </div>\n",
              "\n",
              "\n",
              "<div id=\"df-3c6544af-9df2-49b8-9fe0-2442d37f9505\">\n",
              "  <button class=\"colab-df-quickchart\" onclick=\"quickchart('df-3c6544af-9df2-49b8-9fe0-2442d37f9505')\"\n",
              "            title=\"Suggest charts\"\n",
              "            style=\"display:none;\">\n",
              "\n",
              "<svg xmlns=\"http://www.w3.org/2000/svg\" height=\"24px\"viewBox=\"0 0 24 24\"\n",
              "     width=\"24px\">\n",
              "    <g>\n",
              "        <path d=\"M19 3H5c-1.1 0-2 .9-2 2v14c0 1.1.9 2 2 2h14c1.1 0 2-.9 2-2V5c0-1.1-.9-2-2-2zM9 17H7v-7h2v7zm4 0h-2V7h2v10zm4 0h-2v-4h2v4z\"/>\n",
              "    </g>\n",
              "</svg>\n",
              "  </button>\n",
              "\n",
              "<style>\n",
              "  .colab-df-quickchart {\n",
              "      --bg-color: #E8F0FE;\n",
              "      --fill-color: #1967D2;\n",
              "      --hover-bg-color: #E2EBFA;\n",
              "      --hover-fill-color: #174EA6;\n",
              "      --disabled-fill-color: #AAA;\n",
              "      --disabled-bg-color: #DDD;\n",
              "  }\n",
              "\n",
              "  [theme=dark] .colab-df-quickchart {\n",
              "      --bg-color: #3B4455;\n",
              "      --fill-color: #D2E3FC;\n",
              "      --hover-bg-color: #434B5C;\n",
              "      --hover-fill-color: #FFFFFF;\n",
              "      --disabled-bg-color: #3B4455;\n",
              "      --disabled-fill-color: #666;\n",
              "  }\n",
              "\n",
              "  .colab-df-quickchart {\n",
              "    background-color: var(--bg-color);\n",
              "    border: none;\n",
              "    border-radius: 50%;\n",
              "    cursor: pointer;\n",
              "    display: none;\n",
              "    fill: var(--fill-color);\n",
              "    height: 32px;\n",
              "    padding: 0;\n",
              "    width: 32px;\n",
              "  }\n",
              "\n",
              "  .colab-df-quickchart:hover {\n",
              "    background-color: var(--hover-bg-color);\n",
              "    box-shadow: 0 1px 2px rgba(60, 64, 67, 0.3), 0 1px 3px 1px rgba(60, 64, 67, 0.15);\n",
              "    fill: var(--button-hover-fill-color);\n",
              "  }\n",
              "\n",
              "  .colab-df-quickchart-complete:disabled,\n",
              "  .colab-df-quickchart-complete:disabled:hover {\n",
              "    background-color: var(--disabled-bg-color);\n",
              "    fill: var(--disabled-fill-color);\n",
              "    box-shadow: none;\n",
              "  }\n",
              "\n",
              "  .colab-df-spinner {\n",
              "    border: 2px solid var(--fill-color);\n",
              "    border-color: transparent;\n",
              "    border-bottom-color: var(--fill-color);\n",
              "    animation:\n",
              "      spin 1s steps(1) infinite;\n",
              "  }\n",
              "\n",
              "  @keyframes spin {\n",
              "    0% {\n",
              "      border-color: transparent;\n",
              "      border-bottom-color: var(--fill-color);\n",
              "      border-left-color: var(--fill-color);\n",
              "    }\n",
              "    20% {\n",
              "      border-color: transparent;\n",
              "      border-left-color: var(--fill-color);\n",
              "      border-top-color: var(--fill-color);\n",
              "    }\n",
              "    30% {\n",
              "      border-color: transparent;\n",
              "      border-left-color: var(--fill-color);\n",
              "      border-top-color: var(--fill-color);\n",
              "      border-right-color: var(--fill-color);\n",
              "    }\n",
              "    40% {\n",
              "      border-color: transparent;\n",
              "      border-right-color: var(--fill-color);\n",
              "      border-top-color: var(--fill-color);\n",
              "    }\n",
              "    60% {\n",
              "      border-color: transparent;\n",
              "      border-right-color: var(--fill-color);\n",
              "    }\n",
              "    80% {\n",
              "      border-color: transparent;\n",
              "      border-right-color: var(--fill-color);\n",
              "      border-bottom-color: var(--fill-color);\n",
              "    }\n",
              "    90% {\n",
              "      border-color: transparent;\n",
              "      border-bottom-color: var(--fill-color);\n",
              "    }\n",
              "  }\n",
              "</style>\n",
              "\n",
              "  <script>\n",
              "    async function quickchart(key) {\n",
              "      const quickchartButtonEl =\n",
              "        document.querySelector('#' + key + ' button');\n",
              "      quickchartButtonEl.disabled = true;  // To prevent multiple clicks.\n",
              "      quickchartButtonEl.classList.add('colab-df-spinner');\n",
              "      try {\n",
              "        const charts = await google.colab.kernel.invokeFunction(\n",
              "            'suggestCharts', [key], {});\n",
              "      } catch (error) {\n",
              "        console.error('Error during call to suggestCharts:', error);\n",
              "      }\n",
              "      quickchartButtonEl.classList.remove('colab-df-spinner');\n",
              "      quickchartButtonEl.classList.add('colab-df-quickchart-complete');\n",
              "    }\n",
              "    (() => {\n",
              "      let quickchartButtonEl =\n",
              "        document.querySelector('#df-3c6544af-9df2-49b8-9fe0-2442d37f9505 button');\n",
              "      quickchartButtonEl.style.display =\n",
              "        google.colab.kernel.accessAllowed ? 'block' : 'none';\n",
              "    })();\n",
              "  </script>\n",
              "</div>\n",
              "\n",
              "  <div id=\"id_f5fc2c0a-ff6e-454f-a280-03c799a2c53e\">\n",
              "    <style>\n",
              "      .colab-df-generate {\n",
              "        background-color: #E8F0FE;\n",
              "        border: none;\n",
              "        border-radius: 50%;\n",
              "        cursor: pointer;\n",
              "        display: none;\n",
              "        fill: #1967D2;\n",
              "        height: 32px;\n",
              "        padding: 0 0 0 0;\n",
              "        width: 32px;\n",
              "      }\n",
              "\n",
              "      .colab-df-generate:hover {\n",
              "        background-color: #E2EBFA;\n",
              "        box-shadow: 0px 1px 2px rgba(60, 64, 67, 0.3), 0px 1px 3px 1px rgba(60, 64, 67, 0.15);\n",
              "        fill: #174EA6;\n",
              "      }\n",
              "\n",
              "      [theme=dark] .colab-df-generate {\n",
              "        background-color: #3B4455;\n",
              "        fill: #D2E3FC;\n",
              "      }\n",
              "\n",
              "      [theme=dark] .colab-df-generate:hover {\n",
              "        background-color: #434B5C;\n",
              "        box-shadow: 0px 1px 3px 1px rgba(0, 0, 0, 0.15);\n",
              "        filter: drop-shadow(0px 1px 2px rgba(0, 0, 0, 0.3));\n",
              "        fill: #FFFFFF;\n",
              "      }\n",
              "    </style>\n",
              "    <button class=\"colab-df-generate\" onclick=\"generateWithVariable('d')\"\n",
              "            title=\"Generate code using this dataframe.\"\n",
              "            style=\"display:none;\">\n",
              "\n",
              "  <svg xmlns=\"http://www.w3.org/2000/svg\" height=\"24px\"viewBox=\"0 0 24 24\"\n",
              "       width=\"24px\">\n",
              "    <path d=\"M7,19H8.4L18.45,9,17,7.55,7,17.6ZM5,21V16.75L18.45,3.32a2,2,0,0,1,2.83,0l1.4,1.43a1.91,1.91,0,0,1,.58,1.4,1.91,1.91,0,0,1-.58,1.4L9.25,21ZM18.45,9,17,7.55Zm-12,3A5.31,5.31,0,0,0,4.9,8.1,5.31,5.31,0,0,0,1,6.5,5.31,5.31,0,0,0,4.9,4.9,5.31,5.31,0,0,0,6.5,1,5.31,5.31,0,0,0,8.1,4.9,5.31,5.31,0,0,0,12,6.5,5.46,5.46,0,0,0,6.5,12Z\"/>\n",
              "  </svg>\n",
              "    </button>\n",
              "    <script>\n",
              "      (() => {\n",
              "      const buttonEl =\n",
              "        document.querySelector('#id_f5fc2c0a-ff6e-454f-a280-03c799a2c53e button.colab-df-generate');\n",
              "      buttonEl.style.display =\n",
              "        google.colab.kernel.accessAllowed ? 'block' : 'none';\n",
              "\n",
              "      buttonEl.onclick = () => {\n",
              "        google.colab.notebook.generateWithVariable('d');\n",
              "      }\n",
              "      })();\n",
              "    </script>\n",
              "  </div>\n",
              "\n",
              "    </div>\n",
              "  </div>\n"
            ],
            "application/vnd.google.colaboratory.intrinsic+json": {
              "type": "dataframe",
              "variable_name": "d",
              "summary": "{\n  \"name\": \"d\",\n  \"rows\": 2456,\n  \"fields\": [\n    {\n      \"column\": \"Prev Close\",\n      \"properties\": {\n        \"dtype\": \"number\",\n        \"std\": 87.54949601169798,\n        \"min\": 60.0,\n        \"max\": 465.65,\n        \"num_unique_values\": 1929,\n        \"samples\": [\n          193.05,\n          124.15,\n          100.65\n        ],\n        \"semantic_type\": \"\",\n        \"description\": \"\"\n      }\n    },\n    {\n      \"column\": \"Open\",\n      \"properties\": {\n        \"dtype\": \"number\",\n        \"std\": 87.68440339310543,\n        \"min\": 59.4,\n        \"max\": 470.0,\n        \"num_unique_values\": 1730,\n        \"samples\": [\n          406.25,\n          172.85,\n          347.05\n        ],\n        \"semantic_type\": \"\",\n        \"description\": \"\"\n      }\n    },\n    {\n      \"column\": \"High\",\n      \"properties\": {\n        \"dtype\": \"number\",\n        \"std\": 88.94703734442639,\n        \"min\": 63.0,\n        \"max\": 471.85,\n        \"num_unique_values\": 1894,\n        \"samples\": [\n          193.75,\n          456.5,\n          213.05\n        ],\n        \"semantic_type\": \"\",\n        \"description\": \"\"\n      }\n    },\n    {\n      \"column\": \"Low\",\n      \"properties\": {\n        \"dtype\": \"number\",\n        \"std\": 86.32104053704457,\n        \"min\": 50.0,\n        \"max\": 448.0,\n        \"num_unique_values\": 1852,\n        \"samples\": [\n          279.5,\n          282.0,\n          192.0\n        ],\n        \"semantic_type\": \"\",\n        \"description\": \"\"\n      }\n    },\n    {\n      \"column\": \"Last\",\n      \"properties\": {\n        \"dtype\": \"number\",\n        \"std\": 87.5547974835672,\n        \"min\": 60.2,\n        \"max\": 463.4,\n        \"num_unique_values\": 1852,\n        \"samples\": [\n          282.6,\n          275.05,\n          189.15\n        ],\n        \"semantic_type\": \"\",\n        \"description\": \"\"\n      }\n    },\n    {\n      \"column\": \"Close\",\n      \"properties\": {\n        \"dtype\": \"number\",\n        \"std\": 87.5736077142222,\n        \"min\": 60.0,\n        \"max\": 465.65,\n        \"num_unique_values\": 1930,\n        \"samples\": [\n          193.05,\n          125.45,\n          102.55\n        ],\n        \"semantic_type\": \"\",\n        \"description\": \"\"\n      }\n    },\n    {\n      \"column\": \"VWAP\",\n      \"properties\": {\n        \"dtype\": \"number\",\n        \"std\": 87.58743218608569,\n        \"min\": 61.0,\n        \"max\": 454.88,\n        \"num_unique_values\": 2339,\n        \"samples\": [\n          275.68,\n          307.97,\n          332.98\n        ],\n        \"semantic_type\": \"\",\n        \"description\": \"\"\n      }\n    },\n    {\n      \"column\": \"Volume\",\n      \"properties\": {\n        \"dtype\": \"number\",\n        \"std\": 11835734,\n        \"min\": 36802,\n        \"max\": 178593486,\n        \"num_unique_values\": 2456,\n        \"samples\": [\n          5330454,\n          2237494,\n          9231112\n        ],\n        \"semantic_type\": \"\",\n        \"description\": \"\"\n      }\n    },\n    {\n      \"column\": \"Turnover\",\n      \"properties\": {\n        \"dtype\": \"number\",\n        \"std\": 123437354214477.7,\n        \"min\": 970805500000.0,\n        \"max\": 2264403887910000.0,\n        \"num_unique_values\": 2456,\n        \"samples\": [\n          133540372120000.0,\n          64152661540000.0,\n          134648169605000.0\n        ],\n        \"semantic_type\": \"\",\n        \"description\": \"\"\n      }\n    },\n    {\n      \"column\": \"Trades\",\n      \"properties\": {\n        \"dtype\": \"number\",\n        \"std\": 37654.19243719542,\n        \"min\": 864.0,\n        \"max\": 364976.0,\n        \"num_unique_values\": 2426,\n        \"samples\": [\n          52473.0,\n          61437.0,\n          29323.0\n        ],\n        \"semantic_type\": \"\",\n        \"description\": \"\"\n      }\n    },\n    {\n      \"column\": \"Deliverable Volume\",\n      \"properties\": {\n        \"dtype\": \"number\",\n        \"std\": 4652204.330715363,\n        \"min\": 13609.0,\n        \"max\": 95873845.0,\n        \"num_unique_values\": 2456,\n        \"samples\": [\n          2979552.0,\n          1417103.0,\n          5339623.0\n        ],\n        \"semantic_type\": \"\",\n        \"description\": \"\"\n      }\n    },\n    {\n      \"column\": \"%Deliverble\",\n      \"properties\": {\n        \"dtype\": \"number\",\n        \"std\": 0.13078570490488875,\n        \"min\": 0.1213,\n        \"max\": 0.8567,\n        \"num_unique_values\": 1893,\n        \"samples\": [\n          0.4168,\n          0.7183,\n          0.3751\n        ],\n        \"semantic_type\": \"\",\n        \"description\": \"\"\n      }\n    }\n  ]\n}"
            }
          },
          "metadata": {},
          "execution_count": 15
        }
      ]
    },
    {
      "cell_type": "code",
      "source": [
        "d.corr()"
      ],
      "metadata": {
        "colab": {
          "base_uri": "https://localhost:8080/",
          "height": 480
        },
        "id": "vp9RLbptqzfJ",
        "outputId": "3bd15c51-0946-4d80-f7dc-3604132e57f2"
      },
      "execution_count": null,
      "outputs": [
        {
          "output_type": "execute_result",
          "data": {
            "text/plain": [
              "                    Prev Close      Open      High       Low      Last  \\\n",
              "Prev Close            1.000000  0.999391  0.998834  0.998789  0.998250   \n",
              "Open                  0.999391  1.000000  0.999365  0.999268  0.998677   \n",
              "High                  0.998834  0.999365  1.000000  0.999156  0.999437   \n",
              "Low                   0.998789  0.999268  0.999156  1.000000  0.999359   \n",
              "Last                  0.998250  0.998677  0.999437  0.999359  1.000000   \n",
              "Close                 0.998265  0.998708  0.999481  0.999385  0.999965   \n",
              "VWAP                  0.998817  0.999307  0.999755  0.999674  0.999747   \n",
              "Volume               -0.495996 -0.495123 -0.486588 -0.499218 -0.493092   \n",
              "Turnover             -0.131481 -0.128663 -0.116993 -0.135003 -0.125621   \n",
              "Trades               -0.156357 -0.154275 -0.142449 -0.162170 -0.152247   \n",
              "Deliverable Volume   -0.400079 -0.399816 -0.392370 -0.403981 -0.398491   \n",
              "%Deliverble           0.491799  0.490269  0.485529  0.493744  0.488908   \n",
              "\n",
              "                       Close      VWAP    Volume  Turnover    Trades  \\\n",
              "Prev Close          0.998265  0.998817 -0.495996 -0.131481 -0.156357   \n",
              "Open                0.998708  0.999307 -0.495123 -0.128663 -0.154275   \n",
              "High                0.999481  0.999755 -0.486588 -0.116993 -0.142449   \n",
              "Low                 0.999385  0.999674 -0.499218 -0.135003 -0.162170   \n",
              "Last                0.999965  0.999747 -0.493092 -0.125621 -0.152247   \n",
              "Close               1.000000  0.999791 -0.492788 -0.125349 -0.151943   \n",
              "VWAP                0.999791  1.000000 -0.493022 -0.125873 -0.152275   \n",
              "Volume             -0.492788 -0.493022  1.000000  0.828680  0.745926   \n",
              "Turnover           -0.125349 -0.125873  0.828680  1.000000  0.812309   \n",
              "Trades             -0.151943 -0.152275  0.745926  0.812309  1.000000   \n",
              "Deliverable Volume -0.398156 -0.398545  0.885889  0.824614  0.636332   \n",
              "%Deliverble         0.488899  0.488909 -0.414312 -0.201509 -0.270596   \n",
              "\n",
              "                    Deliverable Volume  %Deliverble  \n",
              "Prev Close                   -0.400079     0.491799  \n",
              "Open                         -0.399816     0.490269  \n",
              "High                         -0.392370     0.485529  \n",
              "Low                          -0.403981     0.493744  \n",
              "Last                         -0.398491     0.488908  \n",
              "Close                        -0.398156     0.488899  \n",
              "VWAP                         -0.398545     0.488909  \n",
              "Volume                        0.885889    -0.414312  \n",
              "Turnover                      0.824614    -0.201509  \n",
              "Trades                        0.636332    -0.270596  \n",
              "Deliverable Volume            1.000000    -0.133976  \n",
              "%Deliverble                  -0.133976     1.000000  "
            ],
            "text/html": [
              "\n",
              "  <div id=\"df-358a6601-bcb6-4dbd-96d1-a637b2c0e319\" class=\"colab-df-container\">\n",
              "    <div>\n",
              "<style scoped>\n",
              "    .dataframe tbody tr th:only-of-type {\n",
              "        vertical-align: middle;\n",
              "    }\n",
              "\n",
              "    .dataframe tbody tr th {\n",
              "        vertical-align: top;\n",
              "    }\n",
              "\n",
              "    .dataframe thead th {\n",
              "        text-align: right;\n",
              "    }\n",
              "</style>\n",
              "<table border=\"1\" class=\"dataframe\">\n",
              "  <thead>\n",
              "    <tr style=\"text-align: right;\">\n",
              "      <th></th>\n",
              "      <th>Prev Close</th>\n",
              "      <th>Open</th>\n",
              "      <th>High</th>\n",
              "      <th>Low</th>\n",
              "      <th>Last</th>\n",
              "      <th>Close</th>\n",
              "      <th>VWAP</th>\n",
              "      <th>Volume</th>\n",
              "      <th>Turnover</th>\n",
              "      <th>Trades</th>\n",
              "      <th>Deliverable Volume</th>\n",
              "      <th>%Deliverble</th>\n",
              "    </tr>\n",
              "  </thead>\n",
              "  <tbody>\n",
              "    <tr>\n",
              "      <th>Prev Close</th>\n",
              "      <td>1.000000</td>\n",
              "      <td>0.999391</td>\n",
              "      <td>0.998834</td>\n",
              "      <td>0.998789</td>\n",
              "      <td>0.998250</td>\n",
              "      <td>0.998265</td>\n",
              "      <td>0.998817</td>\n",
              "      <td>-0.495996</td>\n",
              "      <td>-0.131481</td>\n",
              "      <td>-0.156357</td>\n",
              "      <td>-0.400079</td>\n",
              "      <td>0.491799</td>\n",
              "    </tr>\n",
              "    <tr>\n",
              "      <th>Open</th>\n",
              "      <td>0.999391</td>\n",
              "      <td>1.000000</td>\n",
              "      <td>0.999365</td>\n",
              "      <td>0.999268</td>\n",
              "      <td>0.998677</td>\n",
              "      <td>0.998708</td>\n",
              "      <td>0.999307</td>\n",
              "      <td>-0.495123</td>\n",
              "      <td>-0.128663</td>\n",
              "      <td>-0.154275</td>\n",
              "      <td>-0.399816</td>\n",
              "      <td>0.490269</td>\n",
              "    </tr>\n",
              "    <tr>\n",
              "      <th>High</th>\n",
              "      <td>0.998834</td>\n",
              "      <td>0.999365</td>\n",
              "      <td>1.000000</td>\n",
              "      <td>0.999156</td>\n",
              "      <td>0.999437</td>\n",
              "      <td>0.999481</td>\n",
              "      <td>0.999755</td>\n",
              "      <td>-0.486588</td>\n",
              "      <td>-0.116993</td>\n",
              "      <td>-0.142449</td>\n",
              "      <td>-0.392370</td>\n",
              "      <td>0.485529</td>\n",
              "    </tr>\n",
              "    <tr>\n",
              "      <th>Low</th>\n",
              "      <td>0.998789</td>\n",
              "      <td>0.999268</td>\n",
              "      <td>0.999156</td>\n",
              "      <td>1.000000</td>\n",
              "      <td>0.999359</td>\n",
              "      <td>0.999385</td>\n",
              "      <td>0.999674</td>\n",
              "      <td>-0.499218</td>\n",
              "      <td>-0.135003</td>\n",
              "      <td>-0.162170</td>\n",
              "      <td>-0.403981</td>\n",
              "      <td>0.493744</td>\n",
              "    </tr>\n",
              "    <tr>\n",
              "      <th>Last</th>\n",
              "      <td>0.998250</td>\n",
              "      <td>0.998677</td>\n",
              "      <td>0.999437</td>\n",
              "      <td>0.999359</td>\n",
              "      <td>1.000000</td>\n",
              "      <td>0.999965</td>\n",
              "      <td>0.999747</td>\n",
              "      <td>-0.493092</td>\n",
              "      <td>-0.125621</td>\n",
              "      <td>-0.152247</td>\n",
              "      <td>-0.398491</td>\n",
              "      <td>0.488908</td>\n",
              "    </tr>\n",
              "    <tr>\n",
              "      <th>Close</th>\n",
              "      <td>0.998265</td>\n",
              "      <td>0.998708</td>\n",
              "      <td>0.999481</td>\n",
              "      <td>0.999385</td>\n",
              "      <td>0.999965</td>\n",
              "      <td>1.000000</td>\n",
              "      <td>0.999791</td>\n",
              "      <td>-0.492788</td>\n",
              "      <td>-0.125349</td>\n",
              "      <td>-0.151943</td>\n",
              "      <td>-0.398156</td>\n",
              "      <td>0.488899</td>\n",
              "    </tr>\n",
              "    <tr>\n",
              "      <th>VWAP</th>\n",
              "      <td>0.998817</td>\n",
              "      <td>0.999307</td>\n",
              "      <td>0.999755</td>\n",
              "      <td>0.999674</td>\n",
              "      <td>0.999747</td>\n",
              "      <td>0.999791</td>\n",
              "      <td>1.000000</td>\n",
              "      <td>-0.493022</td>\n",
              "      <td>-0.125873</td>\n",
              "      <td>-0.152275</td>\n",
              "      <td>-0.398545</td>\n",
              "      <td>0.488909</td>\n",
              "    </tr>\n",
              "    <tr>\n",
              "      <th>Volume</th>\n",
              "      <td>-0.495996</td>\n",
              "      <td>-0.495123</td>\n",
              "      <td>-0.486588</td>\n",
              "      <td>-0.499218</td>\n",
              "      <td>-0.493092</td>\n",
              "      <td>-0.492788</td>\n",
              "      <td>-0.493022</td>\n",
              "      <td>1.000000</td>\n",
              "      <td>0.828680</td>\n",
              "      <td>0.745926</td>\n",
              "      <td>0.885889</td>\n",
              "      <td>-0.414312</td>\n",
              "    </tr>\n",
              "    <tr>\n",
              "      <th>Turnover</th>\n",
              "      <td>-0.131481</td>\n",
              "      <td>-0.128663</td>\n",
              "      <td>-0.116993</td>\n",
              "      <td>-0.135003</td>\n",
              "      <td>-0.125621</td>\n",
              "      <td>-0.125349</td>\n",
              "      <td>-0.125873</td>\n",
              "      <td>0.828680</td>\n",
              "      <td>1.000000</td>\n",
              "      <td>0.812309</td>\n",
              "      <td>0.824614</td>\n",
              "      <td>-0.201509</td>\n",
              "    </tr>\n",
              "    <tr>\n",
              "      <th>Trades</th>\n",
              "      <td>-0.156357</td>\n",
              "      <td>-0.154275</td>\n",
              "      <td>-0.142449</td>\n",
              "      <td>-0.162170</td>\n",
              "      <td>-0.152247</td>\n",
              "      <td>-0.151943</td>\n",
              "      <td>-0.152275</td>\n",
              "      <td>0.745926</td>\n",
              "      <td>0.812309</td>\n",
              "      <td>1.000000</td>\n",
              "      <td>0.636332</td>\n",
              "      <td>-0.270596</td>\n",
              "    </tr>\n",
              "    <tr>\n",
              "      <th>Deliverable Volume</th>\n",
              "      <td>-0.400079</td>\n",
              "      <td>-0.399816</td>\n",
              "      <td>-0.392370</td>\n",
              "      <td>-0.403981</td>\n",
              "      <td>-0.398491</td>\n",
              "      <td>-0.398156</td>\n",
              "      <td>-0.398545</td>\n",
              "      <td>0.885889</td>\n",
              "      <td>0.824614</td>\n",
              "      <td>0.636332</td>\n",
              "      <td>1.000000</td>\n",
              "      <td>-0.133976</td>\n",
              "    </tr>\n",
              "    <tr>\n",
              "      <th>%Deliverble</th>\n",
              "      <td>0.491799</td>\n",
              "      <td>0.490269</td>\n",
              "      <td>0.485529</td>\n",
              "      <td>0.493744</td>\n",
              "      <td>0.488908</td>\n",
              "      <td>0.488899</td>\n",
              "      <td>0.488909</td>\n",
              "      <td>-0.414312</td>\n",
              "      <td>-0.201509</td>\n",
              "      <td>-0.270596</td>\n",
              "      <td>-0.133976</td>\n",
              "      <td>1.000000</td>\n",
              "    </tr>\n",
              "  </tbody>\n",
              "</table>\n",
              "</div>\n",
              "    <div class=\"colab-df-buttons\">\n",
              "\n",
              "  <div class=\"colab-df-container\">\n",
              "    <button class=\"colab-df-convert\" onclick=\"convertToInteractive('df-358a6601-bcb6-4dbd-96d1-a637b2c0e319')\"\n",
              "            title=\"Convert this dataframe to an interactive table.\"\n",
              "            style=\"display:none;\">\n",
              "\n",
              "  <svg xmlns=\"http://www.w3.org/2000/svg\" height=\"24px\" viewBox=\"0 -960 960 960\">\n",
              "    <path d=\"M120-120v-720h720v720H120Zm60-500h600v-160H180v160Zm220 220h160v-160H400v160Zm0 220h160v-160H400v160ZM180-400h160v-160H180v160Zm440 0h160v-160H620v160ZM180-180h160v-160H180v160Zm440 0h160v-160H620v160Z\"/>\n",
              "  </svg>\n",
              "    </button>\n",
              "\n",
              "  <style>\n",
              "    .colab-df-container {\n",
              "      display:flex;\n",
              "      gap: 12px;\n",
              "    }\n",
              "\n",
              "    .colab-df-convert {\n",
              "      background-color: #E8F0FE;\n",
              "      border: none;\n",
              "      border-radius: 50%;\n",
              "      cursor: pointer;\n",
              "      display: none;\n",
              "      fill: #1967D2;\n",
              "      height: 32px;\n",
              "      padding: 0 0 0 0;\n",
              "      width: 32px;\n",
              "    }\n",
              "\n",
              "    .colab-df-convert:hover {\n",
              "      background-color: #E2EBFA;\n",
              "      box-shadow: 0px 1px 2px rgba(60, 64, 67, 0.3), 0px 1px 3px 1px rgba(60, 64, 67, 0.15);\n",
              "      fill: #174EA6;\n",
              "    }\n",
              "\n",
              "    .colab-df-buttons div {\n",
              "      margin-bottom: 4px;\n",
              "    }\n",
              "\n",
              "    [theme=dark] .colab-df-convert {\n",
              "      background-color: #3B4455;\n",
              "      fill: #D2E3FC;\n",
              "    }\n",
              "\n",
              "    [theme=dark] .colab-df-convert:hover {\n",
              "      background-color: #434B5C;\n",
              "      box-shadow: 0px 1px 3px 1px rgba(0, 0, 0, 0.15);\n",
              "      filter: drop-shadow(0px 1px 2px rgba(0, 0, 0, 0.3));\n",
              "      fill: #FFFFFF;\n",
              "    }\n",
              "  </style>\n",
              "\n",
              "    <script>\n",
              "      const buttonEl =\n",
              "        document.querySelector('#df-358a6601-bcb6-4dbd-96d1-a637b2c0e319 button.colab-df-convert');\n",
              "      buttonEl.style.display =\n",
              "        google.colab.kernel.accessAllowed ? 'block' : 'none';\n",
              "\n",
              "      async function convertToInteractive(key) {\n",
              "        const element = document.querySelector('#df-358a6601-bcb6-4dbd-96d1-a637b2c0e319');\n",
              "        const dataTable =\n",
              "          await google.colab.kernel.invokeFunction('convertToInteractive',\n",
              "                                                    [key], {});\n",
              "        if (!dataTable) return;\n",
              "\n",
              "        const docLinkHtml = 'Like what you see? Visit the ' +\n",
              "          '<a target=\"_blank\" href=https://colab.research.google.com/notebooks/data_table.ipynb>data table notebook</a>'\n",
              "          + ' to learn more about interactive tables.';\n",
              "        element.innerHTML = '';\n",
              "        dataTable['output_type'] = 'display_data';\n",
              "        await google.colab.output.renderOutput(dataTable, element);\n",
              "        const docLink = document.createElement('div');\n",
              "        docLink.innerHTML = docLinkHtml;\n",
              "        element.appendChild(docLink);\n",
              "      }\n",
              "    </script>\n",
              "  </div>\n",
              "\n",
              "\n",
              "<div id=\"df-21cd56ce-224b-4f3e-8f75-4229835cb936\">\n",
              "  <button class=\"colab-df-quickchart\" onclick=\"quickchart('df-21cd56ce-224b-4f3e-8f75-4229835cb936')\"\n",
              "            title=\"Suggest charts\"\n",
              "            style=\"display:none;\">\n",
              "\n",
              "<svg xmlns=\"http://www.w3.org/2000/svg\" height=\"24px\"viewBox=\"0 0 24 24\"\n",
              "     width=\"24px\">\n",
              "    <g>\n",
              "        <path d=\"M19 3H5c-1.1 0-2 .9-2 2v14c0 1.1.9 2 2 2h14c1.1 0 2-.9 2-2V5c0-1.1-.9-2-2-2zM9 17H7v-7h2v7zm4 0h-2V7h2v10zm4 0h-2v-4h2v4z\"/>\n",
              "    </g>\n",
              "</svg>\n",
              "  </button>\n",
              "\n",
              "<style>\n",
              "  .colab-df-quickchart {\n",
              "      --bg-color: #E8F0FE;\n",
              "      --fill-color: #1967D2;\n",
              "      --hover-bg-color: #E2EBFA;\n",
              "      --hover-fill-color: #174EA6;\n",
              "      --disabled-fill-color: #AAA;\n",
              "      --disabled-bg-color: #DDD;\n",
              "  }\n",
              "\n",
              "  [theme=dark] .colab-df-quickchart {\n",
              "      --bg-color: #3B4455;\n",
              "      --fill-color: #D2E3FC;\n",
              "      --hover-bg-color: #434B5C;\n",
              "      --hover-fill-color: #FFFFFF;\n",
              "      --disabled-bg-color: #3B4455;\n",
              "      --disabled-fill-color: #666;\n",
              "  }\n",
              "\n",
              "  .colab-df-quickchart {\n",
              "    background-color: var(--bg-color);\n",
              "    border: none;\n",
              "    border-radius: 50%;\n",
              "    cursor: pointer;\n",
              "    display: none;\n",
              "    fill: var(--fill-color);\n",
              "    height: 32px;\n",
              "    padding: 0;\n",
              "    width: 32px;\n",
              "  }\n",
              "\n",
              "  .colab-df-quickchart:hover {\n",
              "    background-color: var(--hover-bg-color);\n",
              "    box-shadow: 0 1px 2px rgba(60, 64, 67, 0.3), 0 1px 3px 1px rgba(60, 64, 67, 0.15);\n",
              "    fill: var(--button-hover-fill-color);\n",
              "  }\n",
              "\n",
              "  .colab-df-quickchart-complete:disabled,\n",
              "  .colab-df-quickchart-complete:disabled:hover {\n",
              "    background-color: var(--disabled-bg-color);\n",
              "    fill: var(--disabled-fill-color);\n",
              "    box-shadow: none;\n",
              "  }\n",
              "\n",
              "  .colab-df-spinner {\n",
              "    border: 2px solid var(--fill-color);\n",
              "    border-color: transparent;\n",
              "    border-bottom-color: var(--fill-color);\n",
              "    animation:\n",
              "      spin 1s steps(1) infinite;\n",
              "  }\n",
              "\n",
              "  @keyframes spin {\n",
              "    0% {\n",
              "      border-color: transparent;\n",
              "      border-bottom-color: var(--fill-color);\n",
              "      border-left-color: var(--fill-color);\n",
              "    }\n",
              "    20% {\n",
              "      border-color: transparent;\n",
              "      border-left-color: var(--fill-color);\n",
              "      border-top-color: var(--fill-color);\n",
              "    }\n",
              "    30% {\n",
              "      border-color: transparent;\n",
              "      border-left-color: var(--fill-color);\n",
              "      border-top-color: var(--fill-color);\n",
              "      border-right-color: var(--fill-color);\n",
              "    }\n",
              "    40% {\n",
              "      border-color: transparent;\n",
              "      border-right-color: var(--fill-color);\n",
              "      border-top-color: var(--fill-color);\n",
              "    }\n",
              "    60% {\n",
              "      border-color: transparent;\n",
              "      border-right-color: var(--fill-color);\n",
              "    }\n",
              "    80% {\n",
              "      border-color: transparent;\n",
              "      border-right-color: var(--fill-color);\n",
              "      border-bottom-color: var(--fill-color);\n",
              "    }\n",
              "    90% {\n",
              "      border-color: transparent;\n",
              "      border-bottom-color: var(--fill-color);\n",
              "    }\n",
              "  }\n",
              "</style>\n",
              "\n",
              "  <script>\n",
              "    async function quickchart(key) {\n",
              "      const quickchartButtonEl =\n",
              "        document.querySelector('#' + key + ' button');\n",
              "      quickchartButtonEl.disabled = true;  // To prevent multiple clicks.\n",
              "      quickchartButtonEl.classList.add('colab-df-spinner');\n",
              "      try {\n",
              "        const charts = await google.colab.kernel.invokeFunction(\n",
              "            'suggestCharts', [key], {});\n",
              "      } catch (error) {\n",
              "        console.error('Error during call to suggestCharts:', error);\n",
              "      }\n",
              "      quickchartButtonEl.classList.remove('colab-df-spinner');\n",
              "      quickchartButtonEl.classList.add('colab-df-quickchart-complete');\n",
              "    }\n",
              "    (() => {\n",
              "      let quickchartButtonEl =\n",
              "        document.querySelector('#df-21cd56ce-224b-4f3e-8f75-4229835cb936 button');\n",
              "      quickchartButtonEl.style.display =\n",
              "        google.colab.kernel.accessAllowed ? 'block' : 'none';\n",
              "    })();\n",
              "  </script>\n",
              "</div>\n",
              "\n",
              "    </div>\n",
              "  </div>\n"
            ],
            "application/vnd.google.colaboratory.intrinsic+json": {
              "type": "dataframe",
              "summary": "{\n  \"name\": \"d\",\n  \"rows\": 12,\n  \"fields\": [\n    {\n      \"column\": \"Prev Close\",\n      \"properties\": {\n        \"dtype\": \"number\",\n        \"std\": 0.6300530605931802,\n        \"min\": -0.49599615645024464,\n        \"max\": 1.0,\n        \"num_unique_values\": 12,\n        \"samples\": [\n          -0.40007927294182943,\n          -0.1563565769299425,\n          1.0\n        ],\n        \"semantic_type\": \"\",\n        \"description\": \"\"\n      }\n    },\n    {\n      \"column\": \"Open\",\n      \"properties\": {\n        \"dtype\": \"number\",\n        \"std\": 0.629587805866811,\n        \"min\": -0.4951234105511369,\n        \"max\": 1.0,\n        \"num_unique_values\": 12,\n        \"samples\": [\n          -0.3998161183989405,\n          -0.15427494071237127,\n          0.9993911876860798\n        ],\n        \"semantic_type\": \"\",\n        \"description\": \"\"\n      }\n    },\n    {\n      \"column\": \"High\",\n      \"properties\": {\n        \"dtype\": \"number\",\n        \"std\": 0.6251930701109875,\n        \"min\": -0.4865880762224661,\n        \"max\": 1.0,\n        \"num_unique_values\": 12,\n        \"samples\": [\n          -0.3923700809769132,\n          -0.1424485310272238,\n          0.9988343877692523\n        ],\n        \"semantic_type\": \"\",\n        \"description\": \"\"\n      }\n    },\n    {\n      \"column\": \"Low\",\n      \"properties\": {\n        \"dtype\": \"number\",\n        \"std\": 0.6321700880430979,\n        \"min\": -0.499217731030019,\n        \"max\": 1.0,\n        \"num_unique_values\": 12,\n        \"samples\": [\n          -0.40398124022991666,\n          -0.16216973644046562,\n          0.9987887772490295\n        ],\n        \"semantic_type\": \"\",\n        \"description\": \"\"\n      }\n    },\n    {\n      \"column\": \"Last\",\n      \"properties\": {\n        \"dtype\": \"number\",\n        \"std\": 0.6286816648120586,\n        \"min\": -0.4930919727637689,\n        \"max\": 1.0,\n        \"num_unique_values\": 12,\n        \"samples\": [\n          -0.3984908969522083,\n          -0.15224727923371198,\n          0.9982499936997813\n        ],\n        \"semantic_type\": \"\",\n        \"description\": \"\"\n      }\n    },\n    {\n      \"column\": \"Close\",\n      \"properties\": {\n        \"dtype\": \"number\",\n        \"std\": 0.6285473838928389,\n        \"min\": -0.49278797140026587,\n        \"max\": 1.0,\n        \"num_unique_values\": 12,\n        \"samples\": [\n          -0.3981555040869479,\n          -0.15194344393003528,\n          0.9982649133234782\n        ],\n        \"semantic_type\": \"\",\n        \"description\": \"\"\n      }\n    },\n    {\n      \"column\": \"VWAP\",\n      \"properties\": {\n        \"dtype\": \"number\",\n        \"std\": 0.6288181419145974,\n        \"min\": -0.49302180662305267,\n        \"max\": 1.0,\n        \"num_unique_values\": 12,\n        \"samples\": [\n          -0.39854461685764786,\n          -0.1522752885329484,\n          0.9988166644292424\n        ],\n        \"semantic_type\": \"\",\n        \"description\": \"\"\n      }\n    },\n    {\n      \"column\": \"Volume\",\n      \"properties\": {\n        \"dtype\": \"number\",\n        \"std\": 0.666863892406331,\n        \"min\": -0.499217731030019,\n        \"max\": 1.0,\n        \"num_unique_values\": 12,\n        \"samples\": [\n          0.8858888783288292,\n          0.7459262186562752,\n          -0.49599615645024464\n        ],\n        \"semantic_type\": \"\",\n        \"description\": \"\"\n      }\n    },\n    {\n      \"column\": \"Turnover\",\n      \"properties\": {\n        \"dtype\": \"number\",\n        \"std\": 0.496363686162334,\n        \"min\": -0.2015087773621343,\n        \"max\": 1.0,\n        \"num_unique_values\": 12,\n        \"samples\": [\n          0.8246135307517166,\n          0.8123094413552144,\n          -0.131480946669044\n        ],\n        \"semantic_type\": \"\",\n        \"description\": \"\"\n      }\n    },\n    {\n      \"column\": \"Trades\",\n      \"properties\": {\n        \"dtype\": \"number\",\n        \"std\": 0.48362092777471666,\n        \"min\": -0.27059613730284143,\n        \"max\": 1.0,\n        \"num_unique_values\": 12,\n        \"samples\": [\n          0.6363316938932693,\n          1.0,\n          -0.1563565769299425\n        ],\n        \"semantic_type\": \"\",\n        \"description\": \"\"\n      }\n    },\n    {\n      \"column\": \"Deliverable Volume\",\n      \"properties\": {\n        \"dtype\": \"number\",\n        \"std\": 0.6019730139761283,\n        \"min\": -0.40398124022991666,\n        \"max\": 1.0,\n        \"num_unique_values\": 12,\n        \"samples\": [\n          1.0,\n          0.6363316938932693,\n          -0.40007927294182943\n        ],\n        \"semantic_type\": \"\",\n        \"description\": \"\"\n      }\n    },\n    {\n      \"column\": \"%Deliverble\",\n      \"properties\": {\n        \"dtype\": \"number\",\n        \"std\": 0.4279535994359276,\n        \"min\": -0.4143117577691447,\n        \"max\": 1.0,\n        \"num_unique_values\": 12,\n        \"samples\": [\n          -0.13397581710501125,\n          -0.27059613730284143,\n          0.4917986951927257\n        ],\n        \"semantic_type\": \"\",\n        \"description\": \"\"\n      }\n    }\n  ]\n}"
            }
          },
          "metadata": {},
          "execution_count": 16
        }
      ]
    },
    {
      "cell_type": "markdown",
      "source": [
        "# Simple Linear Regressor"
      ],
      "metadata": {
        "id": "PN_xzMVNsMpL"
      }
    },
    {
      "cell_type": "code",
      "source": [
        "X= d.iloc[:, 5:6].values\n",
        "X"
      ],
      "metadata": {
        "colab": {
          "base_uri": "https://localhost:8080/"
        },
        "id": "oZXDkIPps4d-",
        "outputId": "935eb0f3-7769-4f83-85a3-414d8b7da002"
      },
      "execution_count": null,
      "outputs": [
        {
          "output_type": "execute_result",
          "data": {
            "text/plain": [
              "array([[281.6 ],\n",
              "       [281.1 ],\n",
              "       [280.  ],\n",
              "       ...,\n",
              "       [103.9 ],\n",
              "       [104.05],\n",
              "       [108.15]])"
            ]
          },
          "metadata": {},
          "execution_count": 31
        }
      ]
    },
    {
      "cell_type": "code",
      "source": [
        "y= d.iloc[:, 6].values\n",
        "y"
      ],
      "metadata": {
        "colab": {
          "base_uri": "https://localhost:8080/"
        },
        "id": "5JXReaSSs4i5",
        "outputId": "703c7ac8-a77d-44a8-a06a-3c7057893292"
      },
      "execution_count": null,
      "outputs": [
        {
          "output_type": "execute_result",
          "data": {
            "text/plain": [
              "array([281.78, 282.57, 280.92, ..., 103.9 , 104.39, 109.79])"
            ]
          },
          "metadata": {},
          "execution_count": 32
        }
      ]
    },
    {
      "cell_type": "markdown",
      "source": [
        "# Splitting Dataset into Training & Testing set"
      ],
      "metadata": {
        "id": "OjWbnuvztjkx"
      }
    },
    {
      "cell_type": "code",
      "source": [
        "from sklearn.model_selection import train_test_split\n",
        "X_train,X_test,y_train,y_test=train_test_split(X,y,test_size=0.2,random_state=0)"
      ],
      "metadata": {
        "id": "5-uhWD_otUlv"
      },
      "execution_count": null,
      "outputs": []
    },
    {
      "cell_type": "markdown",
      "source": [
        "# Training Simple Linear Model on Training Set"
      ],
      "metadata": {
        "id": "DO_T4YIctnjT"
      }
    },
    {
      "cell_type": "code",
      "source": [
        "from sklearn.linear_model import LinearRegression\n",
        "regressor=LinearRegression()\n",
        "regressor.fit(X_train,y_train)"
      ],
      "metadata": {
        "colab": {
          "base_uri": "https://localhost:8080/",
          "height": 74
        },
        "id": "gclo0Jd7tUpC",
        "outputId": "c70e4285-985a-4256-ceb4-4bc69e6a7571"
      },
      "execution_count": null,
      "outputs": [
        {
          "output_type": "execute_result",
          "data": {
            "text/plain": [
              "LinearRegression()"
            ],
            "text/html": [
              "<style>#sk-container-id-2 {color: black;background-color: white;}#sk-container-id-2 pre{padding: 0;}#sk-container-id-2 div.sk-toggleable {background-color: white;}#sk-container-id-2 label.sk-toggleable__label {cursor: pointer;display: block;width: 100%;margin-bottom: 0;padding: 0.3em;box-sizing: border-box;text-align: center;}#sk-container-id-2 label.sk-toggleable__label-arrow:before {content: \"▸\";float: left;margin-right: 0.25em;color: #696969;}#sk-container-id-2 label.sk-toggleable__label-arrow:hover:before {color: black;}#sk-container-id-2 div.sk-estimator:hover label.sk-toggleable__label-arrow:before {color: black;}#sk-container-id-2 div.sk-toggleable__content {max-height: 0;max-width: 0;overflow: hidden;text-align: left;background-color: #f0f8ff;}#sk-container-id-2 div.sk-toggleable__content pre {margin: 0.2em;color: black;border-radius: 0.25em;background-color: #f0f8ff;}#sk-container-id-2 input.sk-toggleable__control:checked~div.sk-toggleable__content {max-height: 200px;max-width: 100%;overflow: auto;}#sk-container-id-2 input.sk-toggleable__control:checked~label.sk-toggleable__label-arrow:before {content: \"▾\";}#sk-container-id-2 div.sk-estimator input.sk-toggleable__control:checked~label.sk-toggleable__label {background-color: #d4ebff;}#sk-container-id-2 div.sk-label input.sk-toggleable__control:checked~label.sk-toggleable__label {background-color: #d4ebff;}#sk-container-id-2 input.sk-hidden--visually {border: 0;clip: rect(1px 1px 1px 1px);clip: rect(1px, 1px, 1px, 1px);height: 1px;margin: -1px;overflow: hidden;padding: 0;position: absolute;width: 1px;}#sk-container-id-2 div.sk-estimator {font-family: monospace;background-color: #f0f8ff;border: 1px dotted black;border-radius: 0.25em;box-sizing: border-box;margin-bottom: 0.5em;}#sk-container-id-2 div.sk-estimator:hover {background-color: #d4ebff;}#sk-container-id-2 div.sk-parallel-item::after {content: \"\";width: 100%;border-bottom: 1px solid gray;flex-grow: 1;}#sk-container-id-2 div.sk-label:hover label.sk-toggleable__label {background-color: #d4ebff;}#sk-container-id-2 div.sk-serial::before {content: \"\";position: absolute;border-left: 1px solid gray;box-sizing: border-box;top: 0;bottom: 0;left: 50%;z-index: 0;}#sk-container-id-2 div.sk-serial {display: flex;flex-direction: column;align-items: center;background-color: white;padding-right: 0.2em;padding-left: 0.2em;position: relative;}#sk-container-id-2 div.sk-item {position: relative;z-index: 1;}#sk-container-id-2 div.sk-parallel {display: flex;align-items: stretch;justify-content: center;background-color: white;position: relative;}#sk-container-id-2 div.sk-item::before, #sk-container-id-2 div.sk-parallel-item::before {content: \"\";position: absolute;border-left: 1px solid gray;box-sizing: border-box;top: 0;bottom: 0;left: 50%;z-index: -1;}#sk-container-id-2 div.sk-parallel-item {display: flex;flex-direction: column;z-index: 1;position: relative;background-color: white;}#sk-container-id-2 div.sk-parallel-item:first-child::after {align-self: flex-end;width: 50%;}#sk-container-id-2 div.sk-parallel-item:last-child::after {align-self: flex-start;width: 50%;}#sk-container-id-2 div.sk-parallel-item:only-child::after {width: 0;}#sk-container-id-2 div.sk-dashed-wrapped {border: 1px dashed gray;margin: 0 0.4em 0.5em 0.4em;box-sizing: border-box;padding-bottom: 0.4em;background-color: white;}#sk-container-id-2 div.sk-label label {font-family: monospace;font-weight: bold;display: inline-block;line-height: 1.2em;}#sk-container-id-2 div.sk-label-container {text-align: center;}#sk-container-id-2 div.sk-container {/* jupyter's `normalize.less` sets `[hidden] { display: none; }` but bootstrap.min.css set `[hidden] { display: none !important; }` so we also need the `!important` here to be able to override the default hidden behavior on the sphinx rendered scikit-learn.org. See: https://github.com/scikit-learn/scikit-learn/issues/21755 */display: inline-block !important;position: relative;}#sk-container-id-2 div.sk-text-repr-fallback {display: none;}</style><div id=\"sk-container-id-2\" class=\"sk-top-container\"><div class=\"sk-text-repr-fallback\"><pre>LinearRegression()</pre><b>In a Jupyter environment, please rerun this cell to show the HTML representation or trust the notebook. <br />On GitHub, the HTML representation is unable to render, please try loading this page with nbviewer.org.</b></div><div class=\"sk-container\" hidden><div class=\"sk-item\"><div class=\"sk-estimator sk-toggleable\"><input class=\"sk-toggleable__control sk-hidden--visually\" id=\"sk-estimator-id-2\" type=\"checkbox\" checked><label for=\"sk-estimator-id-2\" class=\"sk-toggleable__label sk-toggleable__label-arrow\">LinearRegression</label><div class=\"sk-toggleable__content\"><pre>LinearRegression()</pre></div></div></div></div></div>"
            ]
          },
          "metadata": {},
          "execution_count": 34
        }
      ]
    },
    {
      "cell_type": "markdown",
      "source": [
        "# Predicting the Test set result"
      ],
      "metadata": {
        "id": "-C7eVdETtqg3"
      }
    },
    {
      "cell_type": "code",
      "source": [
        "y_pred=regressor.predict(X_test)\n",
        "y_pred"
      ],
      "metadata": {
        "colab": {
          "base_uri": "https://localhost:8080/"
        },
        "id": "anaF4zYBs4lZ",
        "outputId": "73a24b43-690f-457f-e9f7-6af72ccd5c95"
      },
      "execution_count": null,
      "outputs": [
        {
          "output_type": "execute_result",
          "data": {
            "text/plain": [
              "array([207.9024, 276.5084,  78.141 , 343.2143, 216.2531, 148.7472,\n",
              "       158.9981, 317.162 , 298.2103, 128.0954, 162.6984, 196.1514,\n",
              "       256.4067, 343.1643, 250.8562, 264.8074, 169.399 ,  69.2902,\n",
              "       166.0487, 179.2499, 251.6062, 247.2559, 104.7933, 268.1577,\n",
              "       219.6034, 305.411 , 218.3533, 257.8068, 288.4595, 158.098 ,\n",
              "       289.0595, 128.2454, 315.2118, 261.9072, 265.4075, 117.0944,\n",
              "       279.1087, 277.1085, 102.9932, 304.9109, 161.8484, 158.148 ,\n",
              "       329.4631, 169.599 , 274.6583, 229.5043, 320.4623, 326.9129,\n",
              "       180.3   , 283.9591, 408.7201, 137.5962, 385.918 ,  67.7901,\n",
              "       166.2988, 278.8086,  79.1911, 257.4568, 305.1109, 141.8466,\n",
              "       392.9187, 321.9624, 328.063 , 102.1931, 160.1982, 273.5582,\n",
              "        71.7904, 126.6453, 166.5488, 333.3134, 199.7017,  77.841 ,\n",
              "       165.3487, 317.412 , 143.6468, 180.85  ,  67.7401, 261.2571,\n",
              "       171.5992, 274.1082, 122.8949, 313.5617, 171.6992, 280.7088,\n",
              "       225.2539, 261.3071, 177.5497, 128.0454, 270.1579, 306.5111,\n",
              "       291.5098, 156.1479,  76.2408, 131.0957, 404.1697, 193.1011,\n",
              "       177.1497, 185.1504, 290.5097, 200.5018, 277.3085, 118.3945,\n",
              "       325.7628, 168.649 , 172.6493, 285.4092, 174.6495, 128.5954,\n",
              "       188.4507,  88.8419, 326.4128,  63.4897, 169.249 , 241.5054,\n",
              "       172.2993, 147.1971, 179.5999, 429.6719, 238.5551, 177.5997,\n",
              "       163.1985, 194.5512, 151.9975, 277.5085, 128.1954, 386.5181,\n",
              "        67.14  , 158.4481, 100.793 , 292.3598, 261.2571, 170.3991,\n",
              "       268.8578, 280.1588, 210.4026, 405.4698, 227.3541, 202.7019,\n",
              "       286.6093,  85.7917, 287.7094, 283.109 , 306.161 , 308.3612,\n",
              "       226.8041, 248.0559, 268.8578, 153.1476, 312.2116, 269.8078,\n",
              "       249.306 , 290.7597, 247.5559, 321.0123, 190.3009,  66.99  ,\n",
              "        92.9923, 351.515 , 132.7958,  80.6412, 171.3492, 270.2079,\n",
              "       262.0072, 276.0584, 125.6452, 296.7102, 320.7123, 286.2093,\n",
              "       260.7571, 230.8044, 227.8542, 158.098 , 229.1543, 402.1695,\n",
              "       103.9433,  83.2415, 194.2512, 130.9956, 262.3572,  81.4913,\n",
              "       121.3448, 107.4436, 277.5085, 226.104 , 252.2063, 161.0983,\n",
              "       162.8985, 256.2067, 251.2562, 384.4179, 201.0018, 162.8985,\n",
              "       246.3058, 277.3585, 345.1145, 287.3094, 185.2004, 247.7059,\n",
              "       303.4608, 209.5526,  85.0416, 174.2995, 153.5476, 186.6005,\n",
              "       351.165 , 176.1496, 156.0979, 290.7597, 235.5548,  66.59  ,\n",
              "       347.8647, 144.4968, 308.5613, 131.5957, 192.6511, 177.7498,\n",
              "       134.0459, 131.2957, 162.9485,  82.7914, 277.4085, 167.2988,\n",
              "       276.5084,  98.1928, 176.1496, 169.549 , 321.9124, 259.807 ,\n",
              "       303.0608, 190.1508, 265.5575, 131.8957,  98.5928, 205.3022,\n",
              "       144.7969, 325.8128, 289.9596, 212.4028, 281.4089, 306.5111,\n",
              "       188.7507, 300.9606, 180.1   , 125.8952, 419.171 , 240.6553,\n",
              "       316.1619, 186.8506, 206.6023, 304.6109, 138.2463, 256.5567,\n",
              "       275.3583, 164.9486, 311.5115, 307.5112, 272.3581, 266.5076,\n",
              "       268.5077, 180.25  , 325.1127, 368.2665, 308.6113, 163.4485,\n",
              "       184.0503, 125.5952, 160.7483,  91.7922, 335.5636, 180.95  ,\n",
              "       269.3078, 267.5076, 443.1231, 274.3582,  95.9426, 340.6141,\n",
              "       101.6431,  78.591 ,  77.1909,  73.2906, 162.4484, 210.3026,\n",
              "       103.4432, 154.6977, 171.3492, 257.8568, 276.9585, 276.6584,\n",
              "       213.1029, 317.7621, 273.8582, 164.7986, 273.3582, 287.3094,\n",
              "       105.3934, 276.2084, 279.7587, 254.2065, 156.6979, 168.999 ,\n",
              "       344.2144, 154.2477, 261.3571, 352.0651, 328.513 ,  67.9401,\n",
              "       275.9584,  81.6913, 259.657 , 292.8599, 113.7441, 173.3494,\n",
              "       405.4198,  89.992 , 283.359 , 169.299 , 329.0631, 175.5496,\n",
              "        93.3923, 368.7165, 284.9592, 278.3586, 149.2473, 419.271 ,\n",
              "       180.4   , 272.9581, 220.1535, 403.0196, 290.9597, 172.0493,\n",
              "       125.8952, 177.4997, 165.9987,  93.4924, 171.2492, 123.395 ,\n",
              "       198.1515, 255.8066, 276.9585, 184.9504, 136.4461,  91.0921,\n",
              "       133.6459, 281.2589, 248.856 , 261.6571, 297.2603, 256.3067,\n",
              "       170.6991, 184.2003, 321.2624, 255.9566, 192.6511, 188.4507,\n",
              "       142.5467, 283.259 , 326.8629, 290.8597, 260.9571, 277.1085,\n",
              "       144.8469,  78.241 , 128.0954, 145.1469, 427.0717, 291.3597,\n",
              "       217.9033, 300.5605, 200.9018, 340.114 , 157.348 , 230.9044,\n",
              "       399.1192, 333.6135, 192.8511, 129.5455, 277.7085, 100.0929,\n",
              "       173.4494, 272.7081, 402.3195, 162.5484,  68.9902, 177.6497,\n",
              "       346.6646, 242.0054, 323.2125, 279.9587, 339.864 , 298.9104,\n",
              "       252.0063, 311.5615, 283.259 , 285.9093, 272.4081, 172.0493,\n",
              "       354.8153, 421.0211, 166.3488, 171.3492, 232.5046, 324.2626,\n",
              "       344.2144,  76.2908, 295.8101, 157.998 , 141.3966, 290.4097,\n",
              "       148.6472, 273.4582, 282.759 , 413.4205, 182.6002, 425.0215,\n",
              "       159.7482, 334.1635,  79.4911, 276.3584, 158.248 , 179.7999,\n",
              "       282.0089,  69.1402, 276.4584, 239.3552, 292.5098, 216.2031,\n",
              "       141.8466, 319.0622, 230.5544, 257.9068, 163.3985, 104.9434,\n",
              "       223.4038, 166.8988, 222.6037, 288.2595,  99.1428, 318.9622,\n",
              "       404.3697, 277.6085, 312.0116, 181.7501, 167.6489, 103.8933,\n",
              "       349.6149, 144.0468, 437.0725, 159.4982, 409.8201, 341.2641,\n",
              "       251.2562, 192.401 ,  84.4416, 241.9054, 200.8518, 322.6625,\n",
              "       314.5618, 223.3538, 138.3463, 165.5487, 106.2935, 283.8591,\n",
              "       139.8464, 353.3152, 270.2579, 236.4549, 160.0982, 318.8622,\n",
              "       320.0623, 292.9599, 160.0982, 269.2578, 169.549 , 180.2   ,\n",
              "       358.7657, 275.8084, 282.2089, 205.8522, 319.1122, 258.5069,\n",
              "       322.1124, 262.2572, 185.7005,  62.6396, 338.0638, 170.7491,\n",
              "       160.7483, 168.649 , 284.3591, 267.6577, 272.4581, 128.2454])"
            ]
          },
          "metadata": {},
          "execution_count": 35
        }
      ]
    },
    {
      "cell_type": "code",
      "source": [
        "y_test"
      ],
      "metadata": {
        "colab": {
          "base_uri": "https://localhost:8080/"
        },
        "id": "8yTvZzmQs4n4",
        "outputId": "2c127657-f65c-485b-ed06-6edcfd5d311c"
      },
      "execution_count": null,
      "outputs": [
        {
          "output_type": "execute_result",
          "data": {
            "text/plain": [
              "array([207.88, 276.28,  77.92, 341.3 , 215.7 , 148.88, 160.29, 320.6 ,\n",
              "       298.25, 126.57, 161.72, 195.91, 257.41, 339.68, 248.89, 267.03,\n",
              "       168.4 ,  69.86, 165.73, 180.57, 252.03, 246.86, 104.58, 267.28,\n",
              "       220.72, 300.02, 220.34, 256.78, 280.47, 158.29, 288.06, 128.71,\n",
              "       316.18, 264.53, 265.35, 118.71, 279.25, 277.21, 103.56, 304.28,\n",
              "       160.86, 158.62, 328.51, 169.55, 276.94, 226.64, 317.26, 326.77,\n",
              "       180.24, 282.49, 410.04, 137.94, 385.84,  68.19, 165.07, 276.05,\n",
              "        79.29, 258.67, 306.62, 140.43, 390.26, 324.84, 329.88, 101.63,\n",
              "       159.97, 277.83,  71.48, 126.59, 167.53, 338.43, 200.11,  78.6 ,\n",
              "       166.53, 314.28, 142.76, 180.94,  68.44, 262.62, 172.24, 274.82,\n",
              "       123.33, 313.23, 170.95, 282.86, 225.43, 261.16, 178.1 , 127.63,\n",
              "       271.81, 308.59, 289.64, 154.82,  76.75, 131.28, 406.39, 194.5 ,\n",
              "       176.88, 185.4 , 290.84, 199.92, 278.36, 119.79, 325.93, 168.37,\n",
              "       170.62, 283.63, 173.06, 130.41, 188.88,  87.17, 325.49,  63.22,\n",
              "       168.12, 240.  , 169.99, 151.68, 179.68, 435.3 , 237.49, 179.09,\n",
              "       163.26, 194.25, 152.72, 277.82, 127.85, 389.79,  67.13, 157.49,\n",
              "        99.77, 291.04, 262.16, 170.7 , 265.01, 281.33, 209.26, 414.73,\n",
              "       227.68, 205.08, 284.54,  85.4 , 284.54, 280.64, 305.65, 304.83,\n",
              "       225.22, 248.6 , 265.93, 153.08, 313.32, 263.07, 249.23, 289.31,\n",
              "       245.28, 325.56, 188.77,  67.01,  92.53, 351.37, 131.18,  81.04,\n",
              "       171.38, 272.52, 263.61, 276.05, 126.13, 297.31, 322.12, 285.25,\n",
              "       259.31, 229.64, 234.96, 157.85, 228.44, 405.46, 104.06,  84.64,\n",
              "       195.32, 129.51, 262.46,  82.19, 121.58, 106.79, 277.89, 223.94,\n",
              "       253.95, 160.6 , 163.17, 255.59, 252.1 , 388.29, 201.87, 162.92,\n",
              "       249.35, 277.52, 346.22, 290.55, 188.58, 247.91, 301.84, 209.33,\n",
              "        84.84, 174.54, 153.13, 186.85, 348.14, 175.94, 157.56, 290.37,\n",
              "       235.93,  66.37, 347.75, 144.65, 309.22, 130.91, 192.61, 179.18,\n",
              "       134.04, 131.66, 161.82,  83.  , 277.07, 167.11, 280.34,  99.28,\n",
              "       174.35, 168.6 , 325.83, 259.16, 299.75, 190.35, 265.57, 131.71,\n",
              "        97.62, 205.87, 144.53, 322.33, 287.5 , 212.17, 284.92, 312.19,\n",
              "       187.7 , 303.53, 179.67, 128.19, 420.51, 235.71, 316.22, 187.31,\n",
              "       204.4 , 302.85, 136.72, 256.12, 276.74, 165.29, 310.22, 309.74,\n",
              "       274.2 , 268.61, 268.43, 180.85, 325.24, 368.81, 310.67, 162.9 ,\n",
              "       184.96, 125.09, 160.55,  90.89, 338.31, 180.25, 270.38, 271.51,\n",
              "       437.75, 275.36,  97.07, 340.93, 102.93,  80.43,  76.84,  73.56,\n",
              "       162.32, 210.57, 103.85, 154.38, 170.86, 253.6 , 278.05, 277.36,\n",
              "       213.27, 317.41, 274.56, 166.17, 275.52, 286.72, 106.34, 275.44,\n",
              "       280.3 , 251.58, 156.32, 168.65, 342.45, 155.67, 257.66, 351.44,\n",
              "       320.69,  67.86, 280.07,  80.24, 258.44, 292.7 , 113.12, 172.93,\n",
              "       400.8 ,  92.9 , 283.27, 170.27, 329.01, 179.58,  93.42, 368.97,\n",
              "       285.72, 276.67, 148.89, 414.05, 182.62, 272.38, 219.38, 404.13,\n",
              "       290.8 , 170.85, 126.31, 177.77, 166.04,  91.64, 172.51, 122.7 ,\n",
              "       195.88, 255.79, 279.53, 185.37, 138.59,  90.97, 135.15, 282.57,\n",
              "       248.19, 262.56, 298.59, 256.37, 170.23, 183.46, 317.23, 255.62,\n",
              "       192.27, 187.08, 143.28, 281.05, 322.99, 281.14, 262.99, 277.29,\n",
              "       145.01,  78.3 , 128.04, 145.96, 422.83, 292.82, 218.47, 301.25,\n",
              "       199.83, 340.56, 156.85, 232.29, 399.07, 333.12, 193.69, 128.63,\n",
              "       278.82, 100.18, 173.24, 271.94, 403.41, 162.18,  68.7 , 177.42,\n",
              "       347.21, 241.71, 321.9 , 277.66, 340.87, 298.63, 253.09, 309.44,\n",
              "       279.43, 284.16, 272.11, 172.46, 355.08, 423.16, 166.78, 171.18,\n",
              "       230.69, 325.81, 342.8 ,  76.12, 295.15, 159.06, 141.24, 289.69,\n",
              "       148.26, 271.14, 284.76, 409.73, 182.54, 421.4 , 160.83, 336.65,\n",
              "        79.25, 276.76, 158.42, 181.46, 281.71,  69.  , 277.48, 237.48,\n",
              "       288.63, 215.27, 140.64, 316.9 , 230.6 , 260.84, 162.85, 104.39,\n",
              "       222.83, 165.57, 222.43, 288.89,  99.26, 321.24, 405.98, 277.29,\n",
              "       311.57, 182.08, 167.86, 103.22, 349.31, 143.19, 441.94, 160.12,\n",
              "       406.18, 338.77, 250.59, 192.31,  83.69, 240.38, 201.98, 324.88,\n",
              "       311.57, 221.08, 139.02, 165.7 , 105.51, 284.3 , 139.51, 353.69,\n",
              "       267.42, 237.49, 159.47, 322.88, 313.49, 292.73, 158.26, 269.  ,\n",
              "       170.16, 180.48, 356.48, 278.95, 283.27, 206.45, 319.44, 259.82,\n",
              "       319.53, 259.52, 186.06,  62.22, 338.91, 170.29, 160.43, 169.13,\n",
              "       288.83, 267.28, 272.38, 128.15])"
            ]
          },
          "metadata": {},
          "execution_count": 36
        }
      ]
    },
    {
      "cell_type": "code",
      "source": [
        "from sklearn.metrics import r2_score\n",
        "print(r2_score(y_test,y_pred))"
      ],
      "metadata": {
        "colab": {
          "base_uri": "https://localhost:8080/"
        },
        "id": "Aq7qOU4ys4qV",
        "outputId": "139ea0ac-ffd0-46f5-a733-eca7e2bedc3f"
      },
      "execution_count": null,
      "outputs": [
        {
          "output_type": "stream",
          "name": "stdout",
          "text": [
            "0.9995126613336639\n"
          ]
        }
      ]
    },
    {
      "cell_type": "markdown",
      "source": [
        "# Multiple Linear Regression"
      ],
      "metadata": {
        "id": "-WHnY_P-s5J0"
      }
    },
    {
      "cell_type": "code",
      "source": [
        "X= d.iloc[ : , 0:6].values\n",
        "X"
      ],
      "metadata": {
        "colab": {
          "base_uri": "https://localhost:8080/"
        },
        "id": "qMaL72J6q12E",
        "outputId": "94a792d1-cc82-4cb8-e15a-756ff5c5beec"
      },
      "execution_count": null,
      "outputs": [
        {
          "output_type": "execute_result",
          "data": {
            "text/plain": [
              "array([[281.05, 283.  , 284.3 , 278.2 , 282.  , 281.6 ],\n",
              "       [281.6 , 279.5 , 285.6 , 278.35, 280.65, 281.1 ],\n",
              "       [281.1 , 281.25, 283.9 , 278.6 , 280.1 , 280.  ],\n",
              "       ...,\n",
              "       [103.2 , 103.75, 104.4 , 103.3 , 104.05, 103.9 ],\n",
              "       [103.9 , 104.9 , 105.9 , 103.55, 104.3 , 104.05],\n",
              "       [104.05, 104.15, 112.7 , 103.3 , 108.2 , 108.15]])"
            ]
          },
          "metadata": {},
          "execution_count": 17
        }
      ]
    },
    {
      "cell_type": "code",
      "source": [
        "y= d.iloc[ : , 6].values\n",
        "y"
      ],
      "metadata": {
        "colab": {
          "base_uri": "https://localhost:8080/"
        },
        "id": "AGu3e_qZrzpA",
        "outputId": "134207fd-8221-41ee-f585-36045cbb2cde"
      },
      "execution_count": null,
      "outputs": [
        {
          "output_type": "execute_result",
          "data": {
            "text/plain": [
              "array([281.78, 282.57, 280.92, ..., 103.9 , 104.39, 109.79])"
            ]
          },
          "metadata": {},
          "execution_count": 18
        }
      ]
    },
    {
      "cell_type": "markdown",
      "source": [
        "# Splitting Dataset into Training & Testing set"
      ],
      "metadata": {
        "id": "Ig8mNhVmr321"
      }
    },
    {
      "cell_type": "code",
      "source": [
        "from sklearn.model_selection import train_test_split\n",
        "X_train,X_test,y_train,y_test=train_test_split(X,y,test_size=0.2,random_state=0)"
      ],
      "metadata": {
        "id": "S3yinracrzrr"
      },
      "execution_count": null,
      "outputs": []
    },
    {
      "cell_type": "markdown",
      "source": [
        "# Training Simple Linear Model on Training Set"
      ],
      "metadata": {
        "id": "TpQcRQ1wr8gI"
      }
    },
    {
      "cell_type": "code",
      "source": [
        "from sklearn.linear_model import LinearRegression\n",
        "regressor=LinearRegression()\n",
        "regressor.fit(X_train,y_train)"
      ],
      "metadata": {
        "colab": {
          "base_uri": "https://localhost:8080/",
          "height": 74
        },
        "id": "Gv82uFUTrzuE",
        "outputId": "4d612719-89a4-4f57-b76b-81d1193d1b06"
      },
      "execution_count": null,
      "outputs": [
        {
          "output_type": "execute_result",
          "data": {
            "text/plain": [
              "LinearRegression()"
            ],
            "text/html": [
              "<style>#sk-container-id-1 {color: black;background-color: white;}#sk-container-id-1 pre{padding: 0;}#sk-container-id-1 div.sk-toggleable {background-color: white;}#sk-container-id-1 label.sk-toggleable__label {cursor: pointer;display: block;width: 100%;margin-bottom: 0;padding: 0.3em;box-sizing: border-box;text-align: center;}#sk-container-id-1 label.sk-toggleable__label-arrow:before {content: \"▸\";float: left;margin-right: 0.25em;color: #696969;}#sk-container-id-1 label.sk-toggleable__label-arrow:hover:before {color: black;}#sk-container-id-1 div.sk-estimator:hover label.sk-toggleable__label-arrow:before {color: black;}#sk-container-id-1 div.sk-toggleable__content {max-height: 0;max-width: 0;overflow: hidden;text-align: left;background-color: #f0f8ff;}#sk-container-id-1 div.sk-toggleable__content pre {margin: 0.2em;color: black;border-radius: 0.25em;background-color: #f0f8ff;}#sk-container-id-1 input.sk-toggleable__control:checked~div.sk-toggleable__content {max-height: 200px;max-width: 100%;overflow: auto;}#sk-container-id-1 input.sk-toggleable__control:checked~label.sk-toggleable__label-arrow:before {content: \"▾\";}#sk-container-id-1 div.sk-estimator input.sk-toggleable__control:checked~label.sk-toggleable__label {background-color: #d4ebff;}#sk-container-id-1 div.sk-label input.sk-toggleable__control:checked~label.sk-toggleable__label {background-color: #d4ebff;}#sk-container-id-1 input.sk-hidden--visually {border: 0;clip: rect(1px 1px 1px 1px);clip: rect(1px, 1px, 1px, 1px);height: 1px;margin: -1px;overflow: hidden;padding: 0;position: absolute;width: 1px;}#sk-container-id-1 div.sk-estimator {font-family: monospace;background-color: #f0f8ff;border: 1px dotted black;border-radius: 0.25em;box-sizing: border-box;margin-bottom: 0.5em;}#sk-container-id-1 div.sk-estimator:hover {background-color: #d4ebff;}#sk-container-id-1 div.sk-parallel-item::after {content: \"\";width: 100%;border-bottom: 1px solid gray;flex-grow: 1;}#sk-container-id-1 div.sk-label:hover label.sk-toggleable__label {background-color: #d4ebff;}#sk-container-id-1 div.sk-serial::before {content: \"\";position: absolute;border-left: 1px solid gray;box-sizing: border-box;top: 0;bottom: 0;left: 50%;z-index: 0;}#sk-container-id-1 div.sk-serial {display: flex;flex-direction: column;align-items: center;background-color: white;padding-right: 0.2em;padding-left: 0.2em;position: relative;}#sk-container-id-1 div.sk-item {position: relative;z-index: 1;}#sk-container-id-1 div.sk-parallel {display: flex;align-items: stretch;justify-content: center;background-color: white;position: relative;}#sk-container-id-1 div.sk-item::before, #sk-container-id-1 div.sk-parallel-item::before {content: \"\";position: absolute;border-left: 1px solid gray;box-sizing: border-box;top: 0;bottom: 0;left: 50%;z-index: -1;}#sk-container-id-1 div.sk-parallel-item {display: flex;flex-direction: column;z-index: 1;position: relative;background-color: white;}#sk-container-id-1 div.sk-parallel-item:first-child::after {align-self: flex-end;width: 50%;}#sk-container-id-1 div.sk-parallel-item:last-child::after {align-self: flex-start;width: 50%;}#sk-container-id-1 div.sk-parallel-item:only-child::after {width: 0;}#sk-container-id-1 div.sk-dashed-wrapped {border: 1px dashed gray;margin: 0 0.4em 0.5em 0.4em;box-sizing: border-box;padding-bottom: 0.4em;background-color: white;}#sk-container-id-1 div.sk-label label {font-family: monospace;font-weight: bold;display: inline-block;line-height: 1.2em;}#sk-container-id-1 div.sk-label-container {text-align: center;}#sk-container-id-1 div.sk-container {/* jupyter's `normalize.less` sets `[hidden] { display: none; }` but bootstrap.min.css set `[hidden] { display: none !important; }` so we also need the `!important` here to be able to override the default hidden behavior on the sphinx rendered scikit-learn.org. See: https://github.com/scikit-learn/scikit-learn/issues/21755 */display: inline-block !important;position: relative;}#sk-container-id-1 div.sk-text-repr-fallback {display: none;}</style><div id=\"sk-container-id-1\" class=\"sk-top-container\"><div class=\"sk-text-repr-fallback\"><pre>LinearRegression()</pre><b>In a Jupyter environment, please rerun this cell to show the HTML representation or trust the notebook. <br />On GitHub, the HTML representation is unable to render, please try loading this page with nbviewer.org.</b></div><div class=\"sk-container\" hidden><div class=\"sk-item\"><div class=\"sk-estimator sk-toggleable\"><input class=\"sk-toggleable__control sk-hidden--visually\" id=\"sk-estimator-id-1\" type=\"checkbox\" checked><label for=\"sk-estimator-id-1\" class=\"sk-toggleable__label sk-toggleable__label-arrow\">LinearRegression</label><div class=\"sk-toggleable__content\"><pre>LinearRegression()</pre></div></div></div></div></div>"
            ]
          },
          "metadata": {},
          "execution_count": 20
        }
      ]
    },
    {
      "cell_type": "markdown",
      "source": [
        "# Predicting the Test set result"
      ],
      "metadata": {
        "id": "nz91Qm0Fr_0o"
      }
    },
    {
      "cell_type": "code",
      "source": [
        "y_pred=regressor.predict(X_test)\n",
        "np.set_printoptions(precision=4) #decimal number 4 tk when(precision=4)\n",
        "np.concatenate((y_pred.reshape(len(y_pred),1), y_test.reshape(len(y_test),1)),1)"
      ],
      "metadata": {
        "colab": {
          "base_uri": "https://localhost:8080/"
        },
        "id": "Od4uX0Ijrzxc",
        "outputId": "7ed01633-e7fd-481d-dadd-549b8c70262a"
      },
      "execution_count": null,
      "outputs": [
        {
          "output_type": "execute_result",
          "data": {
            "text/plain": [
              "array([[207.9924, 207.88  ],\n",
              "       [275.9612, 276.28  ],\n",
              "       [ 77.6031,  77.92  ],\n",
              "       [341.3574, 341.3   ],\n",
              "       [215.3785, 215.7   ],\n",
              "       [148.9221, 148.88  ],\n",
              "       [159.7237, 160.29  ],\n",
              "       [321.0244, 320.6   ],\n",
              "       [298.9285, 298.25  ],\n",
              "       [127.1063, 126.57  ],\n",
              "       [161.5853, 161.72  ],\n",
              "       [196.078 , 195.91  ],\n",
              "       [257.6757, 257.41  ],\n",
              "       [339.857 , 339.68  ],\n",
              "       [249.0101, 248.89  ],\n",
              "       [266.0738, 267.03  ],\n",
              "       [168.5458, 168.4   ],\n",
              "       [ 70.3174,  69.86  ],\n",
              "       [165.997 , 165.73  ],\n",
              "       [180.3196, 180.57  ],\n",
              "       [251.9528, 252.03  ],\n",
              "       [247.3391, 246.86  ],\n",
              "       [104.4697, 104.58  ],\n",
              "       [267.0608, 267.28  ],\n",
              "       [220.7938, 220.72  ],\n",
              "       [300.6993, 300.02  ],\n",
              "       [219.3368, 220.34  ],\n",
              "       [256.9175, 256.78  ],\n",
              "       [283.8651, 280.47  ],\n",
              "       [158.315 , 158.29  ],\n",
              "       [287.7587, 288.06  ],\n",
              "       [129.0182, 128.71  ],\n",
              "       [318.4009, 316.18  ],\n",
              "       [264.2692, 264.53  ],\n",
              "       [265.4672, 265.35  ],\n",
              "       [118.2173, 118.71  ],\n",
              "       [280.0469, 279.25  ],\n",
              "       [277.5735, 277.21  ],\n",
              "       [103.2599, 103.56  ],\n",
              "       [303.8831, 304.28  ],\n",
              "       [160.9622, 160.86  ],\n",
              "       [158.2194, 158.62  ],\n",
              "       [328.0285, 328.51  ],\n",
              "       [169.7214, 169.55  ],\n",
              "       [276.5427, 276.94  ],\n",
              "       [227.3708, 226.64  ],\n",
              "       [318.7787, 317.26  ],\n",
              "       [325.77  , 326.77  ],\n",
              "       [180.6625, 180.24  ],\n",
              "       [282.4945, 282.49  ],\n",
              "       [409.6611, 410.04  ],\n",
              "       [138.3682, 137.94  ],\n",
              "       [385.7732, 385.84  ],\n",
              "       [ 68.4268,  68.19  ],\n",
              "       [165.3702, 165.07  ],\n",
              "       [277.3819, 276.05  ],\n",
              "       [ 79.2048,  79.29  ],\n",
              "       [257.7013, 258.67  ],\n",
              "       [306.0796, 306.62  ],\n",
              "       [140.8771, 140.43  ],\n",
              "       [390.571 , 390.26  ],\n",
              "       [323.8774, 324.84  ],\n",
              "       [330.0906, 329.88  ],\n",
              "       [100.8962, 101.63  ],\n",
              "       [159.8334, 159.97  ],\n",
              "       [276.237 , 277.83  ],\n",
              "       [ 71.7141,  71.48  ],\n",
              "       [126.5999, 126.59  ],\n",
              "       [167.4237, 167.53  ],\n",
              "       [338.1562, 338.43  ],\n",
              "       [199.8673, 200.11  ],\n",
              "       [ 78.5976,  78.6   ],\n",
              "       [167.3343, 166.53  ],\n",
              "       [314.2952, 314.28  ],\n",
              "       [142.7243, 142.76  ],\n",
              "       [180.9354, 180.94  ],\n",
              "       [ 67.9863,  68.44  ],\n",
              "       [262.8694, 262.62  ],\n",
              "       [172.9079, 172.24  ],\n",
              "       [274.6668, 274.82  ],\n",
              "       [123.1907, 123.33  ],\n",
              "       [312.4475, 313.23  ],\n",
              "       [170.6854, 170.95  ],\n",
              "       [283.6342, 282.86  ],\n",
              "       [225.8451, 225.43  ],\n",
              "       [261.9898, 261.16  ],\n",
              "       [177.6884, 178.1   ],\n",
              "       [127.9128, 127.63  ],\n",
              "       [271.077 , 271.81  ],\n",
              "       [308.9394, 308.59  ],\n",
              "       [289.1132, 289.64  ],\n",
              "       [155.1656, 154.82  ],\n",
              "       [ 76.5556,  76.75  ],\n",
              "       [131.0289, 131.28  ],\n",
              "       [405.0804, 406.39  ],\n",
              "       [194.2346, 194.5   ],\n",
              "       [176.3429, 176.88  ],\n",
              "       [185.0855, 185.4   ],\n",
              "       [291.6477, 290.84  ],\n",
              "       [199.8837, 199.92  ],\n",
              "       [277.8336, 278.36  ],\n",
              "       [119.2251, 119.79  ],\n",
              "       [326.4723, 325.93  ],\n",
              "       [168.7525, 168.37  ],\n",
              "       [170.9327, 170.62  ],\n",
              "       [284.3179, 283.63  ],\n",
              "       [173.8583, 173.06  ],\n",
              "       [130.0682, 130.41  ],\n",
              "       [188.281 , 188.88  ],\n",
              "       [ 87.6351,  87.17  ],\n",
              "       [327.0014, 325.49  ],\n",
              "       [ 63.2066,  63.22  ],\n",
              "       [168.3946, 168.12  ],\n",
              "       [240.3539, 240.    ],\n",
              "       [170.8436, 169.99  ],\n",
              "       [151.3857, 151.68  ],\n",
              "       [180.1962, 179.68  ],\n",
              "       [435.3992, 435.3   ],\n",
              "       [237.6668, 237.49  ],\n",
              "       [178.4062, 179.09  ],\n",
              "       [163.4665, 163.26  ],\n",
              "       [194.234 , 194.25  ],\n",
              "       [153.1893, 152.72  ],\n",
              "       [277.3908, 277.82  ],\n",
              "       [127.8855, 127.85  ],\n",
              "       [389.1889, 389.79  ],\n",
              "       [ 67.5407,  67.13  ],\n",
              "       [157.7128, 157.49  ],\n",
              "       [100.1886,  99.77  ],\n",
              "       [291.0827, 291.04  ],\n",
              "       [261.9262, 262.16  ],\n",
              "       [170.1729, 170.7   ],\n",
              "       [266.1043, 265.01  ],\n",
              "       [280.6518, 281.33  ],\n",
              "       [209.068 , 209.26  ],\n",
              "       [408.9519, 414.73  ],\n",
              "       [228.0845, 227.68  ],\n",
              "       [205.3466, 205.08  ],\n",
              "       [283.4774, 284.54  ],\n",
              "       [ 85.5182,  85.4   ],\n",
              "       [284.9623, 284.54  ],\n",
              "       [281.576 , 280.64  ],\n",
              "       [305.3286, 305.65  ],\n",
              "       [305.9701, 304.83  ],\n",
              "       [224.0118, 225.22  ],\n",
              "       [249.9113, 248.6   ],\n",
              "       [267.166 , 265.93  ],\n",
              "       [152.8165, 153.08  ],\n",
              "       [313.1586, 313.32  ],\n",
              "       [262.99  , 263.07  ],\n",
              "       [248.2139, 249.23  ],\n",
              "       [289.0697, 289.31  ],\n",
              "       [245.9638, 245.28  ],\n",
              "       [323.7433, 325.56  ],\n",
              "       [188.6338, 188.77  ],\n",
              "       [ 67.2914,  67.01  ],\n",
              "       [ 92.6114,  92.53  ],\n",
              "       [351.4346, 351.37  ],\n",
              "       [131.7324, 131.18  ],\n",
              "       [ 81.0667,  81.04  ],\n",
              "       [171.4702, 171.38  ],\n",
              "       [272.0165, 272.52  ],\n",
              "       [264.2911, 263.61  ],\n",
              "       [274.844 , 276.05  ],\n",
              "       [125.8432, 126.13  ],\n",
              "       [299.6704, 297.31  ],\n",
              "       [322.0296, 322.12  ],\n",
              "       [285.0345, 285.25  ],\n",
              "       [259.8923, 259.31  ],\n",
              "       [230.024 , 229.64  ],\n",
              "       [235.4564, 234.96  ],\n",
              "       [158.8727, 157.85  ],\n",
              "       [228.5652, 228.44  ],\n",
              "       [405.2084, 405.46  ],\n",
              "       [103.8604, 104.06  ],\n",
              "       [ 84.2471,  84.64  ],\n",
              "       [194.8475, 195.32  ],\n",
              "       [130.4195, 129.51  ],\n",
              "       [262.2966, 262.46  ],\n",
              "       [ 81.879 ,  82.19  ],\n",
              "       [122.2548, 121.58  ],\n",
              "       [106.4787, 106.79  ],\n",
              "       [277.908 , 277.89  ],\n",
              "       [224.2795, 223.94  ],\n",
              "       [253.3947, 253.95  ],\n",
              "       [160.7123, 160.6   ],\n",
              "       [163.2592, 163.17  ],\n",
              "       [255.4459, 255.59  ],\n",
              "       [252.1126, 252.1   ],\n",
              "       [387.5236, 388.29  ],\n",
              "       [201.8758, 201.87  ],\n",
              "       [163.316 , 162.92  ],\n",
              "       [248.8283, 249.35  ],\n",
              "       [276.9561, 277.52  ],\n",
              "       [348.5788, 346.22  ],\n",
              "       [289.4829, 290.55  ],\n",
              "       [187.2003, 188.58  ],\n",
              "       [248.4363, 247.91  ],\n",
              "       [301.7655, 301.84  ],\n",
              "       [210.2129, 209.33  ],\n",
              "       [ 85.0085,  84.84  ],\n",
              "       [174.2704, 174.54  ],\n",
              "       [153.2379, 153.13  ],\n",
              "       [186.7072, 186.85  ],\n",
              "       [348.3403, 348.14  ],\n",
              "       [174.7162, 175.94  ],\n",
              "       [157.7371, 157.56  ],\n",
              "       [290.4133, 290.37  ],\n",
              "       [236.0965, 235.93  ],\n",
              "       [ 66.32  ,  66.37  ],\n",
              "       [348.2441, 347.75  ],\n",
              "       [144.7709, 144.65  ],\n",
              "       [309.9111, 309.22  ],\n",
              "       [131.0943, 130.91  ],\n",
              "       [192.3805, 192.61  ],\n",
              "       [179.4741, 179.18  ],\n",
              "       [134.465 , 134.04  ],\n",
              "       [132.1757, 131.66  ],\n",
              "       [162.0137, 161.82  ],\n",
              "       [ 82.8783,  83.    ],\n",
              "       [277.0326, 277.07  ],\n",
              "       [166.9381, 167.11  ],\n",
              "       [280.9286, 280.34  ],\n",
              "       [ 99.407 ,  99.28  ],\n",
              "       [173.8839, 174.35  ],\n",
              "       [168.1627, 168.6   ],\n",
              "       [323.8977, 325.83  ],\n",
              "       [259.3445, 259.16  ],\n",
              "       [301.1647, 299.75  ],\n",
              "       [190.6084, 190.35  ],\n",
              "       [265.5824, 265.57  ],\n",
              "       [131.9681, 131.71  ],\n",
              "       [ 97.7909,  97.62  ],\n",
              "       [205.8891, 205.87  ],\n",
              "       [144.5942, 144.53  ],\n",
              "       [324.369 , 322.33  ],\n",
              "       [288.3981, 287.5   ],\n",
              "       [211.9747, 212.17  ],\n",
              "       [284.6702, 284.92  ],\n",
              "       [310.4532, 312.19  ],\n",
              "       [187.6287, 187.7   ],\n",
              "       [303.5214, 303.53  ],\n",
              "       [179.6254, 179.67  ],\n",
              "       [127.4242, 128.19  ],\n",
              "       [421.1487, 420.51  ],\n",
              "       [237.0114, 235.71  ],\n",
              "       [316.0419, 316.22  ],\n",
              "       [187.0392, 187.31  ],\n",
              "       [206.3609, 204.4   ],\n",
              "       [303.0772, 302.85  ],\n",
              "       [137.167 , 136.72  ],\n",
              "       [255.8589, 256.12  ],\n",
              "       [277.7218, 276.74  ],\n",
              "       [165.9304, 165.29  ],\n",
              "       [310.7911, 310.22  ],\n",
              "       [310.3499, 309.74  ],\n",
              "       [274.2018, 274.2   ],\n",
              "       [269.7412, 268.61  ],\n",
              "       [268.5245, 268.43  ],\n",
              "       [180.5322, 180.85  ],\n",
              "       [325.0622, 325.24  ],\n",
              "       [370.4278, 368.81  ],\n",
              "       [310.104 , 310.67  ],\n",
              "       [162.943 , 162.9   ],\n",
              "       [184.6158, 184.96  ],\n",
              "       [125.0713, 125.09  ],\n",
              "       [160.6351, 160.55  ],\n",
              "       [ 90.9097,  90.89  ],\n",
              "       [335.6575, 338.31  ],\n",
              "       [180.7152, 180.25  ],\n",
              "       [269.4082, 270.38  ],\n",
              "       [271.2104, 271.51  ],\n",
              "       [440.2601, 437.75  ],\n",
              "       [274.3032, 275.36  ],\n",
              "       [ 96.6558,  97.07  ],\n",
              "       [340.5979, 340.93  ],\n",
              "       [102.6929, 102.93  ],\n",
              "       [ 79.5175,  80.43  ],\n",
              "       [ 76.6192,  76.84  ],\n",
              "       [ 73.4316,  73.56  ],\n",
              "       [162.3343, 162.32  ],\n",
              "       [210.0327, 210.57  ],\n",
              "       [104.204 , 103.85  ],\n",
              "       [154.6809, 154.38  ],\n",
              "       [170.9712, 170.86  ],\n",
              "       [254.9849, 253.6   ],\n",
              "       [278.4123, 278.05  ],\n",
              "       [277.3308, 277.36  ],\n",
              "       [212.9203, 213.27  ],\n",
              "       [318.1999, 317.41  ],\n",
              "       [276.2964, 274.56  ],\n",
              "       [165.634 , 166.17  ],\n",
              "       [274.6884, 275.52  ],\n",
              "       [286.8317, 286.72  ],\n",
              "       [105.7346, 106.34  ],\n",
              "       [275.3742, 275.44  ],\n",
              "       [279.6368, 280.3   ],\n",
              "       [251.0011, 251.58  ],\n",
              "       [156.5953, 156.32  ],\n",
              "       [168.4226, 168.65  ],\n",
              "       [342.83  , 342.45  ],\n",
              "       [155.597 , 155.67  ],\n",
              "       [259.1133, 257.66  ],\n",
              "       [351.786 , 351.44  ],\n",
              "       [321.6016, 320.69  ],\n",
              "       [ 67.7793,  67.86  ],\n",
              "       [278.8974, 280.07  ],\n",
              "       [ 80.2864,  80.24  ],\n",
              "       [258.6818, 258.44  ],\n",
              "       [292.89  , 292.7   ],\n",
              "       [113.356 , 113.12  ],\n",
              "       [173.394 , 172.93  ],\n",
              "       [401.8886, 400.8   ],\n",
              "       [ 92.897 ,  92.9   ],\n",
              "       [283.1859, 283.27  ],\n",
              "       [169.8944, 170.27  ],\n",
              "       [327.8725, 329.01  ],\n",
              "       [178.6042, 179.58  ],\n",
              "       [ 93.4902,  93.42  ],\n",
              "       [368.1609, 368.97  ],\n",
              "       [284.0774, 285.72  ],\n",
              "       [276.1144, 276.67  ],\n",
              "       [148.9595, 148.89  ],\n",
              "       [414.0174, 414.05  ],\n",
              "       [181.6716, 182.62  ],\n",
              "       [272.2495, 272.38  ],\n",
              "       [218.8504, 219.38  ],\n",
              "       [404.571 , 404.13  ],\n",
              "       [290.9984, 290.8   ],\n",
              "       [171.0966, 170.85  ],\n",
              "       [126.2676, 126.31  ],\n",
              "       [177.7893, 177.77  ],\n",
              "       [165.3223, 166.04  ],\n",
              "       [ 92.4195,  91.64  ],\n",
              "       [172.4215, 172.51  ],\n",
              "       [122.3261, 122.7   ],\n",
              "       [196.6963, 195.88  ],\n",
              "       [255.8581, 255.79  ],\n",
              "       [278.6517, 279.53  ],\n",
              "       [185.4379, 185.37  ],\n",
              "       [137.3913, 138.59  ],\n",
              "       [ 91.0654,  90.97  ],\n",
              "       [135.5434, 135.15  ],\n",
              "       [281.717 , 282.57  ],\n",
              "       [248.2606, 248.19  ],\n",
              "       [263.7696, 262.56  ],\n",
              "       [297.8848, 298.59  ],\n",
              "       [256.7414, 256.37  ],\n",
              "       [170.3189, 170.23  ],\n",
              "       [183.2755, 183.46  ],\n",
              "       [317.7304, 317.23  ],\n",
              "       [256.0693, 255.62  ],\n",
              "       [192.3827, 192.27  ],\n",
              "       [187.4184, 187.08  ],\n",
              "       [143.3288, 143.28  ],\n",
              "       [280.9644, 281.05  ],\n",
              "       [324.4715, 322.99  ],\n",
              "       [283.2519, 281.14  ],\n",
              "       [262.471 , 262.99  ],\n",
              "       [277.1696, 277.29  ],\n",
              "       [145.2995, 145.01  ],\n",
              "       [ 78.2847,  78.3   ],\n",
              "       [128.0838, 128.04  ],\n",
              "       [145.6662, 145.96  ],\n",
              "       [423.7642, 422.83  ],\n",
              "       [292.2327, 292.82  ],\n",
              "       [218.1599, 218.47  ],\n",
              "       [300.6966, 301.25  ],\n",
              "       [200.1628, 199.83  ],\n",
              "       [342.3225, 340.56  ],\n",
              "       [156.9962, 156.85  ],\n",
              "       [231.9417, 232.29  ],\n",
              "       [398.4865, 399.07  ],\n",
              "       [333.029 , 333.12  ],\n",
              "       [193.2371, 193.69  ],\n",
              "       [128.5049, 128.63  ],\n",
              "       [278.3191, 278.82  ],\n",
              "       [100.6232, 100.18  ],\n",
              "       [173.3043, 173.24  ],\n",
              "       [271.6575, 271.94  ],\n",
              "       [403.9382, 403.41  ],\n",
              "       [162.2039, 162.18  ],\n",
              "       [ 68.421 ,  68.7   ],\n",
              "       [177.7013, 177.42  ],\n",
              "       [347.7101, 347.21  ],\n",
              "       [241.6457, 241.71  ],\n",
              "       [322.3812, 321.9   ],\n",
              "       [278.365 , 277.66  ],\n",
              "       [340.0125, 340.87  ],\n",
              "       [298.2185, 298.63  ],\n",
              "       [253.0336, 253.09  ],\n",
              "       [308.7927, 309.44  ],\n",
              "       [279.4916, 279.43  ],\n",
              "       [284.4928, 284.16  ],\n",
              "       [271.4856, 272.11  ],\n",
              "       [172.7068, 172.46  ],\n",
              "       [354.7864, 355.08  ],\n",
              "       [422.8486, 423.16  ],\n",
              "       [166.6969, 166.78  ],\n",
              "       [170.8659, 171.18  ],\n",
              "       [231.4589, 230.69  ],\n",
              "       [325.4798, 325.81  ],\n",
              "       [342.8477, 342.8   ],\n",
              "       [ 76.1357,  76.12  ],\n",
              "       [294.5702, 295.15  ],\n",
              "       [158.7064, 159.06  ],\n",
              "       [141.1591, 141.24  ],\n",
              "       [289.7588, 289.69  ],\n",
              "       [148.4347, 148.26  ],\n",
              "       [272.1617, 271.14  ],\n",
              "       [284.1465, 284.76  ],\n",
              "       [411.7452, 409.73  ],\n",
              "       [182.5539, 182.54  ],\n",
              "       [422.1424, 421.4   ],\n",
              "       [160.2943, 160.83  ],\n",
              "       [335.6292, 336.65  ],\n",
              "       [ 80.1295,  79.25  ],\n",
              "       [276.7405, 276.76  ],\n",
              "       [158.3197, 158.42  ],\n",
              "       [180.5265, 181.46  ],\n",
              "       [282.1186, 281.71  ],\n",
              "       [ 69.0669,  69.    ],\n",
              "       [277.1557, 277.48  ],\n",
              "       [236.673 , 237.48  ],\n",
              "       [288.1989, 288.63  ],\n",
              "       [216.3037, 215.27  ],\n",
              "       [141.1666, 140.64  ],\n",
              "       [317.1437, 316.9   ],\n",
              "       [231.0086, 230.6   ],\n",
              "       [260.0578, 260.84  ],\n",
              "       [163.3097, 162.85  ],\n",
              "       [104.4975, 104.39  ],\n",
              "       [222.8823, 222.83  ],\n",
              "       [164.6509, 165.57  ],\n",
              "       [222.1923, 222.43  ],\n",
              "       [288.6687, 288.89  ],\n",
              "       [ 99.8226,  99.26  ],\n",
              "       [321.0636, 321.24  ],\n",
              "       [405.6016, 405.98  ],\n",
              "       [277.3717, 277.29  ],\n",
              "       [311.6878, 311.57  ],\n",
              "       [182.0512, 182.08  ],\n",
              "       [168.0422, 167.86  ],\n",
              "       [102.7102, 103.22  ],\n",
              "       [349.109 , 349.31  ],\n",
              "       [143.3954, 143.19  ],\n",
              "       [440.8365, 441.94  ],\n",
              "       [160.0332, 160.12  ],\n",
              "       [407.0754, 406.18  ],\n",
              "       [339.1951, 338.77  ],\n",
              "       [250.8417, 250.59  ],\n",
              "       [192.5535, 192.31  ],\n",
              "       [ 83.9408,  83.69  ],\n",
              "       [240.5238, 240.38  ],\n",
              "       [201.5023, 201.98  ],\n",
              "       [324.9361, 324.88  ],\n",
              "       [313.745 , 311.57  ],\n",
              "       [221.5199, 221.08  ],\n",
              "       [138.7954, 139.02  ],\n",
              "       [165.8022, 165.7   ],\n",
              "       [105.5997, 105.51  ],\n",
              "       [284.1662, 284.3   ],\n",
              "       [139.935 , 139.51  ],\n",
              "       [352.3195, 353.69  ],\n",
              "       [267.2912, 267.42  ],\n",
              "       [237.4431, 237.49  ],\n",
              "       [159.1533, 159.47  ],\n",
              "       [323.801 , 322.88  ],\n",
              "       [315.9405, 313.49  ],\n",
              "       [292.5232, 292.73  ],\n",
              "       [158.6919, 158.26  ],\n",
              "       [268.5372, 269.    ],\n",
              "       [170.0748, 170.16  ],\n",
              "       [180.573 , 180.48  ],\n",
              "       [355.7658, 356.48  ],\n",
              "       [280.0267, 278.95  ],\n",
              "       [282.7925, 283.27  ],\n",
              "       [206.4096, 206.45  ],\n",
              "       [318.8683, 319.44  ],\n",
              "       [259.1308, 259.82  ],\n",
              "       [320.35  , 319.53  ],\n",
              "       [260.1656, 259.52  ],\n",
              "       [186.472 , 186.06  ],\n",
              "       [ 62.4887,  62.22  ],\n",
              "       [338.7066, 338.91  ],\n",
              "       [169.9562, 170.29  ],\n",
              "       [160.6072, 160.43  ],\n",
              "       [168.4924, 169.13  ],\n",
              "       [288.4757, 288.83  ],\n",
              "       [267.7556, 267.28  ],\n",
              "       [272.23  , 272.38  ],\n",
              "       [127.6825, 128.15  ]])"
            ]
          },
          "metadata": {},
          "execution_count": 29
        }
      ]
    },
    {
      "cell_type": "code",
      "source": [
        "from sklearn.metrics import r2_score\n",
        "print(r2_score(y_test,y_pred))"
      ],
      "metadata": {
        "colab": {
          "base_uri": "https://localhost:8080/"
        },
        "id": "UFc4vKCBsG0P",
        "outputId": "d553e150-e3ba-498f-c797-9d918f802af7"
      },
      "execution_count": null,
      "outputs": [
        {
          "output_type": "stream",
          "name": "stdout",
          "text": [
            "0.999930771167945\n"
          ]
        }
      ]
    },
    {
      "cell_type": "markdown",
      "source": [
        "# Polynomial Regressor"
      ],
      "metadata": {
        "id": "KcWNy9EwuApV"
      }
    },
    {
      "cell_type": "code",
      "source": [
        "X= d.iloc[ : , 0:6].values\n",
        "X"
      ],
      "metadata": {
        "colab": {
          "base_uri": "https://localhost:8080/"
        },
        "id": "s4XzBe09sIkA",
        "outputId": "7077af14-9271-40d7-837a-6236f82f7e02"
      },
      "execution_count": null,
      "outputs": [
        {
          "output_type": "execute_result",
          "data": {
            "text/plain": [
              "array([[281.05, 283.  , 284.3 , 278.2 , 282.  , 281.6 ],\n",
              "       [281.6 , 279.5 , 285.6 , 278.35, 280.65, 281.1 ],\n",
              "       [281.1 , 281.25, 283.9 , 278.6 , 280.1 , 280.  ],\n",
              "       ...,\n",
              "       [103.2 , 103.75, 104.4 , 103.3 , 104.05, 103.9 ],\n",
              "       [103.9 , 104.9 , 105.9 , 103.55, 104.3 , 104.05],\n",
              "       [104.05, 104.15, 112.7 , 103.3 , 108.2 , 108.15]])"
            ]
          },
          "metadata": {},
          "execution_count": 38
        }
      ]
    },
    {
      "cell_type": "code",
      "source": [
        "y= d.iloc[ : , 6].values\n",
        "y"
      ],
      "metadata": {
        "colab": {
          "base_uri": "https://localhost:8080/"
        },
        "id": "EcMsG6FfuKz0",
        "outputId": "3dc91525-fc1a-4dbb-dae2-405a9a589203"
      },
      "execution_count": null,
      "outputs": [
        {
          "output_type": "execute_result",
          "data": {
            "text/plain": [
              "array([281.78, 282.57, 280.92, ..., 103.9 , 104.39, 109.79])"
            ]
          },
          "metadata": {},
          "execution_count": 39
        }
      ]
    },
    {
      "cell_type": "markdown",
      "source": [
        "# Training Linear Regression Model"
      ],
      "metadata": {
        "id": "-v4pNzT9uQJ3"
      }
    },
    {
      "cell_type": "code",
      "source": [
        "from sklearn.linear_model import LinearRegression\n",
        "lin_reg= LinearRegression()\n",
        "lin_reg.fit(X,y)"
      ],
      "metadata": {
        "colab": {
          "base_uri": "https://localhost:8080/",
          "height": 74
        },
        "id": "YlSxZV6ZuK2a",
        "outputId": "c853703b-23cd-47a0-c269-cc6bb18cda67"
      },
      "execution_count": null,
      "outputs": [
        {
          "output_type": "execute_result",
          "data": {
            "text/plain": [
              "LinearRegression()"
            ],
            "text/html": [
              "<style>#sk-container-id-3 {color: black;background-color: white;}#sk-container-id-3 pre{padding: 0;}#sk-container-id-3 div.sk-toggleable {background-color: white;}#sk-container-id-3 label.sk-toggleable__label {cursor: pointer;display: block;width: 100%;margin-bottom: 0;padding: 0.3em;box-sizing: border-box;text-align: center;}#sk-container-id-3 label.sk-toggleable__label-arrow:before {content: \"▸\";float: left;margin-right: 0.25em;color: #696969;}#sk-container-id-3 label.sk-toggleable__label-arrow:hover:before {color: black;}#sk-container-id-3 div.sk-estimator:hover label.sk-toggleable__label-arrow:before {color: black;}#sk-container-id-3 div.sk-toggleable__content {max-height: 0;max-width: 0;overflow: hidden;text-align: left;background-color: #f0f8ff;}#sk-container-id-3 div.sk-toggleable__content pre {margin: 0.2em;color: black;border-radius: 0.25em;background-color: #f0f8ff;}#sk-container-id-3 input.sk-toggleable__control:checked~div.sk-toggleable__content {max-height: 200px;max-width: 100%;overflow: auto;}#sk-container-id-3 input.sk-toggleable__control:checked~label.sk-toggleable__label-arrow:before {content: \"▾\";}#sk-container-id-3 div.sk-estimator input.sk-toggleable__control:checked~label.sk-toggleable__label {background-color: #d4ebff;}#sk-container-id-3 div.sk-label input.sk-toggleable__control:checked~label.sk-toggleable__label {background-color: #d4ebff;}#sk-container-id-3 input.sk-hidden--visually {border: 0;clip: rect(1px 1px 1px 1px);clip: rect(1px, 1px, 1px, 1px);height: 1px;margin: -1px;overflow: hidden;padding: 0;position: absolute;width: 1px;}#sk-container-id-3 div.sk-estimator {font-family: monospace;background-color: #f0f8ff;border: 1px dotted black;border-radius: 0.25em;box-sizing: border-box;margin-bottom: 0.5em;}#sk-container-id-3 div.sk-estimator:hover {background-color: #d4ebff;}#sk-container-id-3 div.sk-parallel-item::after {content: \"\";width: 100%;border-bottom: 1px solid gray;flex-grow: 1;}#sk-container-id-3 div.sk-label:hover label.sk-toggleable__label {background-color: #d4ebff;}#sk-container-id-3 div.sk-serial::before {content: \"\";position: absolute;border-left: 1px solid gray;box-sizing: border-box;top: 0;bottom: 0;left: 50%;z-index: 0;}#sk-container-id-3 div.sk-serial {display: flex;flex-direction: column;align-items: center;background-color: white;padding-right: 0.2em;padding-left: 0.2em;position: relative;}#sk-container-id-3 div.sk-item {position: relative;z-index: 1;}#sk-container-id-3 div.sk-parallel {display: flex;align-items: stretch;justify-content: center;background-color: white;position: relative;}#sk-container-id-3 div.sk-item::before, #sk-container-id-3 div.sk-parallel-item::before {content: \"\";position: absolute;border-left: 1px solid gray;box-sizing: border-box;top: 0;bottom: 0;left: 50%;z-index: -1;}#sk-container-id-3 div.sk-parallel-item {display: flex;flex-direction: column;z-index: 1;position: relative;background-color: white;}#sk-container-id-3 div.sk-parallel-item:first-child::after {align-self: flex-end;width: 50%;}#sk-container-id-3 div.sk-parallel-item:last-child::after {align-self: flex-start;width: 50%;}#sk-container-id-3 div.sk-parallel-item:only-child::after {width: 0;}#sk-container-id-3 div.sk-dashed-wrapped {border: 1px dashed gray;margin: 0 0.4em 0.5em 0.4em;box-sizing: border-box;padding-bottom: 0.4em;background-color: white;}#sk-container-id-3 div.sk-label label {font-family: monospace;font-weight: bold;display: inline-block;line-height: 1.2em;}#sk-container-id-3 div.sk-label-container {text-align: center;}#sk-container-id-3 div.sk-container {/* jupyter's `normalize.less` sets `[hidden] { display: none; }` but bootstrap.min.css set `[hidden] { display: none !important; }` so we also need the `!important` here to be able to override the default hidden behavior on the sphinx rendered scikit-learn.org. See: https://github.com/scikit-learn/scikit-learn/issues/21755 */display: inline-block !important;position: relative;}#sk-container-id-3 div.sk-text-repr-fallback {display: none;}</style><div id=\"sk-container-id-3\" class=\"sk-top-container\"><div class=\"sk-text-repr-fallback\"><pre>LinearRegression()</pre><b>In a Jupyter environment, please rerun this cell to show the HTML representation or trust the notebook. <br />On GitHub, the HTML representation is unable to render, please try loading this page with nbviewer.org.</b></div><div class=\"sk-container\" hidden><div class=\"sk-item\"><div class=\"sk-estimator sk-toggleable\"><input class=\"sk-toggleable__control sk-hidden--visually\" id=\"sk-estimator-id-3\" type=\"checkbox\" checked><label for=\"sk-estimator-id-3\" class=\"sk-toggleable__label sk-toggleable__label-arrow\">LinearRegression</label><div class=\"sk-toggleable__content\"><pre>LinearRegression()</pre></div></div></div></div></div>"
            ]
          },
          "metadata": {},
          "execution_count": 40
        }
      ]
    },
    {
      "cell_type": "markdown",
      "source": [
        "# Training Polynomial Regression Model"
      ],
      "metadata": {
        "id": "DKPWSZ1juWjd"
      }
    },
    {
      "cell_type": "code",
      "source": [
        "from sklearn.preprocessing import PolynomialFeatures\n",
        "poly_reg= PolynomialFeatures(degree=1)\n",
        "X_poly= poly_reg.fit_transform(X)"
      ],
      "metadata": {
        "id": "eUPe9RcnuK5D"
      },
      "execution_count": null,
      "outputs": []
    },
    {
      "cell_type": "code",
      "source": [
        "X"
      ],
      "metadata": {
        "colab": {
          "base_uri": "https://localhost:8080/"
        },
        "id": "3bY3N2KSuK7o",
        "outputId": "bbf88505-5468-4204-9fe9-d186a49b66cb"
      },
      "execution_count": null,
      "outputs": [
        {
          "output_type": "execute_result",
          "data": {
            "text/plain": [
              "array([[281.05, 283.  , 284.3 , 278.2 , 282.  , 281.6 ],\n",
              "       [281.6 , 279.5 , 285.6 , 278.35, 280.65, 281.1 ],\n",
              "       [281.1 , 281.25, 283.9 , 278.6 , 280.1 , 280.  ],\n",
              "       ...,\n",
              "       [103.2 , 103.75, 104.4 , 103.3 , 104.05, 103.9 ],\n",
              "       [103.9 , 104.9 , 105.9 , 103.55, 104.3 , 104.05],\n",
              "       [104.05, 104.15, 112.7 , 103.3 , 108.2 , 108.15]])"
            ]
          },
          "metadata": {},
          "execution_count": 90
        }
      ]
    },
    {
      "cell_type": "code",
      "source": [
        "X_poly"
      ],
      "metadata": {
        "colab": {
          "base_uri": "https://localhost:8080/"
        },
        "id": "gazkwk9suK-e",
        "outputId": "2b5c3a32-3343-469e-a2c9-4675613d6758"
      },
      "execution_count": null,
      "outputs": [
        {
          "output_type": "execute_result",
          "data": {
            "text/plain": [
              "array([[  1.  , 281.05, 283.  , ..., 278.2 , 282.  , 281.6 ],\n",
              "       [  1.  , 281.6 , 279.5 , ..., 278.35, 280.65, 281.1 ],\n",
              "       [  1.  , 281.1 , 281.25, ..., 278.6 , 280.1 , 280.  ],\n",
              "       ...,\n",
              "       [  1.  , 103.2 , 103.75, ..., 103.3 , 104.05, 103.9 ],\n",
              "       [  1.  , 103.9 , 104.9 , ..., 103.55, 104.3 , 104.05],\n",
              "       [  1.  , 104.05, 104.15, ..., 103.3 , 108.2 , 108.15]])"
            ]
          },
          "metadata": {},
          "execution_count": 91
        }
      ]
    },
    {
      "cell_type": "code",
      "source": [
        "from sklearn.model_selection import train_test_split\n",
        "X_train,X_test,y_train,y_test= train_test_split(X_poly,y,test_size=0.2,random_state=0)"
      ],
      "metadata": {
        "id": "PVwtKBCyuLBF"
      },
      "execution_count": null,
      "outputs": []
    },
    {
      "cell_type": "code",
      "source": [
        "lin_reg2= LinearRegression()\n",
        "lin_reg2.fit(X_poly,y)"
      ],
      "metadata": {
        "colab": {
          "base_uri": "https://localhost:8080/",
          "height": 74
        },
        "id": "WfB0L6kkuLDu",
        "outputId": "506f2647-d3f5-418e-be7f-676768cb01bf"
      },
      "execution_count": null,
      "outputs": [
        {
          "output_type": "execute_result",
          "data": {
            "text/plain": [
              "LinearRegression()"
            ],
            "text/html": [
              "<style>#sk-container-id-16 {color: black;background-color: white;}#sk-container-id-16 pre{padding: 0;}#sk-container-id-16 div.sk-toggleable {background-color: white;}#sk-container-id-16 label.sk-toggleable__label {cursor: pointer;display: block;width: 100%;margin-bottom: 0;padding: 0.3em;box-sizing: border-box;text-align: center;}#sk-container-id-16 label.sk-toggleable__label-arrow:before {content: \"▸\";float: left;margin-right: 0.25em;color: #696969;}#sk-container-id-16 label.sk-toggleable__label-arrow:hover:before {color: black;}#sk-container-id-16 div.sk-estimator:hover label.sk-toggleable__label-arrow:before {color: black;}#sk-container-id-16 div.sk-toggleable__content {max-height: 0;max-width: 0;overflow: hidden;text-align: left;background-color: #f0f8ff;}#sk-container-id-16 div.sk-toggleable__content pre {margin: 0.2em;color: black;border-radius: 0.25em;background-color: #f0f8ff;}#sk-container-id-16 input.sk-toggleable__control:checked~div.sk-toggleable__content {max-height: 200px;max-width: 100%;overflow: auto;}#sk-container-id-16 input.sk-toggleable__control:checked~label.sk-toggleable__label-arrow:before {content: \"▾\";}#sk-container-id-16 div.sk-estimator input.sk-toggleable__control:checked~label.sk-toggleable__label {background-color: #d4ebff;}#sk-container-id-16 div.sk-label input.sk-toggleable__control:checked~label.sk-toggleable__label {background-color: #d4ebff;}#sk-container-id-16 input.sk-hidden--visually {border: 0;clip: rect(1px 1px 1px 1px);clip: rect(1px, 1px, 1px, 1px);height: 1px;margin: -1px;overflow: hidden;padding: 0;position: absolute;width: 1px;}#sk-container-id-16 div.sk-estimator {font-family: monospace;background-color: #f0f8ff;border: 1px dotted black;border-radius: 0.25em;box-sizing: border-box;margin-bottom: 0.5em;}#sk-container-id-16 div.sk-estimator:hover {background-color: #d4ebff;}#sk-container-id-16 div.sk-parallel-item::after {content: \"\";width: 100%;border-bottom: 1px solid gray;flex-grow: 1;}#sk-container-id-16 div.sk-label:hover label.sk-toggleable__label {background-color: #d4ebff;}#sk-container-id-16 div.sk-serial::before {content: \"\";position: absolute;border-left: 1px solid gray;box-sizing: border-box;top: 0;bottom: 0;left: 50%;z-index: 0;}#sk-container-id-16 div.sk-serial {display: flex;flex-direction: column;align-items: center;background-color: white;padding-right: 0.2em;padding-left: 0.2em;position: relative;}#sk-container-id-16 div.sk-item {position: relative;z-index: 1;}#sk-container-id-16 div.sk-parallel {display: flex;align-items: stretch;justify-content: center;background-color: white;position: relative;}#sk-container-id-16 div.sk-item::before, #sk-container-id-16 div.sk-parallel-item::before {content: \"\";position: absolute;border-left: 1px solid gray;box-sizing: border-box;top: 0;bottom: 0;left: 50%;z-index: -1;}#sk-container-id-16 div.sk-parallel-item {display: flex;flex-direction: column;z-index: 1;position: relative;background-color: white;}#sk-container-id-16 div.sk-parallel-item:first-child::after {align-self: flex-end;width: 50%;}#sk-container-id-16 div.sk-parallel-item:last-child::after {align-self: flex-start;width: 50%;}#sk-container-id-16 div.sk-parallel-item:only-child::after {width: 0;}#sk-container-id-16 div.sk-dashed-wrapped {border: 1px dashed gray;margin: 0 0.4em 0.5em 0.4em;box-sizing: border-box;padding-bottom: 0.4em;background-color: white;}#sk-container-id-16 div.sk-label label {font-family: monospace;font-weight: bold;display: inline-block;line-height: 1.2em;}#sk-container-id-16 div.sk-label-container {text-align: center;}#sk-container-id-16 div.sk-container {/* jupyter's `normalize.less` sets `[hidden] { display: none; }` but bootstrap.min.css set `[hidden] { display: none !important; }` so we also need the `!important` here to be able to override the default hidden behavior on the sphinx rendered scikit-learn.org. See: https://github.com/scikit-learn/scikit-learn/issues/21755 */display: inline-block !important;position: relative;}#sk-container-id-16 div.sk-text-repr-fallback {display: none;}</style><div id=\"sk-container-id-16\" class=\"sk-top-container\"><div class=\"sk-text-repr-fallback\"><pre>LinearRegression()</pre><b>In a Jupyter environment, please rerun this cell to show the HTML representation or trust the notebook. <br />On GitHub, the HTML representation is unable to render, please try loading this page with nbviewer.org.</b></div><div class=\"sk-container\" hidden><div class=\"sk-item\"><div class=\"sk-estimator sk-toggleable\"><input class=\"sk-toggleable__control sk-hidden--visually\" id=\"sk-estimator-id-16\" type=\"checkbox\" checked><label for=\"sk-estimator-id-16\" class=\"sk-toggleable__label sk-toggleable__label-arrow\">LinearRegression</label><div class=\"sk-toggleable__content\"><pre>LinearRegression()</pre></div></div></div></div></div>"
            ]
          },
          "metadata": {},
          "execution_count": 93
        }
      ]
    },
    {
      "cell_type": "code",
      "source": [
        "lin_reg2.fit(X_train,y_train)"
      ],
      "metadata": {
        "colab": {
          "base_uri": "https://localhost:8080/",
          "height": 74
        },
        "id": "XtcPEt3luLGl",
        "outputId": "8bfd05b2-35cf-4a54-f2f8-702de08efc74"
      },
      "execution_count": null,
      "outputs": [
        {
          "output_type": "execute_result",
          "data": {
            "text/plain": [
              "LinearRegression()"
            ],
            "text/html": [
              "<style>#sk-container-id-17 {color: black;background-color: white;}#sk-container-id-17 pre{padding: 0;}#sk-container-id-17 div.sk-toggleable {background-color: white;}#sk-container-id-17 label.sk-toggleable__label {cursor: pointer;display: block;width: 100%;margin-bottom: 0;padding: 0.3em;box-sizing: border-box;text-align: center;}#sk-container-id-17 label.sk-toggleable__label-arrow:before {content: \"▸\";float: left;margin-right: 0.25em;color: #696969;}#sk-container-id-17 label.sk-toggleable__label-arrow:hover:before {color: black;}#sk-container-id-17 div.sk-estimator:hover label.sk-toggleable__label-arrow:before {color: black;}#sk-container-id-17 div.sk-toggleable__content {max-height: 0;max-width: 0;overflow: hidden;text-align: left;background-color: #f0f8ff;}#sk-container-id-17 div.sk-toggleable__content pre {margin: 0.2em;color: black;border-radius: 0.25em;background-color: #f0f8ff;}#sk-container-id-17 input.sk-toggleable__control:checked~div.sk-toggleable__content {max-height: 200px;max-width: 100%;overflow: auto;}#sk-container-id-17 input.sk-toggleable__control:checked~label.sk-toggleable__label-arrow:before {content: \"▾\";}#sk-container-id-17 div.sk-estimator input.sk-toggleable__control:checked~label.sk-toggleable__label {background-color: #d4ebff;}#sk-container-id-17 div.sk-label input.sk-toggleable__control:checked~label.sk-toggleable__label {background-color: #d4ebff;}#sk-container-id-17 input.sk-hidden--visually {border: 0;clip: rect(1px 1px 1px 1px);clip: rect(1px, 1px, 1px, 1px);height: 1px;margin: -1px;overflow: hidden;padding: 0;position: absolute;width: 1px;}#sk-container-id-17 div.sk-estimator {font-family: monospace;background-color: #f0f8ff;border: 1px dotted black;border-radius: 0.25em;box-sizing: border-box;margin-bottom: 0.5em;}#sk-container-id-17 div.sk-estimator:hover {background-color: #d4ebff;}#sk-container-id-17 div.sk-parallel-item::after {content: \"\";width: 100%;border-bottom: 1px solid gray;flex-grow: 1;}#sk-container-id-17 div.sk-label:hover label.sk-toggleable__label {background-color: #d4ebff;}#sk-container-id-17 div.sk-serial::before {content: \"\";position: absolute;border-left: 1px solid gray;box-sizing: border-box;top: 0;bottom: 0;left: 50%;z-index: 0;}#sk-container-id-17 div.sk-serial {display: flex;flex-direction: column;align-items: center;background-color: white;padding-right: 0.2em;padding-left: 0.2em;position: relative;}#sk-container-id-17 div.sk-item {position: relative;z-index: 1;}#sk-container-id-17 div.sk-parallel {display: flex;align-items: stretch;justify-content: center;background-color: white;position: relative;}#sk-container-id-17 div.sk-item::before, #sk-container-id-17 div.sk-parallel-item::before {content: \"\";position: absolute;border-left: 1px solid gray;box-sizing: border-box;top: 0;bottom: 0;left: 50%;z-index: -1;}#sk-container-id-17 div.sk-parallel-item {display: flex;flex-direction: column;z-index: 1;position: relative;background-color: white;}#sk-container-id-17 div.sk-parallel-item:first-child::after {align-self: flex-end;width: 50%;}#sk-container-id-17 div.sk-parallel-item:last-child::after {align-self: flex-start;width: 50%;}#sk-container-id-17 div.sk-parallel-item:only-child::after {width: 0;}#sk-container-id-17 div.sk-dashed-wrapped {border: 1px dashed gray;margin: 0 0.4em 0.5em 0.4em;box-sizing: border-box;padding-bottom: 0.4em;background-color: white;}#sk-container-id-17 div.sk-label label {font-family: monospace;font-weight: bold;display: inline-block;line-height: 1.2em;}#sk-container-id-17 div.sk-label-container {text-align: center;}#sk-container-id-17 div.sk-container {/* jupyter's `normalize.less` sets `[hidden] { display: none; }` but bootstrap.min.css set `[hidden] { display: none !important; }` so we also need the `!important` here to be able to override the default hidden behavior on the sphinx rendered scikit-learn.org. See: https://github.com/scikit-learn/scikit-learn/issues/21755 */display: inline-block !important;position: relative;}#sk-container-id-17 div.sk-text-repr-fallback {display: none;}</style><div id=\"sk-container-id-17\" class=\"sk-top-container\"><div class=\"sk-text-repr-fallback\"><pre>LinearRegression()</pre><b>In a Jupyter environment, please rerun this cell to show the HTML representation or trust the notebook. <br />On GitHub, the HTML representation is unable to render, please try loading this page with nbviewer.org.</b></div><div class=\"sk-container\" hidden><div class=\"sk-item\"><div class=\"sk-estimator sk-toggleable\"><input class=\"sk-toggleable__control sk-hidden--visually\" id=\"sk-estimator-id-17\" type=\"checkbox\" checked><label for=\"sk-estimator-id-17\" class=\"sk-toggleable__label sk-toggleable__label-arrow\">LinearRegression</label><div class=\"sk-toggleable__content\"><pre>LinearRegression()</pre></div></div></div></div></div>"
            ]
          },
          "metadata": {},
          "execution_count": 94
        }
      ]
    },
    {
      "cell_type": "code",
      "source": [
        "y_pred= lin_reg2.predict(X_test)"
      ],
      "metadata": {
        "id": "dSDC8QOiuLJI"
      },
      "execution_count": null,
      "outputs": []
    },
    {
      "cell_type": "code",
      "source": [
        "from sklearn.metrics import r2_score\n",
        "r2_score(y_test,y_pred)"
      ],
      "metadata": {
        "colab": {
          "base_uri": "https://localhost:8080/"
        },
        "id": "Mt39EDzmuLLs",
        "outputId": "dbcfc328-6be0-4d82-bf9a-dab4953a54f2"
      },
      "execution_count": null,
      "outputs": [
        {
          "output_type": "execute_result",
          "data": {
            "text/plain": [
              "0.999930771167945"
            ]
          },
          "metadata": {},
          "execution_count": 96
        }
      ]
    },
    {
      "cell_type": "markdown",
      "source": [
        "# SVR"
      ],
      "metadata": {
        "id": "t9oXMNdou60m"
      }
    },
    {
      "cell_type": "code",
      "source": [
        "X"
      ],
      "metadata": {
        "colab": {
          "base_uri": "https://localhost:8080/"
        },
        "id": "vsmK3z33uLOY",
        "outputId": "fff5d1a5-4993-4473-80e4-1aae3b603c32"
      },
      "execution_count": null,
      "outputs": [
        {
          "output_type": "execute_result",
          "data": {
            "text/plain": [
              "array([[281.05, 283.  , 284.3 , 278.2 , 282.  , 281.6 ],\n",
              "       [281.6 , 279.5 , 285.6 , 278.35, 280.65, 281.1 ],\n",
              "       [281.1 , 281.25, 283.9 , 278.6 , 280.1 , 280.  ],\n",
              "       ...,\n",
              "       [103.2 , 103.75, 104.4 , 103.3 , 104.05, 103.9 ],\n",
              "       [103.9 , 104.9 , 105.9 , 103.55, 104.3 , 104.05],\n",
              "       [104.05, 104.15, 112.7 , 103.3 , 108.2 , 108.15]])"
            ]
          },
          "metadata": {},
          "execution_count": 97
        }
      ]
    },
    {
      "cell_type": "code",
      "source": [
        "y"
      ],
      "metadata": {
        "colab": {
          "base_uri": "https://localhost:8080/"
        },
        "id": "h3ZJ4MBeuLRV",
        "outputId": "04b68097-3d5a-436d-a11d-5682f3b98338"
      },
      "execution_count": null,
      "outputs": [
        {
          "output_type": "execute_result",
          "data": {
            "text/plain": [
              "array([281.78, 282.57, 280.92, ..., 103.9 , 104.39, 109.79])"
            ]
          },
          "metadata": {},
          "execution_count": 98
        }
      ]
    },
    {
      "cell_type": "code",
      "source": [
        "X.shape"
      ],
      "metadata": {
        "colab": {
          "base_uri": "https://localhost:8080/"
        },
        "id": "yPEiHLqBuLTh",
        "outputId": "e4e8ab8a-0149-48e6-f810-8b9e4a9d8285"
      },
      "execution_count": null,
      "outputs": [
        {
          "output_type": "execute_result",
          "data": {
            "text/plain": [
              "(2456, 6)"
            ]
          },
          "metadata": {},
          "execution_count": 99
        }
      ]
    },
    {
      "cell_type": "code",
      "source": [
        "y.shape"
      ],
      "metadata": {
        "colab": {
          "base_uri": "https://localhost:8080/"
        },
        "id": "SwB17B1xuLWy",
        "outputId": "1b8906fc-a29f-4627-ecc4-4528dbdb2f89"
      },
      "execution_count": null,
      "outputs": [
        {
          "output_type": "execute_result",
          "data": {
            "text/plain": [
              "(2456,)"
            ]
          },
          "metadata": {},
          "execution_count": 100
        }
      ]
    },
    {
      "cell_type": "code",
      "source": [
        "y=y.reshape(len(y),1)\n",
        "y"
      ],
      "metadata": {
        "colab": {
          "base_uri": "https://localhost:8080/"
        },
        "id": "gluZshz4vC2L",
        "outputId": "daeb11cf-91d9-4f75-dc2c-a2e3a9c7d969"
      },
      "execution_count": null,
      "outputs": [
        {
          "output_type": "execute_result",
          "data": {
            "text/plain": [
              "array([[281.78],\n",
              "       [282.57],\n",
              "       [280.92],\n",
              "       ...,\n",
              "       [103.9 ],\n",
              "       [104.39],\n",
              "       [109.79]])"
            ]
          },
          "metadata": {},
          "execution_count": 102
        }
      ]
    },
    {
      "cell_type": "markdown",
      "source": [
        "# Feature Scaling"
      ],
      "metadata": {
        "id": "OAjBDzI8vJf4"
      }
    },
    {
      "cell_type": "code",
      "source": [
        "from sklearn.preprocessing import StandardScaler\n",
        "sc_x=StandardScaler()\n",
        "X=sc_x.fit_transform(X)\n",
        "\n",
        "sc_y=StandardScaler()\n",
        "y=sc_y.fit_transform(y)"
      ],
      "metadata": {
        "id": "l8SVuRiWvFBG"
      },
      "execution_count": null,
      "outputs": []
    },
    {
      "cell_type": "code",
      "source": [
        "X"
      ],
      "metadata": {
        "colab": {
          "base_uri": "https://localhost:8080/"
        },
        "id": "hCEK7E7CvK5x",
        "outputId": "64d6360b-f81a-4e8e-c01a-2ef5a5ab5129"
      },
      "execution_count": null,
      "outputs": [
        {
          "output_type": "execute_result",
          "data": {
            "text/plain": [
              "array([[ 0.6448,  0.6616,  0.6335,  0.6564,  0.6564,  0.6517],\n",
              "       [ 0.651 ,  0.6217,  0.6481,  0.6581,  0.641 ,  0.646 ],\n",
              "       [ 0.6453,  0.6416,  0.629 ,  0.661 ,  0.6347,  0.6334],\n",
              "       ...,\n",
              "       [-1.3871, -1.3831, -1.3895, -1.3702, -1.3764, -1.3779],\n",
              "       [-1.3791, -1.37  , -1.3726, -1.3673, -1.3736, -1.3762],\n",
              "       [-1.3774, -1.3785, -1.2961, -1.3702, -1.329 , -1.3294]])"
            ]
          },
          "metadata": {},
          "execution_count": 104
        }
      ]
    },
    {
      "cell_type": "code",
      "source": [
        "y"
      ],
      "metadata": {
        "colab": {
          "base_uri": "https://localhost:8080/"
        },
        "id": "3ffklcGFvSfG",
        "outputId": "118bcb3a-37b1-479d-c487-e0c84a609adf"
      },
      "execution_count": null,
      "outputs": [
        {
          "output_type": "execute_result",
          "data": {
            "text/plain": [
              "array([[ 0.652 ],\n",
              "       [ 0.661 ],\n",
              "       [ 0.6422],\n",
              "       ...,\n",
              "       [-1.3793],\n",
              "       [-1.3737],\n",
              "       [-1.312 ]])"
            ]
          },
          "metadata": {},
          "execution_count": 105
        }
      ]
    },
    {
      "cell_type": "markdown",
      "source": [
        "# Training SVR model on dataset"
      ],
      "metadata": {
        "id": "ZQU2ISIlvVZf"
      }
    },
    {
      "cell_type": "code",
      "source": [
        "from sklearn.svm import SVR\n",
        "regressor=SVR(kernel='rbf')\n",
        "regressor.fit(X,y)"
      ],
      "metadata": {
        "colab": {
          "base_uri": "https://localhost:8080/",
          "height": 131
        },
        "id": "Seek4gQYvS5Y",
        "outputId": "d37bae17-e5d3-4394-c29b-487d292f767a"
      },
      "execution_count": null,
      "outputs": [
        {
          "output_type": "stream",
          "name": "stderr",
          "text": [
            "/usr/local/lib/python3.10/dist-packages/sklearn/utils/validation.py:1143: DataConversionWarning: A column-vector y was passed when a 1d array was expected. Please change the shape of y to (n_samples, ), for example using ravel().\n",
            "  y = column_or_1d(y, warn=True)\n"
          ]
        },
        {
          "output_type": "execute_result",
          "data": {
            "text/plain": [
              "SVR()"
            ],
            "text/html": [
              "<style>#sk-container-id-18 {color: black;background-color: white;}#sk-container-id-18 pre{padding: 0;}#sk-container-id-18 div.sk-toggleable {background-color: white;}#sk-container-id-18 label.sk-toggleable__label {cursor: pointer;display: block;width: 100%;margin-bottom: 0;padding: 0.3em;box-sizing: border-box;text-align: center;}#sk-container-id-18 label.sk-toggleable__label-arrow:before {content: \"▸\";float: left;margin-right: 0.25em;color: #696969;}#sk-container-id-18 label.sk-toggleable__label-arrow:hover:before {color: black;}#sk-container-id-18 div.sk-estimator:hover label.sk-toggleable__label-arrow:before {color: black;}#sk-container-id-18 div.sk-toggleable__content {max-height: 0;max-width: 0;overflow: hidden;text-align: left;background-color: #f0f8ff;}#sk-container-id-18 div.sk-toggleable__content pre {margin: 0.2em;color: black;border-radius: 0.25em;background-color: #f0f8ff;}#sk-container-id-18 input.sk-toggleable__control:checked~div.sk-toggleable__content {max-height: 200px;max-width: 100%;overflow: auto;}#sk-container-id-18 input.sk-toggleable__control:checked~label.sk-toggleable__label-arrow:before {content: \"▾\";}#sk-container-id-18 div.sk-estimator input.sk-toggleable__control:checked~label.sk-toggleable__label {background-color: #d4ebff;}#sk-container-id-18 div.sk-label input.sk-toggleable__control:checked~label.sk-toggleable__label {background-color: #d4ebff;}#sk-container-id-18 input.sk-hidden--visually {border: 0;clip: rect(1px 1px 1px 1px);clip: rect(1px, 1px, 1px, 1px);height: 1px;margin: -1px;overflow: hidden;padding: 0;position: absolute;width: 1px;}#sk-container-id-18 div.sk-estimator {font-family: monospace;background-color: #f0f8ff;border: 1px dotted black;border-radius: 0.25em;box-sizing: border-box;margin-bottom: 0.5em;}#sk-container-id-18 div.sk-estimator:hover {background-color: #d4ebff;}#sk-container-id-18 div.sk-parallel-item::after {content: \"\";width: 100%;border-bottom: 1px solid gray;flex-grow: 1;}#sk-container-id-18 div.sk-label:hover label.sk-toggleable__label {background-color: #d4ebff;}#sk-container-id-18 div.sk-serial::before {content: \"\";position: absolute;border-left: 1px solid gray;box-sizing: border-box;top: 0;bottom: 0;left: 50%;z-index: 0;}#sk-container-id-18 div.sk-serial {display: flex;flex-direction: column;align-items: center;background-color: white;padding-right: 0.2em;padding-left: 0.2em;position: relative;}#sk-container-id-18 div.sk-item {position: relative;z-index: 1;}#sk-container-id-18 div.sk-parallel {display: flex;align-items: stretch;justify-content: center;background-color: white;position: relative;}#sk-container-id-18 div.sk-item::before, #sk-container-id-18 div.sk-parallel-item::before {content: \"\";position: absolute;border-left: 1px solid gray;box-sizing: border-box;top: 0;bottom: 0;left: 50%;z-index: -1;}#sk-container-id-18 div.sk-parallel-item {display: flex;flex-direction: column;z-index: 1;position: relative;background-color: white;}#sk-container-id-18 div.sk-parallel-item:first-child::after {align-self: flex-end;width: 50%;}#sk-container-id-18 div.sk-parallel-item:last-child::after {align-self: flex-start;width: 50%;}#sk-container-id-18 div.sk-parallel-item:only-child::after {width: 0;}#sk-container-id-18 div.sk-dashed-wrapped {border: 1px dashed gray;margin: 0 0.4em 0.5em 0.4em;box-sizing: border-box;padding-bottom: 0.4em;background-color: white;}#sk-container-id-18 div.sk-label label {font-family: monospace;font-weight: bold;display: inline-block;line-height: 1.2em;}#sk-container-id-18 div.sk-label-container {text-align: center;}#sk-container-id-18 div.sk-container {/* jupyter's `normalize.less` sets `[hidden] { display: none; }` but bootstrap.min.css set `[hidden] { display: none !important; }` so we also need the `!important` here to be able to override the default hidden behavior on the sphinx rendered scikit-learn.org. See: https://github.com/scikit-learn/scikit-learn/issues/21755 */display: inline-block !important;position: relative;}#sk-container-id-18 div.sk-text-repr-fallback {display: none;}</style><div id=\"sk-container-id-18\" class=\"sk-top-container\"><div class=\"sk-text-repr-fallback\"><pre>SVR()</pre><b>In a Jupyter environment, please rerun this cell to show the HTML representation or trust the notebook. <br />On GitHub, the HTML representation is unable to render, please try loading this page with nbviewer.org.</b></div><div class=\"sk-container\" hidden><div class=\"sk-item\"><div class=\"sk-estimator sk-toggleable\"><input class=\"sk-toggleable__control sk-hidden--visually\" id=\"sk-estimator-id-18\" type=\"checkbox\" checked><label for=\"sk-estimator-id-18\" class=\"sk-toggleable__label sk-toggleable__label-arrow\">SVR</label><div class=\"sk-toggleable__content\"><pre>SVR()</pre></div></div></div></div></div>"
            ]
          },
          "metadata": {},
          "execution_count": 106
        }
      ]
    },
    {
      "cell_type": "code",
      "source": [
        "X"
      ],
      "metadata": {
        "colab": {
          "base_uri": "https://localhost:8080/"
        },
        "id": "BifHkfSfvWub",
        "outputId": "1bc6ec18-bd99-4b38-8fb5-08a069c82386"
      },
      "execution_count": null,
      "outputs": [
        {
          "output_type": "execute_result",
          "data": {
            "text/plain": [
              "array([[ 0.6448,  0.6616,  0.6335,  0.6564,  0.6564,  0.6517],\n",
              "       [ 0.651 ,  0.6217,  0.6481,  0.6581,  0.641 ,  0.646 ],\n",
              "       [ 0.6453,  0.6416,  0.629 ,  0.661 ,  0.6347,  0.6334],\n",
              "       ...,\n",
              "       [-1.3871, -1.3831, -1.3895, -1.3702, -1.3764, -1.3779],\n",
              "       [-1.3791, -1.37  , -1.3726, -1.3673, -1.3736, -1.3762],\n",
              "       [-1.3774, -1.3785, -1.2961, -1.3702, -1.329 , -1.3294]])"
            ]
          },
          "metadata": {},
          "execution_count": 107
        }
      ]
    },
    {
      "cell_type": "code",
      "source": [
        "y"
      ],
      "metadata": {
        "colab": {
          "base_uri": "https://localhost:8080/"
        },
        "id": "1Fm9wxc-vYbr",
        "outputId": "0d2d30f0-4a40-43f8-aee0-f8152788d4ed"
      },
      "execution_count": null,
      "outputs": [
        {
          "output_type": "execute_result",
          "data": {
            "text/plain": [
              "array([[ 0.652 ],\n",
              "       [ 0.661 ],\n",
              "       [ 0.6422],\n",
              "       ...,\n",
              "       [-1.3793],\n",
              "       [-1.3737],\n",
              "       [-1.312 ]])"
            ]
          },
          "metadata": {},
          "execution_count": 108
        }
      ]
    },
    {
      "cell_type": "code",
      "source": [
        "y_pred=regressor.predict(X)\n",
        "y_pred"
      ],
      "metadata": {
        "colab": {
          "base_uri": "https://localhost:8080/"
        },
        "id": "6_81ViC3vYq4",
        "outputId": "84101932-7c03-45ef-bf8e-7a18451bfdaa"
      },
      "execution_count": null,
      "outputs": [
        {
          "output_type": "execute_result",
          "data": {
            "text/plain": [
              "array([ 0.6541,  0.6469,  0.6417, ..., -1.4396, -1.4307, -1.3984])"
            ]
          },
          "metadata": {},
          "execution_count": 109
        }
      ]
    },
    {
      "cell_type": "code",
      "source": [
        "y_test=sc_y.inverse_transform(y)\n",
        "y_test"
      ],
      "metadata": {
        "colab": {
          "base_uri": "https://localhost:8080/"
        },
        "id": "d-U3jeHAvjVe",
        "outputId": "aad6cc67-2ee4-45f4-acd1-70e5d1c6e0c1"
      },
      "execution_count": null,
      "outputs": [
        {
          "output_type": "execute_result",
          "data": {
            "text/plain": [
              "array([[281.78],\n",
              "       [282.57],\n",
              "       [280.92],\n",
              "       ...,\n",
              "       [103.9 ],\n",
              "       [104.39],\n",
              "       [109.79]])"
            ]
          },
          "metadata": {},
          "execution_count": 110
        }
      ]
    },
    {
      "cell_type": "code",
      "source": [
        "from sklearn.metrics import r2_score\n",
        "r2_score(y,y_pred)"
      ],
      "metadata": {
        "colab": {
          "base_uri": "https://localhost:8080/"
        },
        "id": "IGCRqvcFvjX5",
        "outputId": "e91d9cc9-f37c-4de8-b086-0cc72c77a39e"
      },
      "execution_count": null,
      "outputs": [
        {
          "output_type": "execute_result",
          "data": {
            "text/plain": [
              "0.99839553546944"
            ]
          },
          "metadata": {},
          "execution_count": 111
        }
      ]
    },
    {
      "cell_type": "markdown",
      "source": [
        "# Decision Tree Regressor"
      ],
      "metadata": {
        "id": "IgnWDuZlv2bR"
      }
    },
    {
      "cell_type": "code",
      "source": [
        "X= d.iloc[ : , 0:6].values\n",
        "X"
      ],
      "metadata": {
        "colab": {
          "base_uri": "https://localhost:8080/"
        },
        "id": "vTTdEupOv6MY",
        "outputId": "fb466230-55d7-406f-d187-ec03d68619e4"
      },
      "execution_count": null,
      "outputs": [
        {
          "output_type": "execute_result",
          "data": {
            "text/plain": [
              "array([[281.05, 283.  , 284.3 , 278.2 , 282.  , 281.6 ],\n",
              "       [281.6 , 279.5 , 285.6 , 278.35, 280.65, 281.1 ],\n",
              "       [281.1 , 281.25, 283.9 , 278.6 , 280.1 , 280.  ],\n",
              "       ...,\n",
              "       [103.2 , 103.75, 104.4 , 103.3 , 104.05, 103.9 ],\n",
              "       [103.9 , 104.9 , 105.9 , 103.55, 104.3 , 104.05],\n",
              "       [104.05, 104.15, 112.7 , 103.3 , 108.2 , 108.15]])"
            ]
          },
          "metadata": {},
          "execution_count": 113
        }
      ]
    },
    {
      "cell_type": "code",
      "source": [
        "y= d.iloc[ : , 6].values\n",
        "y"
      ],
      "metadata": {
        "colab": {
          "base_uri": "https://localhost:8080/"
        },
        "id": "G8dGzWpev62N",
        "outputId": "049b0c50-37b4-4779-b0c2-1dd99d002e9e"
      },
      "execution_count": null,
      "outputs": [
        {
          "output_type": "execute_result",
          "data": {
            "text/plain": [
              "array([281.78, 282.57, 280.92, ..., 103.9 , 104.39, 109.79])"
            ]
          },
          "metadata": {},
          "execution_count": 114
        }
      ]
    },
    {
      "cell_type": "markdown",
      "source": [
        "#Training Decision Tree Model"
      ],
      "metadata": {
        "id": "mUYmQXTTv4T4"
      }
    },
    {
      "cell_type": "code",
      "source": [
        "from sklearn.tree import DecisionTreeRegressor\n",
        "regressor= DecisionTreeRegressor(random_state=0)\n",
        "regressor.fit(X,y)"
      ],
      "metadata": {
        "colab": {
          "base_uri": "https://localhost:8080/",
          "height": 74
        },
        "id": "ToULLMhjv7bJ",
        "outputId": "c474acd8-e802-409f-c788-49da7630debb"
      },
      "execution_count": null,
      "outputs": [
        {
          "output_type": "execute_result",
          "data": {
            "text/plain": [
              "DecisionTreeRegressor(random_state=0)"
            ],
            "text/html": [
              "<style>#sk-container-id-19 {color: black;background-color: white;}#sk-container-id-19 pre{padding: 0;}#sk-container-id-19 div.sk-toggleable {background-color: white;}#sk-container-id-19 label.sk-toggleable__label {cursor: pointer;display: block;width: 100%;margin-bottom: 0;padding: 0.3em;box-sizing: border-box;text-align: center;}#sk-container-id-19 label.sk-toggleable__label-arrow:before {content: \"▸\";float: left;margin-right: 0.25em;color: #696969;}#sk-container-id-19 label.sk-toggleable__label-arrow:hover:before {color: black;}#sk-container-id-19 div.sk-estimator:hover label.sk-toggleable__label-arrow:before {color: black;}#sk-container-id-19 div.sk-toggleable__content {max-height: 0;max-width: 0;overflow: hidden;text-align: left;background-color: #f0f8ff;}#sk-container-id-19 div.sk-toggleable__content pre {margin: 0.2em;color: black;border-radius: 0.25em;background-color: #f0f8ff;}#sk-container-id-19 input.sk-toggleable__control:checked~div.sk-toggleable__content {max-height: 200px;max-width: 100%;overflow: auto;}#sk-container-id-19 input.sk-toggleable__control:checked~label.sk-toggleable__label-arrow:before {content: \"▾\";}#sk-container-id-19 div.sk-estimator input.sk-toggleable__control:checked~label.sk-toggleable__label {background-color: #d4ebff;}#sk-container-id-19 div.sk-label input.sk-toggleable__control:checked~label.sk-toggleable__label {background-color: #d4ebff;}#sk-container-id-19 input.sk-hidden--visually {border: 0;clip: rect(1px 1px 1px 1px);clip: rect(1px, 1px, 1px, 1px);height: 1px;margin: -1px;overflow: hidden;padding: 0;position: absolute;width: 1px;}#sk-container-id-19 div.sk-estimator {font-family: monospace;background-color: #f0f8ff;border: 1px dotted black;border-radius: 0.25em;box-sizing: border-box;margin-bottom: 0.5em;}#sk-container-id-19 div.sk-estimator:hover {background-color: #d4ebff;}#sk-container-id-19 div.sk-parallel-item::after {content: \"\";width: 100%;border-bottom: 1px solid gray;flex-grow: 1;}#sk-container-id-19 div.sk-label:hover label.sk-toggleable__label {background-color: #d4ebff;}#sk-container-id-19 div.sk-serial::before {content: \"\";position: absolute;border-left: 1px solid gray;box-sizing: border-box;top: 0;bottom: 0;left: 50%;z-index: 0;}#sk-container-id-19 div.sk-serial {display: flex;flex-direction: column;align-items: center;background-color: white;padding-right: 0.2em;padding-left: 0.2em;position: relative;}#sk-container-id-19 div.sk-item {position: relative;z-index: 1;}#sk-container-id-19 div.sk-parallel {display: flex;align-items: stretch;justify-content: center;background-color: white;position: relative;}#sk-container-id-19 div.sk-item::before, #sk-container-id-19 div.sk-parallel-item::before {content: \"\";position: absolute;border-left: 1px solid gray;box-sizing: border-box;top: 0;bottom: 0;left: 50%;z-index: -1;}#sk-container-id-19 div.sk-parallel-item {display: flex;flex-direction: column;z-index: 1;position: relative;background-color: white;}#sk-container-id-19 div.sk-parallel-item:first-child::after {align-self: flex-end;width: 50%;}#sk-container-id-19 div.sk-parallel-item:last-child::after {align-self: flex-start;width: 50%;}#sk-container-id-19 div.sk-parallel-item:only-child::after {width: 0;}#sk-container-id-19 div.sk-dashed-wrapped {border: 1px dashed gray;margin: 0 0.4em 0.5em 0.4em;box-sizing: border-box;padding-bottom: 0.4em;background-color: white;}#sk-container-id-19 div.sk-label label {font-family: monospace;font-weight: bold;display: inline-block;line-height: 1.2em;}#sk-container-id-19 div.sk-label-container {text-align: center;}#sk-container-id-19 div.sk-container {/* jupyter's `normalize.less` sets `[hidden] { display: none; }` but bootstrap.min.css set `[hidden] { display: none !important; }` so we also need the `!important` here to be able to override the default hidden behavior on the sphinx rendered scikit-learn.org. See: https://github.com/scikit-learn/scikit-learn/issues/21755 */display: inline-block !important;position: relative;}#sk-container-id-19 div.sk-text-repr-fallback {display: none;}</style><div id=\"sk-container-id-19\" class=\"sk-top-container\"><div class=\"sk-text-repr-fallback\"><pre>DecisionTreeRegressor(random_state=0)</pre><b>In a Jupyter environment, please rerun this cell to show the HTML representation or trust the notebook. <br />On GitHub, the HTML representation is unable to render, please try loading this page with nbviewer.org.</b></div><div class=\"sk-container\" hidden><div class=\"sk-item\"><div class=\"sk-estimator sk-toggleable\"><input class=\"sk-toggleable__control sk-hidden--visually\" id=\"sk-estimator-id-19\" type=\"checkbox\" checked><label for=\"sk-estimator-id-19\" class=\"sk-toggleable__label sk-toggleable__label-arrow\">DecisionTreeRegressor</label><div class=\"sk-toggleable__content\"><pre>DecisionTreeRegressor(random_state=0)</pre></div></div></div></div></div>"
            ]
          },
          "metadata": {},
          "execution_count": 115
        }
      ]
    },
    {
      "cell_type": "code",
      "source": [
        "from sklearn.metrics import r2_score\n",
        "r2_score(y,regressor.predict(X))"
      ],
      "metadata": {
        "colab": {
          "base_uri": "https://localhost:8080/"
        },
        "id": "GZt-j5bcv5c9",
        "outputId": "4694019f-0011-444e-d0b6-7e5c27e5a241"
      },
      "execution_count": null,
      "outputs": [
        {
          "output_type": "execute_result",
          "data": {
            "text/plain": [
              "1.0"
            ]
          },
          "metadata": {},
          "execution_count": 116
        }
      ]
    },
    {
      "cell_type": "markdown",
      "source": [
        "#Random Forest Regressor"
      ],
      "metadata": {
        "id": "pzfTA7Mlv2i4"
      }
    },
    {
      "cell_type": "code",
      "source": [
        "X"
      ],
      "metadata": {
        "colab": {
          "base_uri": "https://localhost:8080/"
        },
        "id": "ZjMZhzUPvjan",
        "outputId": "76291390-cd90-4385-9301-fca69d4b8394"
      },
      "execution_count": null,
      "outputs": [
        {
          "output_type": "execute_result",
          "data": {
            "text/plain": [
              "array([[281.05, 283.  , 284.3 , 278.2 , 282.  , 281.6 ],\n",
              "       [281.6 , 279.5 , 285.6 , 278.35, 280.65, 281.1 ],\n",
              "       [281.1 , 281.25, 283.9 , 278.6 , 280.1 , 280.  ],\n",
              "       ...,\n",
              "       [103.2 , 103.75, 104.4 , 103.3 , 104.05, 103.9 ],\n",
              "       [103.9 , 104.9 , 105.9 , 103.55, 104.3 , 104.05],\n",
              "       [104.05, 104.15, 112.7 , 103.3 , 108.2 , 108.15]])"
            ]
          },
          "metadata": {},
          "execution_count": 117
        }
      ]
    },
    {
      "cell_type": "code",
      "source": [
        "y"
      ],
      "metadata": {
        "colab": {
          "base_uri": "https://localhost:8080/"
        },
        "id": "m8gCMbhKvjd_",
        "outputId": "5fb2aca1-0343-423a-f452-f391645ef2b1"
      },
      "execution_count": null,
      "outputs": [
        {
          "output_type": "execute_result",
          "data": {
            "text/plain": [
              "array([281.78, 282.57, 280.92, ..., 103.9 , 104.39, 109.79])"
            ]
          },
          "metadata": {},
          "execution_count": 118
        }
      ]
    },
    {
      "cell_type": "markdown",
      "source": [
        "##Training Random Forest model"
      ],
      "metadata": {
        "id": "JsJQBiOgv9zp"
      }
    },
    {
      "cell_type": "code",
      "source": [
        "from sklearn.ensemble import RandomForestRegressor\n",
        "regressor= RandomForestRegressor(n_estimators=10, random_state=0)\n",
        "regressor.fit(X,y)"
      ],
      "metadata": {
        "colab": {
          "base_uri": "https://localhost:8080/",
          "height": 74
        },
        "id": "icDFKfauwkDs",
        "outputId": "cd67e3a3-3119-4a39-92b3-98f3ace97bbf"
      },
      "execution_count": null,
      "outputs": [
        {
          "output_type": "execute_result",
          "data": {
            "text/plain": [
              "RandomForestRegressor(n_estimators=10, random_state=0)"
            ],
            "text/html": [
              "<style>#sk-container-id-20 {color: black;background-color: white;}#sk-container-id-20 pre{padding: 0;}#sk-container-id-20 div.sk-toggleable {background-color: white;}#sk-container-id-20 label.sk-toggleable__label {cursor: pointer;display: block;width: 100%;margin-bottom: 0;padding: 0.3em;box-sizing: border-box;text-align: center;}#sk-container-id-20 label.sk-toggleable__label-arrow:before {content: \"▸\";float: left;margin-right: 0.25em;color: #696969;}#sk-container-id-20 label.sk-toggleable__label-arrow:hover:before {color: black;}#sk-container-id-20 div.sk-estimator:hover label.sk-toggleable__label-arrow:before {color: black;}#sk-container-id-20 div.sk-toggleable__content {max-height: 0;max-width: 0;overflow: hidden;text-align: left;background-color: #f0f8ff;}#sk-container-id-20 div.sk-toggleable__content pre {margin: 0.2em;color: black;border-radius: 0.25em;background-color: #f0f8ff;}#sk-container-id-20 input.sk-toggleable__control:checked~div.sk-toggleable__content {max-height: 200px;max-width: 100%;overflow: auto;}#sk-container-id-20 input.sk-toggleable__control:checked~label.sk-toggleable__label-arrow:before {content: \"▾\";}#sk-container-id-20 div.sk-estimator input.sk-toggleable__control:checked~label.sk-toggleable__label {background-color: #d4ebff;}#sk-container-id-20 div.sk-label input.sk-toggleable__control:checked~label.sk-toggleable__label {background-color: #d4ebff;}#sk-container-id-20 input.sk-hidden--visually {border: 0;clip: rect(1px 1px 1px 1px);clip: rect(1px, 1px, 1px, 1px);height: 1px;margin: -1px;overflow: hidden;padding: 0;position: absolute;width: 1px;}#sk-container-id-20 div.sk-estimator {font-family: monospace;background-color: #f0f8ff;border: 1px dotted black;border-radius: 0.25em;box-sizing: border-box;margin-bottom: 0.5em;}#sk-container-id-20 div.sk-estimator:hover {background-color: #d4ebff;}#sk-container-id-20 div.sk-parallel-item::after {content: \"\";width: 100%;border-bottom: 1px solid gray;flex-grow: 1;}#sk-container-id-20 div.sk-label:hover label.sk-toggleable__label {background-color: #d4ebff;}#sk-container-id-20 div.sk-serial::before {content: \"\";position: absolute;border-left: 1px solid gray;box-sizing: border-box;top: 0;bottom: 0;left: 50%;z-index: 0;}#sk-container-id-20 div.sk-serial {display: flex;flex-direction: column;align-items: center;background-color: white;padding-right: 0.2em;padding-left: 0.2em;position: relative;}#sk-container-id-20 div.sk-item {position: relative;z-index: 1;}#sk-container-id-20 div.sk-parallel {display: flex;align-items: stretch;justify-content: center;background-color: white;position: relative;}#sk-container-id-20 div.sk-item::before, #sk-container-id-20 div.sk-parallel-item::before {content: \"\";position: absolute;border-left: 1px solid gray;box-sizing: border-box;top: 0;bottom: 0;left: 50%;z-index: -1;}#sk-container-id-20 div.sk-parallel-item {display: flex;flex-direction: column;z-index: 1;position: relative;background-color: white;}#sk-container-id-20 div.sk-parallel-item:first-child::after {align-self: flex-end;width: 50%;}#sk-container-id-20 div.sk-parallel-item:last-child::after {align-self: flex-start;width: 50%;}#sk-container-id-20 div.sk-parallel-item:only-child::after {width: 0;}#sk-container-id-20 div.sk-dashed-wrapped {border: 1px dashed gray;margin: 0 0.4em 0.5em 0.4em;box-sizing: border-box;padding-bottom: 0.4em;background-color: white;}#sk-container-id-20 div.sk-label label {font-family: monospace;font-weight: bold;display: inline-block;line-height: 1.2em;}#sk-container-id-20 div.sk-label-container {text-align: center;}#sk-container-id-20 div.sk-container {/* jupyter's `normalize.less` sets `[hidden] { display: none; }` but bootstrap.min.css set `[hidden] { display: none !important; }` so we also need the `!important` here to be able to override the default hidden behavior on the sphinx rendered scikit-learn.org. See: https://github.com/scikit-learn/scikit-learn/issues/21755 */display: inline-block !important;position: relative;}#sk-container-id-20 div.sk-text-repr-fallback {display: none;}</style><div id=\"sk-container-id-20\" class=\"sk-top-container\"><div class=\"sk-text-repr-fallback\"><pre>RandomForestRegressor(n_estimators=10, random_state=0)</pre><b>In a Jupyter environment, please rerun this cell to show the HTML representation or trust the notebook. <br />On GitHub, the HTML representation is unable to render, please try loading this page with nbviewer.org.</b></div><div class=\"sk-container\" hidden><div class=\"sk-item\"><div class=\"sk-estimator sk-toggleable\"><input class=\"sk-toggleable__control sk-hidden--visually\" id=\"sk-estimator-id-20\" type=\"checkbox\" checked><label for=\"sk-estimator-id-20\" class=\"sk-toggleable__label sk-toggleable__label-arrow\">RandomForestRegressor</label><div class=\"sk-toggleable__content\"><pre>RandomForestRegressor(n_estimators=10, random_state=0)</pre></div></div></div></div></div>"
            ]
          },
          "metadata": {},
          "execution_count": 119
        }
      ]
    },
    {
      "cell_type": "code",
      "source": [
        "from sklearn.metrics import r2_score\n",
        "r2_score(y,regressor.predict(X))"
      ],
      "metadata": {
        "colab": {
          "base_uri": "https://localhost:8080/"
        },
        "id": "e8rcO1LVwjv4",
        "outputId": "81ab9df4-48f1-4fe3-c6d4-10c2b59db4c0"
      },
      "execution_count": null,
      "outputs": [
        {
          "output_type": "execute_result",
          "data": {
            "text/plain": [
              "0.999972343093303"
            ]
          },
          "metadata": {},
          "execution_count": 120
        }
      ]
    },
    {
      "cell_type": "code",
      "source": [
        "my_dict= {\n",
        "    \"Linear Regression\":0.9995126613336639,\n",
        "    \"Multiple Regression\": 0.999930771167945,\n",
        "    \"Polynomial Regression\": 0.999930771167945,\n",
        "    \"SVR\": 0.99839553546944,\n",
        "    \"Decision Tree\": 1.0,\n",
        "    \"Random Forest\": 0.999972343093303\n",
        "}"
      ],
      "metadata": {
        "id": "on3ZZptoJ2mX"
      },
      "execution_count": 4,
      "outputs": []
    },
    {
      "cell_type": "code",
      "source": [
        "Series= pd.Series(my_dict)\n",
        "Series"
      ],
      "metadata": {
        "colab": {
          "base_uri": "https://localhost:8080/"
        },
        "id": "NVrmpW3tJ2y1",
        "outputId": "bf94bfaf-0c0e-4dac-9f20-a47622851ca9"
      },
      "execution_count": 6,
      "outputs": [
        {
          "output_type": "execute_result",
          "data": {
            "text/plain": [
              "Linear Regression        0.999513\n",
              "Multiple Regression      0.999931\n",
              "Polynomial Regression    0.999931\n",
              "SVR                      0.998396\n",
              "Decision Tree            1.000000\n",
              "Random Forest            0.999972\n",
              "dtype: float64"
            ]
          },
          "metadata": {},
          "execution_count": 6
        }
      ]
    },
    {
      "cell_type": "code",
      "source": [],
      "metadata": {
        "id": "YWDHwc4AKpoE"
      },
      "execution_count": null,
      "outputs": []
    }
  ]
}